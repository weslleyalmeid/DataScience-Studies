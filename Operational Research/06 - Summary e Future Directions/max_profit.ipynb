{
 "cells": [
  {
   "cell_type": "markdown",
   "id": "ad0866b0",
   "metadata": {},
   "source": [
    "# Problema 1"
   ]
  },
  {
   "cell_type": "markdown",
   "id": "d78971a4",
   "metadata": {},
   "source": [
    "You may produce seven products by consuming three materials. The unit sales price and material consumption of each product are listed in Table 1. For each day, the supply of these three materials are limited. The supply limits are listed in Table 2. For each day, you need to determine the production quantity for each product."
   ]
  },
  {
   "cell_type": "markdown",
   "id": "e0b70e74",
   "metadata": {},
   "source": [
    "#### Importando bibliotecas"
   ]
  },
  {
   "cell_type": "code",
   "execution_count": 2,
   "id": "89ed121d",
   "metadata": {},
   "outputs": [],
   "source": [
    "import pandas as pd\n",
    "import pyomo.environ as pyo\n",
    "import os\n",
    "from cyipopt import *"
   ]
  },
  {
   "cell_type": "markdown",
   "id": "db3f7ef3",
   "metadata": {},
   "source": [
    "#### Instanciando dados o problema"
   ]
  },
  {
   "cell_type": "code",
   "execution_count": 172,
   "id": "ab0b3dc8",
   "metadata": {},
   "outputs": [
    {
     "data": {
      "text/html": [
       "<div>\n",
       "<style scoped>\n",
       "    .dataframe tbody tr th:only-of-type {\n",
       "        vertical-align: middle;\n",
       "    }\n",
       "\n",
       "    .dataframe tbody tr th {\n",
       "        vertical-align: top;\n",
       "    }\n",
       "\n",
       "    .dataframe thead th {\n",
       "        text-align: right;\n",
       "    }\n",
       "</style>\n",
       "<table border=\"1\" class=\"dataframe\">\n",
       "  <thead>\n",
       "    <tr style=\"text-align: right;\">\n",
       "      <th></th>\n",
       "      <th>produtos</th>\n",
       "      <th>preco</th>\n",
       "      <th>material_1</th>\n",
       "      <th>material_2</th>\n",
       "      <th>material_3</th>\n",
       "    </tr>\n",
       "  </thead>\n",
       "  <tbody>\n",
       "    <tr>\n",
       "      <th>0</th>\n",
       "      <td>1</td>\n",
       "      <td>100</td>\n",
       "      <td>0</td>\n",
       "      <td>3</td>\n",
       "      <td>10</td>\n",
       "    </tr>\n",
       "    <tr>\n",
       "      <th>1</th>\n",
       "      <td>2</td>\n",
       "      <td>120</td>\n",
       "      <td>5</td>\n",
       "      <td>10</td>\n",
       "      <td>10</td>\n",
       "    </tr>\n",
       "    <tr>\n",
       "      <th>2</th>\n",
       "      <td>3</td>\n",
       "      <td>135</td>\n",
       "      <td>5</td>\n",
       "      <td>3</td>\n",
       "      <td>9</td>\n",
       "    </tr>\n",
       "    <tr>\n",
       "      <th>3</th>\n",
       "      <td>4</td>\n",
       "      <td>90</td>\n",
       "      <td>4</td>\n",
       "      <td>6</td>\n",
       "      <td>3</td>\n",
       "    </tr>\n",
       "    <tr>\n",
       "      <th>4</th>\n",
       "      <td>5</td>\n",
       "      <td>125</td>\n",
       "      <td>8</td>\n",
       "      <td>2</td>\n",
       "      <td>8</td>\n",
       "    </tr>\n",
       "    <tr>\n",
       "      <th>5</th>\n",
       "      <td>6</td>\n",
       "      <td>110</td>\n",
       "      <td>5</td>\n",
       "      <td>2</td>\n",
       "      <td>10</td>\n",
       "    </tr>\n",
       "    <tr>\n",
       "      <th>6</th>\n",
       "      <td>7</td>\n",
       "      <td>105</td>\n",
       "      <td>3</td>\n",
       "      <td>2</td>\n",
       "      <td>7</td>\n",
       "    </tr>\n",
       "  </tbody>\n",
       "</table>\n",
       "</div>"
      ],
      "text/plain": [
       "   produtos  preco  material_1  material_2  material_3\n",
       "0         1    100           0           3          10\n",
       "1         2    120           5          10          10\n",
       "2         3    135           5           3           9\n",
       "3         4     90           4           6           3\n",
       "4         5    125           8           2           8\n",
       "5         6    110           5           2          10\n",
       "6         7    105           3           2           7"
      ]
     },
     "execution_count": 172,
     "metadata": {},
     "output_type": "execute_result"
    }
   ],
   "source": [
    "df_p1t1 = pd.read_excel('06_quiz_data.xlsx', sheet_name='p1_t1')\n",
    "df_p1t1.columns = df_p1t1.columns.str.lower()\n",
    "df_p1t1"
   ]
  },
  {
   "cell_type": "code",
   "execution_count": 173,
   "id": "4df00f1f",
   "metadata": {},
   "outputs": [
    {
     "data": {
      "text/html": [
       "<div>\n",
       "<style scoped>\n",
       "    .dataframe tbody tr th:only-of-type {\n",
       "        vertical-align: middle;\n",
       "    }\n",
       "\n",
       "    .dataframe tbody tr th {\n",
       "        vertical-align: top;\n",
       "    }\n",
       "\n",
       "    .dataframe thead th {\n",
       "        text-align: right;\n",
       "    }\n",
       "</style>\n",
       "<table border=\"1\" class=\"dataframe\">\n",
       "  <thead>\n",
       "    <tr style=\"text-align: right;\">\n",
       "      <th></th>\n",
       "      <th>material</th>\n",
       "      <th>supply limit</th>\n",
       "    </tr>\n",
       "  </thead>\n",
       "  <tbody>\n",
       "    <tr>\n",
       "      <th>0</th>\n",
       "      <td>1</td>\n",
       "      <td>100</td>\n",
       "    </tr>\n",
       "    <tr>\n",
       "      <th>1</th>\n",
       "      <td>2</td>\n",
       "      <td>150</td>\n",
       "    </tr>\n",
       "    <tr>\n",
       "      <th>2</th>\n",
       "      <td>3</td>\n",
       "      <td>200</td>\n",
       "    </tr>\n",
       "  </tbody>\n",
       "</table>\n",
       "</div>"
      ],
      "text/plain": [
       "   material  supply limit\n",
       "0         1           100\n",
       "1         2           150\n",
       "2         3           200"
      ]
     },
     "execution_count": 173,
     "metadata": {},
     "output_type": "execute_result"
    }
   ],
   "source": [
    "df_p1t2 = pd.read_excel('06_quiz_data.xlsx', sheet_name='p1_t2')\n",
    "df_p1t2.columns = df_p1t2.columns.str.lower()\n",
    "df_p1t2"
   ]
  },
  {
   "cell_type": "markdown",
   "id": "a7491569",
   "metadata": {},
   "source": [
    "Formulate a linear integer program that generates a feasible production plan to maximize the total profit (which is also the total revenue, as there is no cost in this problem). Then write a computer program (e.g., using MS Excel solver) to solve this instance and obtain an optimal plan. Do not set the production quantities to be integer; leave them fractional. After you find an optimal solution and its objective value, write down the integer part of the objective value as your solution (i.e., rounding down that value to the closest integer)."
   ]
  },
  {
   "cell_type": "markdown",
   "id": "7cd49850",
   "metadata": {},
   "source": [
    "### Declarando o model"
   ]
  },
  {
   "cell_type": "markdown",
   "id": "3cbe6fb9",
   "metadata": {},
   "source": [
    "instanciando o model https://pyomo.readthedocs.io/en/stable/"
   ]
  },
  {
   "cell_type": "code",
   "execution_count": 174,
   "id": "0f0e0eab",
   "metadata": {},
   "outputs": [],
   "source": [
    "model = pyo.ConcreteModel()"
   ]
  },
  {
   "cell_type": "markdown",
   "id": "ff6090fa",
   "metadata": {},
   "source": [
    "extraindo lista de materiais disponíveis"
   ]
  },
  {
   "cell_type": "code",
   "execution_count": 175,
   "id": "f4a43048",
   "metadata": {},
   "outputs": [],
   "source": [
    "list_product = df_p1t1['produtos'].unique()\n",
    "list_material = df_p1t2['material'].unique()"
   ]
  },
  {
   "cell_type": "markdown",
   "id": "b29e699c",
   "metadata": {},
   "source": [
    "### Set"
   ]
  },
  {
   "cell_type": "markdown",
   "id": "fcf27cdb",
   "metadata": {},
   "source": [
    "declarando set (index) do model"
   ]
  },
  {
   "cell_type": "code",
   "execution_count": 176,
   "id": "96232a95",
   "metadata": {},
   "outputs": [],
   "source": [
    "model.product = pyo.Set(initialize=list_product, doc='Lista de produtos disponíveis')\n",
    "model.material = pyo.Set(initialize=list_material, doc='Lista de materiais disponíveis')"
   ]
  },
  {
   "cell_type": "markdown",
   "id": "48cb30f9",
   "metadata": {},
   "source": [
    "### Parâmetros"
   ]
  },
  {
   "cell_type": "markdown",
   "id": "d72bb302",
   "metadata": {},
   "source": [
    "#### Material"
   ]
  },
  {
   "cell_type": "code",
   "execution_count": 177,
   "id": "c0658600",
   "metadata": {},
   "outputs": [
    {
     "data": {
      "text/plain": [
       "{1: 100, 2: 150, 3: 200}"
      ]
     },
     "execution_count": 177,
     "metadata": {},
     "output_type": "execute_result"
    }
   ],
   "source": [
    "dict_max_volume = df_p1t2.set_index('material')['supply limit'].to_dict()\n",
    "dict_max_volume"
   ]
  },
  {
   "cell_type": "markdown",
   "id": "613c1471",
   "metadata": {},
   "source": [
    "**declarando parâmetros**"
   ]
  },
  {
   "cell_type": "code",
   "execution_count": 178,
   "id": "348372b0",
   "metadata": {},
   "outputs": [
    {
     "name": "stdout",
     "output_type": "stream",
     "text": [
      "supply_material : capacidade máxima de cada materal\n",
      "    Size=3, Index=material, Domain=Any, Default=None, Mutable=False\n",
      "    Key : Value\n",
      "      1 :   100\n",
      "      2 :   150\n",
      "      3 :   200\n"
     ]
    }
   ],
   "source": [
    "model.supply_material = pyo.Param(model.material, initialize=dict_max_volume, doc='capacidade máxima de cada materal')\n",
    "model.supply_material.display()"
   ]
  },
  {
   "cell_type": "markdown",
   "id": "02a875ee",
   "metadata": {},
   "source": [
    "#### Produtos"
   ]
  },
  {
   "cell_type": "code",
   "execution_count": 179,
   "id": "5ffa5b26",
   "metadata": {},
   "outputs": [],
   "source": [
    "new_itens = df_p1t1.set_index(['produtos'])\n",
    "dict_preco = new_itens['preco'].to_dict()\n",
    "dict_material_1 = new_itens['material_1'].to_dict()\n",
    "dict_material_2 = new_itens['material_2'].to_dict()\n",
    "dict_material_3 = new_itens['material_3'].to_dict()"
   ]
  },
  {
   "cell_type": "markdown",
   "id": "c92ccb6b",
   "metadata": {},
   "source": [
    "#### declarando parâmetros "
   ]
  },
  {
   "cell_type": "code",
   "execution_count": 181,
   "id": "edba4b8e",
   "metadata": {},
   "outputs": [],
   "source": [
    "model.preco = pyo.Param(model.product, initialize=dict_preco, doc='preco de cada produto ser escolhido')\n",
    "model.material_1 = pyo.Param(model.product, initialize=dict_material_1, doc='quantidade de material 1 que o produto requer')\n",
    "model.material_2 = pyo.Param(model.product, initialize=dict_material_2, doc='quantidade de material 2 que o produto requer')\n",
    "model.material_3 = pyo.Param(model.product, initialize=dict_material_3, doc='quantidade de material 3 que o produto requer')"
   ]
  },
  {
   "cell_type": "code",
   "execution_count": 182,
   "id": "6aac1df7",
   "metadata": {},
   "outputs": [
    {
     "name": "stdout",
     "output_type": "stream",
     "text": [
      "material_1 : quantidade de material 1 que o produto requer\n",
      "    Size=7, Index=product, Domain=Any, Default=None, Mutable=False\n",
      "    Key : Value\n",
      "      1 :     0\n",
      "      2 :     5\n",
      "      3 :     5\n",
      "      4 :     4\n",
      "      5 :     8\n",
      "      6 :     5\n",
      "      7 :     3\n"
     ]
    }
   ],
   "source": [
    "model.material_1.display()"
   ]
  },
  {
   "cell_type": "code",
   "execution_count": 183,
   "id": "7d200226",
   "metadata": {},
   "outputs": [
    {
     "name": "stdout",
     "output_type": "stream",
     "text": [
      "material_2 : quantidade de material 2 que o produto requer\n",
      "    Size=7, Index=product, Domain=Any, Default=None, Mutable=False\n",
      "    Key : Value\n",
      "      1 :     3\n",
      "      2 :    10\n",
      "      3 :     3\n",
      "      4 :     6\n",
      "      5 :     2\n",
      "      6 :     2\n",
      "      7 :     2\n"
     ]
    }
   ],
   "source": [
    "model.material_2.display()"
   ]
  },
  {
   "cell_type": "code",
   "execution_count": 184,
   "id": "363e9c53",
   "metadata": {},
   "outputs": [
    {
     "name": "stdout",
     "output_type": "stream",
     "text": [
      "material_3 : quantidade de material 3 que o produto requer\n",
      "    Size=7, Index=product, Domain=Any, Default=None, Mutable=False\n",
      "    Key : Value\n",
      "      1 :    10\n",
      "      2 :    10\n",
      "      3 :     9\n",
      "      4 :     3\n",
      "      5 :     8\n",
      "      6 :    10\n",
      "      7 :     7\n"
     ]
    }
   ],
   "source": [
    "model.material_3.display()"
   ]
  },
  {
   "cell_type": "markdown",
   "id": "1da1216a",
   "metadata": {},
   "source": [
    "### Variáveis"
   ]
  },
  {
   "cell_type": "markdown",
   "id": "514f5e63",
   "metadata": {},
   "source": [
    "decide se o item vai entrar na backpack"
   ]
  },
  {
   "cell_type": "code",
   "execution_count": 186,
   "id": "cdb4188b",
   "metadata": {},
   "outputs": [],
   "source": [
    "model.QTD_PRODUCT = pyo.Var(\n",
    "    model.product,\n",
    "    within=pyo.Reals,\n",
    "    bounds=(0, None),\n",
    "    doc='Variavel que indica a quantidade de produto produzido'\n",
    ")"
   ]
  },
  {
   "cell_type": "code",
   "execution_count": 187,
   "id": "3cde4fab",
   "metadata": {},
   "outputs": [
    {
     "name": "stdout",
     "output_type": "stream",
     "text": [
      "QTD_PRODUCT : Variavel que indica a quantidade de produto produzido\n",
      "    Size=7, Index=product\n",
      "    Key : Lower : Value : Upper : Fixed : Stale : Domain\n",
      "      1 :     0 :  None :  None : False :  True :  Reals\n",
      "      2 :     0 :  None :  None : False :  True :  Reals\n",
      "      3 :     0 :  None :  None : False :  True :  Reals\n",
      "      4 :     0 :  None :  None : False :  True :  Reals\n",
      "      5 :     0 :  None :  None : False :  True :  Reals\n",
      "      6 :     0 :  None :  None : False :  True :  Reals\n",
      "      7 :     0 :  None :  None : False :  True :  Reals\n"
     ]
    }
   ],
   "source": [
    "model.QTD_PRODUCT.display()"
   ]
  },
  {
   "cell_type": "markdown",
   "id": "ee1544d9",
   "metadata": {},
   "source": [
    "### Restrições"
   ]
  },
  {
   "cell_type": "markdown",
   "id": "5c34f4d6",
   "metadata": {},
   "source": [
    "respeitar a capacidade de material"
   ]
  },
  {
   "cell_type": "code",
   "execution_count": 188,
   "id": "00f49449",
   "metadata": {},
   "outputs": [],
   "source": [
    "model.del_component('limite_material_product')"
   ]
  },
  {
   "cell_type": "code",
   "execution_count": 189,
   "id": "4fa0d860",
   "metadata": {
    "scrolled": true
   },
   "outputs": [],
   "source": [
    "def limit_capacity_material(model, material):\n",
    "    if material == 1:\n",
    "        return (\n",
    "            sum(model.QTD_PRODUCT[product] * model.material_1[product] for product in model.product) <= model.supply_material[material]\n",
    "        )\n",
    "    elif material == 2:\n",
    "        return (\n",
    "            sum(model.QTD_PRODUCT[product] * model.material_2[product] for product in model.product) <= model.supply_material[material]\n",
    "        )\n",
    "    else:\n",
    "        return (\n",
    "            sum(model.QTD_PRODUCT[product] * model.material_3[product] for product in model.product) <= model.supply_material[material]\n",
    "        )\n",
    "\n",
    "model.limite_material_product = pyo.Constraint(model.material, rule=limit_capacity_material)"
   ]
  },
  {
   "cell_type": "markdown",
   "id": "0954e6fb",
   "metadata": {},
   "source": [
    "### Função Objetivo"
   ]
  },
  {
   "cell_type": "markdown",
   "id": "6fba076d",
   "metadata": {},
   "source": [
    "máximiza value dos produtos produzidos"
   ]
  },
  {
   "cell_type": "code",
   "execution_count": 190,
   "id": "bc7815e9",
   "metadata": {},
   "outputs": [],
   "source": [
    "def maximiza_value(model):\n",
    "    return sum(model.QTD_PRODUCT[product] * model.preco[product] for product in model.product)\n",
    "\n",
    "model.objetivo = pyo.Objective(rule=maximiza_value, sense=pyo.maximize)"
   ]
  },
  {
   "cell_type": "code",
   "execution_count": 191,
   "id": "8dc3ac45",
   "metadata": {},
   "outputs": [
    {
     "name": "stdout",
     "output_type": "stream",
     "text": [
      "objetivo : Size=1, Index=None, Active=True\n",
      "    Key  : Active : Sense    : Expression\n",
      "    None :   True : maximize : 100*QTD_PRODUCT[1] + 120*QTD_PRODUCT[2] + 135*QTD_PRODUCT[3] + 90*QTD_PRODUCT[4] + 125*QTD_PRODUCT[5] + 110*QTD_PRODUCT[6] + 105*QTD_PRODUCT[7]\n"
     ]
    }
   ],
   "source": [
    "model.objetivo.pprint()"
   ]
  },
  {
   "cell_type": "markdown",
   "id": "61361fa5",
   "metadata": {},
   "source": [
    "## Executando o model"
   ]
  },
  {
   "cell_type": "markdown",
   "id": "654b3e2d",
   "metadata": {},
   "source": [
    "### Escrevendo o model em arquivo lp"
   ]
  },
  {
   "cell_type": "code",
   "execution_count": 216,
   "id": "14ceb473",
   "metadata": {},
   "outputs": [
    {
     "data": {
      "text/plain": [
       "('models/problema_1.lp', 140593841696384)"
      ]
     },
     "execution_count": 216,
     "metadata": {},
     "output_type": "execute_result"
    }
   ],
   "source": [
    "model.write(os.path.join('models', 'problema_1.lp'), io_options={'symbolic_solver_labels': True})"
   ]
  },
  {
   "cell_type": "markdown",
   "id": "355ff84c",
   "metadata": {},
   "source": [
    "### Definindo solver"
   ]
  },
  {
   "cell_type": "code",
   "execution_count": 193,
   "id": "307f14ec",
   "metadata": {},
   "outputs": [],
   "source": [
    "opt = pyo.SolverFactory('glpk')"
   ]
  },
  {
   "cell_type": "markdown",
   "id": "994ecde8",
   "metadata": {},
   "source": [
    "### Resolvendo o model"
   ]
  },
  {
   "cell_type": "code",
   "execution_count": 194,
   "id": "ad0042a8",
   "metadata": {},
   "outputs": [
    {
     "data": {
      "text/plain": [
       "<TerminationCondition.optimal: 'optimal'>"
      ]
     },
     "execution_count": 194,
     "metadata": {},
     "output_type": "execute_result"
    }
   ],
   "source": [
    "results = opt.solve(model)\n",
    "results.solver.termination_condition"
   ]
  },
  {
   "cell_type": "code",
   "execution_count": 212,
   "id": "dbb0c5d6",
   "metadata": {},
   "outputs": [
    {
     "name": "stdout",
     "output_type": "stream",
     "text": [
      "objetivo : Size=1, Index=None, Active=True\n",
      "    Key  : Active : Value\n",
      "    None :   True : 3404.4585987261144\n"
     ]
    }
   ],
   "source": [
    "model.objetivo.display()"
   ]
  },
  {
   "cell_type": "markdown",
   "id": "01a02414",
   "metadata": {},
   "source": [
    "## Obtendo solução do problema"
   ]
  },
  {
   "cell_type": "markdown",
   "id": "2b8a2e16",
   "metadata": {},
   "source": [
    "### Extraindo dados para um dataframe"
   ]
  },
  {
   "cell_type": "code",
   "execution_count": 213,
   "id": "7aeae0c0",
   "metadata": {},
   "outputs": [
    {
     "data": {
      "text/html": [
       "<div>\n",
       "<style scoped>\n",
       "    .dataframe tbody tr th:only-of-type {\n",
       "        vertical-align: middle;\n",
       "    }\n",
       "\n",
       "    .dataframe tbody tr th {\n",
       "        vertical-align: top;\n",
       "    }\n",
       "\n",
       "    .dataframe thead th {\n",
       "        text-align: right;\n",
       "    }\n",
       "</style>\n",
       "<table border=\"1\" class=\"dataframe\">\n",
       "  <thead>\n",
       "    <tr style=\"text-align: right;\">\n",
       "      <th></th>\n",
       "      <th>produtos</th>\n",
       "      <th>preco</th>\n",
       "      <th>material_1</th>\n",
       "      <th>material_2</th>\n",
       "      <th>material_3</th>\n",
       "      <th>qtd_item</th>\n",
       "    </tr>\n",
       "  </thead>\n",
       "  <tbody>\n",
       "    <tr>\n",
       "      <th>0</th>\n",
       "      <td>1</td>\n",
       "      <td>100</td>\n",
       "      <td>0</td>\n",
       "      <td>3</td>\n",
       "      <td>10</td>\n",
       "      <td>7.961783</td>\n",
       "    </tr>\n",
       "    <tr>\n",
       "      <th>1</th>\n",
       "      <td>2</td>\n",
       "      <td>120</td>\n",
       "      <td>5</td>\n",
       "      <td>10</td>\n",
       "      <td>10</td>\n",
       "      <td>0.0</td>\n",
       "    </tr>\n",
       "    <tr>\n",
       "      <th>2</th>\n",
       "      <td>3</td>\n",
       "      <td>135</td>\n",
       "      <td>5</td>\n",
       "      <td>3</td>\n",
       "      <td>9</td>\n",
       "      <td>0.0</td>\n",
       "    </tr>\n",
       "    <tr>\n",
       "      <th>3</th>\n",
       "      <td>4</td>\n",
       "      <td>90</td>\n",
       "      <td>4</td>\n",
       "      <td>6</td>\n",
       "      <td>3</td>\n",
       "      <td>17.834395</td>\n",
       "    </tr>\n",
       "    <tr>\n",
       "      <th>4</th>\n",
       "      <td>5</td>\n",
       "      <td>125</td>\n",
       "      <td>8</td>\n",
       "      <td>2</td>\n",
       "      <td>8</td>\n",
       "      <td>0.0</td>\n",
       "    </tr>\n",
       "    <tr>\n",
       "      <th>5</th>\n",
       "      <td>6</td>\n",
       "      <td>110</td>\n",
       "      <td>5</td>\n",
       "      <td>2</td>\n",
       "      <td>10</td>\n",
       "      <td>0.0</td>\n",
       "    </tr>\n",
       "    <tr>\n",
       "      <th>6</th>\n",
       "      <td>7</td>\n",
       "      <td>105</td>\n",
       "      <td>3</td>\n",
       "      <td>2</td>\n",
       "      <td>7</td>\n",
       "      <td>9.55414</td>\n",
       "    </tr>\n",
       "  </tbody>\n",
       "</table>\n",
       "</div>"
      ],
      "text/plain": [
       "  produtos preco material_1 material_2 material_3   qtd_item\n",
       "0        1   100          0          3         10   7.961783\n",
       "1        2   120          5         10         10        0.0\n",
       "2        3   135          5          3          9        0.0\n",
       "3        4    90          4          6          3  17.834395\n",
       "4        5   125          8          2          8        0.0\n",
       "5        6   110          5          2         10        0.0\n",
       "6        7   105          3          2          7    9.55414"
      ]
     },
     "execution_count": 213,
     "metadata": {},
     "output_type": "execute_result"
    }
   ],
   "source": [
    "df_final = pd.DataFrame(columns = ['produtos', 'preco', 'material_1', 'material_2', 'material_3', 'qtd_item'])\n",
    "\n",
    "for product in model.product:\n",
    "\n",
    "    qtd_item = model.QTD_PRODUCT[product].value\n",
    "    preco = model.preco[product]\n",
    "    material_1 = model.material_1[product]\n",
    "    material_2 = model.material_2[product]\n",
    "    material_3 = model.material_3[product]\n",
    "\n",
    "    row = {\n",
    "        'produtos':product,\n",
    "        'preco':preco,\n",
    "        'material_1':material_1,\n",
    "        'material_2':material_2,\n",
    "        'material_3':material_3,\n",
    "        'qtd_item':qtd_item\n",
    "    }\n",
    "    \n",
    "    \n",
    "    df_intermediaro = pd.DataFrame([row])\n",
    "    \n",
    "    df_final = pd.concat([df_final, df_intermediaro], ignore_index=True)\n",
    "\n",
    "df_final"
   ]
  },
  {
   "cell_type": "code",
   "execution_count": 214,
   "id": "2cb9fa4d",
   "metadata": {},
   "outputs": [
    {
     "data": {
      "text/plain": [
       "3404.4585987261144"
      ]
     },
     "execution_count": 214,
     "metadata": {},
     "output_type": "execute_result"
    }
   ],
   "source": [
    "(\n",
    "    df_final\n",
    "    .query('qtd_item > 0')\n",
    "    .assign(mult = lambda x: x['preco'] * x['qtd_item'])\n",
    "    ['mult'].sum()\n",
    ")"
   ]
  },
  {
   "cell_type": "markdown",
   "id": "a2bfa315",
   "metadata": {},
   "source": [
    "# Problema 2"
   ]
  },
  {
   "cell_type": "markdown",
   "id": "ff8da56d",
   "metadata": {},
   "source": [
    "Consider a set of data $(x_{i}, y_{i}), i = 1, ..., n$, provided in Table 3. If we believe that $x_{i}$ and $y_{i}$​\n",
    "has a linear relationship, we may apply simple linear regression to fit these data to a linear model. More precisely, we try to find $\\alpha$ and $\\beta$ such that the straight line $y = \\alpha + \\beta*x$ minimizes the sum of squared errors for all the data points:\n",
    "\n",
    "$$\n",
    "\\underset{\\alpha, \\beta}{min} \\sum_{i=1}^{n}\\Bigl[ y_{i} - (\\alpha + \\beta x_{i})\\Bigr]^2\n",
    "$$"
   ]
  },
  {
   "cell_type": "code",
   "execution_count": 3,
   "id": "1196d960",
   "metadata": {},
   "outputs": [
    {
     "data": {
      "text/html": [
       "<div>\n",
       "<style scoped>\n",
       "    .dataframe tbody tr th:only-of-type {\n",
       "        vertical-align: middle;\n",
       "    }\n",
       "\n",
       "    .dataframe tbody tr th {\n",
       "        vertical-align: top;\n",
       "    }\n",
       "\n",
       "    .dataframe thead th {\n",
       "        text-align: right;\n",
       "    }\n",
       "</style>\n",
       "<table border=\"1\" class=\"dataframe\">\n",
       "  <thead>\n",
       "    <tr style=\"text-align: right;\">\n",
       "      <th></th>\n",
       "      <th>x</th>\n",
       "      <th>y</th>\n",
       "    </tr>\n",
       "  </thead>\n",
       "  <tbody>\n",
       "    <tr>\n",
       "      <th>0</th>\n",
       "      <td>38</td>\n",
       "      <td>137</td>\n",
       "    </tr>\n",
       "    <tr>\n",
       "      <th>1</th>\n",
       "      <td>56</td>\n",
       "      <td>201</td>\n",
       "    </tr>\n",
       "    <tr>\n",
       "      <th>2</th>\n",
       "      <td>50</td>\n",
       "      <td>152</td>\n",
       "    </tr>\n",
       "    <tr>\n",
       "      <th>3</th>\n",
       "      <td>52</td>\n",
       "      <td>107</td>\n",
       "    </tr>\n",
       "    <tr>\n",
       "      <th>4</th>\n",
       "      <td>37</td>\n",
       "      <td>150</td>\n",
       "    </tr>\n",
       "    <tr>\n",
       "      <th>5</th>\n",
       "      <td>60</td>\n",
       "      <td>173</td>\n",
       "    </tr>\n",
       "    <tr>\n",
       "      <th>6</th>\n",
       "      <td>67</td>\n",
       "      <td>194</td>\n",
       "    </tr>\n",
       "    <tr>\n",
       "      <th>7</th>\n",
       "      <td>54</td>\n",
       "      <td>166</td>\n",
       "    </tr>\n",
       "    <tr>\n",
       "      <th>8</th>\n",
       "      <td>59</td>\n",
       "      <td>154</td>\n",
       "    </tr>\n",
       "    <tr>\n",
       "      <th>9</th>\n",
       "      <td>43</td>\n",
       "      <td>137</td>\n",
       "    </tr>\n",
       "    <tr>\n",
       "      <th>10</th>\n",
       "      <td>30</td>\n",
       "      <td>38</td>\n",
       "    </tr>\n",
       "    <tr>\n",
       "      <th>11</th>\n",
       "      <td>53</td>\n",
       "      <td>193</td>\n",
       "    </tr>\n",
       "    <tr>\n",
       "      <th>12</th>\n",
       "      <td>59</td>\n",
       "      <td>154</td>\n",
       "    </tr>\n",
       "    <tr>\n",
       "      <th>13</th>\n",
       "      <td>40</td>\n",
       "      <td>175</td>\n",
       "    </tr>\n",
       "    <tr>\n",
       "      <th>14</th>\n",
       "      <td>65</td>\n",
       "      <td>247</td>\n",
       "    </tr>\n",
       "  </tbody>\n",
       "</table>\n",
       "</div>"
      ],
      "text/plain": [
       "     x    y\n",
       "0   38  137\n",
       "1   56  201\n",
       "2   50  152\n",
       "3   52  107\n",
       "4   37  150\n",
       "5   60  173\n",
       "6   67  194\n",
       "7   54  166\n",
       "8   59  154\n",
       "9   43  137\n",
       "10  30   38\n",
       "11  53  193\n",
       "12  59  154\n",
       "13  40  175\n",
       "14  65  247"
      ]
     },
     "execution_count": 3,
     "metadata": {},
     "output_type": "execute_result"
    }
   ],
   "source": [
    "df_p2t3 = pd.read_excel('06_quiz_data.xlsx', sheet_name='p2_t3')\n",
    "df_p2t3"
   ]
  },
  {
   "cell_type": "markdown",
   "id": "179fabd9",
   "metadata": {},
   "source": [
    "While almost all statistical software and packages provide tools for one to solve the above linear regression problem, we may also consider it as a nonlinear program and solve it with an optimization solver (e.g., MS Excel solver). For the data provided in the following table, solve the linear regression problem. Write down the optimal \\betaβ you find by rounding it to the first digit after the decimal point (e.g., 9.011, 1.229, and 3.245 should be rounded to 9.01, 1.23, and 3.25 to be written down)."
   ]
  },
  {
   "cell_type": "code",
   "execution_count": 4,
   "id": "9e266bb4",
   "metadata": {},
   "outputs": [],
   "source": [
    "model = pyo.ConcreteModel()"
   ]
  },
  {
   "cell_type": "code",
   "execution_count": 5,
   "id": "5a34a98c",
   "metadata": {},
   "outputs": [],
   "source": [
    "model.x = df_p2t3['x'].unique()\n",
    "model.y = df_p2t3['y'].unique()"
   ]
  },
  {
   "cell_type": "code",
   "execution_count": 6,
   "id": "d56dbeba",
   "metadata": {},
   "outputs": [],
   "source": [
    "model.a = pyo.Var(within=pyo.Reals)\n",
    "model.b = pyo.Var(within=pyo.Reals)"
   ]
  },
  {
   "cell_type": "code",
   "execution_count": 7,
   "id": "cd59cb10",
   "metadata": {},
   "outputs": [],
   "source": [
    "def minimize_value(model):\n",
    "    return sum((y - (model.a + model.b*x))**2 for x, y in zip(model.x, model.y))\n",
    "\n",
    "model.objetivo = pyo.Objective(rule=minimize_value, sense=pyo.minimize)"
   ]
  },
  {
   "cell_type": "code",
   "execution_count": 8,
   "id": "ec3ecbb7",
   "metadata": {},
   "outputs": [
    {
     "name": "stdout",
     "output_type": "stream",
     "text": [
      "objetivo : Size=1, Index=None, Active=True\n",
      "    Key  : Active : Sense    : Expression\n",
      "    None :   True : minimize : (137 - (a + 38*b))**2 + (201 - (a + 56*b))**2 + (152 - (a + 50*b))**2 + (107 - (a + 52*b))**2 + (150 - (a + 37*b))**2 + (173 - (a + 60*b))**2 + (194 - (a + 67*b))**2 + (166 - (a + 54*b))**2 + (154 - (a + 59*b))**2 + (38 - (a + 43*b))**2 + (193 - (a + 30*b))**2 + (175 - (a + 53*b))**2 + (247 - (a + 40*b))**2\n"
     ]
    }
   ],
   "source": [
    "model.objetivo.pprint()"
   ]
  },
  {
   "cell_type": "code",
   "execution_count": 9,
   "id": "46b4f456",
   "metadata": {},
   "outputs": [
    {
     "name": "stdout",
     "output_type": "stream",
     "text": [
      "WARNING: Empty constraint block written in LP format - solver may error\n"
     ]
    },
    {
     "data": {
      "text/plain": [
       "('models/problema_2.lp', 140658600536720)"
      ]
     },
     "execution_count": 9,
     "metadata": {},
     "output_type": "execute_result"
    }
   ],
   "source": [
    "model.write(os.path.join('models', 'problema_2.lp'), io_options={'symbolic_solver_labels': True})"
   ]
  },
  {
   "cell_type": "code",
   "execution_count": 12,
   "id": "a140d519",
   "metadata": {},
   "outputs": [],
   "source": [
    "opt.options['tol'] = 5\n",
    "opt.options['print_level'] = 12\n",
    "\n",
    "opt = pyo.SolverFactory('ipopt')"
   ]
  },
  {
   "cell_type": "code",
   "execution_count": 14,
   "id": "4e245146",
   "metadata": {},
   "outputs": [
    {
     "name": "stdout",
     "output_type": "stream",
     "text": [
      "ERROR: Solver (ipopt) returned non-zero return code (127)\n",
      "ERROR: Solver log: /usr/local/bin/ipopt: error while loading shared libraries:\n",
      "    libipopt.so.3: cannot open shared object file: No such file or directory\n"
     ]
    },
    {
     "ename": "ApplicationError",
     "evalue": "Solver (ipopt) did not exit normally",
     "output_type": "error",
     "traceback": [
      "\u001b[0;31m---------------------------------------------------------------------------\u001b[0m",
      "\u001b[0;31mApplicationError\u001b[0m                          Traceback (most recent call last)",
      "\u001b[1;32m/home/weslley/Desktop/DataScience-Studies/Operational Research/06 - Summary e Future Directions/max_profit.ipynb Cell 64'\u001b[0m in \u001b[0;36m<cell line: 1>\u001b[0;34m()\u001b[0m\n\u001b[0;32m----> <a href='vscode-notebook-cell:/home/weslley/Desktop/DataScience-Studies/Operational%20Research/06%20-%20Summary%20e%20Future%20Directions/max_profit.ipynb#ch0000063?line=0'>1</a>\u001b[0m results \u001b[39m=\u001b[39m opt\u001b[39m.\u001b[39;49msolve(model)\n\u001b[1;32m      <a href='vscode-notebook-cell:/home/weslley/Desktop/DataScience-Studies/Operational%20Research/06%20-%20Summary%20e%20Future%20Directions/max_profit.ipynb#ch0000063?line=1'>2</a>\u001b[0m results\u001b[39m.\u001b[39msolver\u001b[39m.\u001b[39mtermination_condition\n",
      "File \u001b[0;32m~/miniconda3/lib/python3.8/site-packages/pyomo/opt/base/solvers.py:596\u001b[0m, in \u001b[0;36mOptSolver.solve\u001b[0;34m(self, *args, **kwds)\u001b[0m\n\u001b[1;32m    <a href='file:///home/weslley/miniconda3/lib/python3.8/site-packages/pyomo/opt/base/solvers.py?line=593'>594</a>\u001b[0m     \u001b[39melif\u001b[39;00m \u001b[39mhasattr\u001b[39m(_status, \u001b[39m'\u001b[39m\u001b[39mlog\u001b[39m\u001b[39m'\u001b[39m) \u001b[39mand\u001b[39;00m _status\u001b[39m.\u001b[39mlog:\n\u001b[1;32m    <a href='file:///home/weslley/miniconda3/lib/python3.8/site-packages/pyomo/opt/base/solvers.py?line=594'>595</a>\u001b[0m         logger\u001b[39m.\u001b[39merror(\u001b[39m\"\u001b[39m\u001b[39mSolver log:\u001b[39m\u001b[39m\\n\u001b[39;00m\u001b[39m\"\u001b[39m \u001b[39m+\u001b[39m \u001b[39mstr\u001b[39m(_status\u001b[39m.\u001b[39mlog))\n\u001b[0;32m--> <a href='file:///home/weslley/miniconda3/lib/python3.8/site-packages/pyomo/opt/base/solvers.py?line=595'>596</a>\u001b[0m     \u001b[39mraise\u001b[39;00m ApplicationError(\n\u001b[1;32m    <a href='file:///home/weslley/miniconda3/lib/python3.8/site-packages/pyomo/opt/base/solvers.py?line=596'>597</a>\u001b[0m         \u001b[39m\"\u001b[39m\u001b[39mSolver (\u001b[39m\u001b[39m%s\u001b[39;00m\u001b[39m) did not exit normally\u001b[39m\u001b[39m\"\u001b[39m \u001b[39m%\u001b[39m \u001b[39mself\u001b[39m\u001b[39m.\u001b[39mname)\n\u001b[1;32m    <a href='file:///home/weslley/miniconda3/lib/python3.8/site-packages/pyomo/opt/base/solvers.py?line=597'>598</a>\u001b[0m solve_completion_time \u001b[39m=\u001b[39m time\u001b[39m.\u001b[39mtime()\n\u001b[1;32m    <a href='file:///home/weslley/miniconda3/lib/python3.8/site-packages/pyomo/opt/base/solvers.py?line=598'>599</a>\u001b[0m \u001b[39mif\u001b[39;00m \u001b[39mself\u001b[39m\u001b[39m.\u001b[39m_report_timing:\n",
      "\u001b[0;31mApplicationError\u001b[0m: Solver (ipopt) did not exit normally"
     ]
    }
   ],
   "source": [
    "results = opt.solve(model)\n",
    "results.solver.termination_condition"
   ]
  },
  {
   "cell_type": "code",
   "execution_count": null,
   "id": "327e8dc0",
   "metadata": {},
   "outputs": [],
   "source": [
    "model.objetivo.display()"
   ]
  }
 ],
 "metadata": {
  "interpreter": {
   "hash": "deda3053ce4948ebb7283c99ed60c1c999efb83163571c7a8e5f9fd6f8c3b7fc"
  },
  "kernelspec": {
   "display_name": "Python 3.8.12 ('base')",
   "language": "python",
   "name": "python3"
  },
  "language_info": {
   "codemirror_mode": {
    "name": "ipython",
    "version": 3
   },
   "file_extension": ".py",
   "mimetype": "text/x-python",
   "name": "python",
   "nbconvert_exporter": "python",
   "pygments_lexer": "ipython3",
   "version": "3.8.12"
  }
 },
 "nbformat": 4,
 "nbformat_minor": 5
}
