{
 "cells": [
  {
   "cell_type": "markdown",
   "metadata": {},
   "source": [
    "# Projeto Machine Learning"
   ]
  },
  {
   "cell_type": "markdown",
   "metadata": {},
   "source": [
    "**Objetivo**: Através dos Dados do Censo detectar se a renda da pessoa excede o valor de 50 mil por ano.\n",
    "\n",
    "**Habilidades Avaliadas**: \n",
    "* Técnicas de Transformação e Preparação de dados\n",
    "* Aplicação, Avaliação e Tunning de Modelos de Machine Learning para Classificação."
   ]
  },
  {
   "cell_type": "markdown",
   "metadata": {},
   "source": [
    "**Dataset**: O conjunto de dados para este projeto é originário do Repositório de Aprendizado de Máquina da UCI (https://archive.ics.uci.edu/ml/datasets/Adult)"
   ]
  },
  {
   "cell_type": "code",
   "execution_count": null,
   "metadata": {},
   "outputs": [],
   "source": [
    "import pandas as pd"
   ]
  },
  {
   "cell_type": "code",
   "execution_count": null,
   "metadata": {},
   "outputs": [],
   "source": [
    "df = pd.read_csv('adult.data')"
   ]
  },
  {
   "cell_type": "markdown",
   "metadata": {},
   "source": [
    "## Conhecendo a Base de Dados"
   ]
  },
  {
   "cell_type": "code",
   "execution_count": null,
   "metadata": {
    "scrolled": true
   },
   "outputs": [],
   "source": [
    "df.head()"
   ]
  },
  {
   "cell_type": "code",
   "execution_count": null,
   "metadata": {},
   "outputs": [],
   "source": [
    "df.count()"
   ]
  },
  {
   "cell_type": "markdown",
   "metadata": {},
   "source": [
    "## Colunas do Dataset"
   ]
  },
  {
   "cell_type": "markdown",
   "metadata": {},
   "source": [
    "**age**: Idade.\n",
    "\n",
    "**workclass**: Classe trabalhadora. Se a pessoa é funcionário público, autônomo, empresário etc.\n",
    "\n",
    "**education**: Níveis de Escolaridade.\n",
    "\n",
    "**education-num**: Código do Nível de Escolaridade.\n",
    "\n",
    "**marital-status**: Estado Civil.\n",
    "\n",
    "**occupation**: Ocupação (Suporte técnico, Conserto de arte, Outros serviços, Vendas, Exec-managerial, Prof-specialty, Manipuladores de limpeza, Machine-op-inspct, Adm-clerical, Pesca agropecuária, Transport-moving, Priv-house-serv, Serviço de Proteção, Forças Armadas)\n",
    "\n",
    "**relationship**: Relacionamento (Esposa, Filha Própria, Marido, Não-familiar, Outro-parente, Solteira.)\n",
    "\n",
    "**race**: Raça (Preto, branco, asiático-Pac-Islander, Amer-Indian-Eskimo, Outro.)\n",
    "\n",
    "**sex**: Sexo(Feminino, Masculino).\n",
    "\n",
    "**capital-gain**: Ganho de Capital.\n",
    "\n",
    "**capital-loss**: Perda de Capital.\n",
    "\n",
    "**hours-per-week**: Horas de trabalho por Semana.\n",
    "\n",
    "**native-country**: País Nativo (Estados Unidos, Camboja, Inglaterra, Porto Rico, Canadá, Alemanha, EUA (Guam-USVI-etc), Índia, México, Portugal etc)"
   ]
  },
  {
   "cell_type": "markdown",
   "metadata": {},
   "source": [
    "# Tarefas"
   ]
  },
  {
   "cell_type": "markdown",
   "metadata": {},
   "source": [
    "####  <span style=\"color:Blue\">  Análise Exploratória </span>\n",
    "1) Faça análise exploratória na base de dados e tente responder as seguintes questões:\n",
    "\n",
    "* **a)** Visualize a distribuição das classes (variável income).\n",
    "* **b)** Visualize a distribuição das classes por Nível de Escolaridade.\n",
    "* **c)** Visualize a relação (scatter) das colunas age,sex e race com a coluna income.\n",
    "\n",
    "**Como fazer?**\n",
    "\n",
    "Para isso, você precisa como pré-requisito o conhecimento de Python e Pandas que são mostrados nos capítulos **Dominando o Python** e **Python para Análise de Dados**. \n",
    "\n",
    "Nas aulas de Pandas assista principalmente a parte onde é exibida a integração com Matplotlib."
   ]
  },
  {
   "cell_type": "markdown",
   "metadata": {},
   "source": [
    "####  <span style=\"color:Blue\">  Verificação e Análise de Dados </span>\n",
    "2) Faça uma análise e pre-processamento nos dados:\n",
    "\n",
    "* **a)** Verifique se existem dados missing.\n",
    "* **b)** Converta colunas categóricas para numéricas usando **LabelEnconder** ou **OneHotEnconder**.\n",
    "* **c)** Explique qual técnica de conversão você usou e por quê."
   ]
  },
  {
   "cell_type": "markdown",
   "metadata": {},
   "source": [
    "**Como fazer?**\n",
    "\n",
    "Para visualizar dados missing consulte o capítulo **Python para Análise de Dados**.\n",
    "\n",
    "Para converter dados categóricos veja as seguintes aulas sobre LabelEncoder e One Hot Enconder no Capítulo de Machine Learning:\n",
    "* **SVM - Criando um Classificador de Músicas do Spotify - Aula 07**\n",
    "\n",
    "> Através do exemplo prático mostramos como funciona a técnica Label Encoding com suas vantagens e desvantagens e como aplicar na base de dados.\n",
    "\n",
    "* **SVM - Processando Dados Categóricos com o One hot Enconding- Aula 08**\n",
    "> Nesta aula você irá entender os conceitos do One Hot Encoding e as alterações que serão feitas na base de dados.\n",
    "\n",
    "* **SVM - Aplicando o Get Dummies nos Dados - Aula 09**\n",
    "> Por fim, na aula 09 aplicamos o One Hot Enconding na base de dados utilizando o método get_dummies() conforme cobrado no exemplo acima."
   ]
  },
  {
   "cell_type": "markdown",
   "metadata": {},
   "source": [
    "####  <span style=\"color:Blue\">  Pré-processamento de Dados </span>\n",
    "\n",
    "3) Faça um pré-processamento nos dados antes de aplicar os algoritmos de Machine learning.\n",
    "\n",
    "* **a)** Aplique algum padronizador ou normalizador nos dados numéricos.\n",
    "* **b)** Explique qual técnica você usou e por quê.\n",
    "\n",
    "**Como Fazer?**\n",
    "\n",
    "Nesta etapa são feitas transformações nos atributos númericos para evitar que os algoritmos de Machine Learning sofram com diferentes escalas de valores e produzam resultados ruins.\n",
    "\n",
    "Explicamos essas tranformações em detalhes no capítulo **Pré-Processamento de Dados**. \n",
    "\n",
    "Aprendemos o funcionamento e aplicação do **MinMax Scaler**, **Standard Scaler**, **Normalizer** etc.\n",
    "\n",
    "Assista essas aulas e aplique alguma das técnicas citadas acima."
   ]
  },
  {
   "cell_type": "markdown",
   "metadata": {},
   "source": [
    "####  <span style=\"color:Blue\">  Classificação e Avaliação de Modelos </span>\n",
    "\n",
    "4) Treine pelo menos dois algoritmos supervisionados voltados para tarefas de classificação.\n",
    "\n",
    "* **a)** Avalie os modelos separando os dados de **treino** e **teste** (use train_test_split).\n",
    "* **b)** Avalie os modelos usando **Cross Validation** (Crie uma função para repetir menos código).\n",
    "* **c)** Explique a diferença entre de cada uma das abordagens acima com suas vantagens e desvantagens.\n",
    "* **d)** Imprima os resultados para cada modelo e abordagem de avaliação utilizando as métricas **Precisão**, **Recall** e **F1 Score**.\n",
    "\n",
    "**Como fazer?**\n",
    "\n",
    "Todos os requisitos necessários para completar as etapas dessa tarefa se encontram no capítulo de Machine Learning.\n",
    "\n",
    "Para o entendimento completo das **Técnicas de Avaliação de Modelos** cobradas, veja as aulas:\n",
    "* **Machine Learning  - Métricas de Avaliação de Modelos** \n",
    "* **Machine Learning  - Entendendo o que é a Matriz de Confusão**."
   ]
  },
  {
   "cell_type": "markdown",
   "metadata": {},
   "source": [
    "####  <span style=\"color:Blue\"> Tunning do Modelo </span>\n",
    "\n",
    "5) Faça um Tunning dos modelos e verifique o melhor resultado.\n",
    "\n",
    "* Defina os melhores Hyperparametros para os algoritmos utilizando o GridSearch.\n",
    "* Implemente usando Pipelines.\n",
    "* Avalie os modelos usando **Cross Validation** (Utilize o recuso já integrado ao Pipeline).\n",
    "\n",
    "**Como fazer?**\n",
    "\n",
    "Consulte o capítulo **Machine Learning** e utilize o recurso de **GridSearch**.\n",
    "\n",
    "Veja as aulas sobre **Pipelines** e **Métricas de Avaliação de Modelos**."
   ]
  },
  {
   "cell_type": "markdown",
   "metadata": {},
   "source": [
    "* **Dúvidas?**\n",
    "\n",
    "Deixe um comentário aqui nessa aula. "
   ]
  }
 ],
 "metadata": {
  "kernelspec": {
   "display_name": "Python 3",
   "language": "python",
   "name": "python3"
  },
  "language_info": {
   "codemirror_mode": {
    "name": "ipython",
    "version": 3
   },
   "file_extension": ".py",
   "mimetype": "text/x-python",
   "name": "python",
   "nbconvert_exporter": "python",
   "pygments_lexer": "ipython3",
   "version": "3.7.6"
  }
 },
 "nbformat": 4,
 "nbformat_minor": 2
}
