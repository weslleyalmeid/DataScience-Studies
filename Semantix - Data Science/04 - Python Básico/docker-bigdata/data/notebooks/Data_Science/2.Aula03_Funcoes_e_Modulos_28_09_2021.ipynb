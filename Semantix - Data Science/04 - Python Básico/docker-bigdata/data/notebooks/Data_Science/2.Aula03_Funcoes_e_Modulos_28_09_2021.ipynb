{
 "cells": [
  {
   "cell_type": "markdown",
   "metadata": {},
   "source": [
    "**Autor** : Seu nome\n",
    "\n",
    "**e-mail**: seu.email@semantix.com"
   ]
  },
  {
   "cell_type": "markdown",
   "metadata": {},
   "source": [
    "#  <a name=\"resumo\"> RESUMO </a>"
   ]
  },
  {
   "cell_type": "markdown",
   "metadata": {},
   "source": [
    "Este notebook tem o objetivo de mostrar como criamos nossos módulos customizados e o uso deles nos códigos"
   ]
  },
  {
   "cell_type": "markdown",
   "metadata": {},
   "source": [
    "#  <a name=\"indice\">  Índice </a>"
   ]
  },
  {
   "cell_type": "markdown",
   "metadata": {
    "tags": [
     "indice"
    ]
   },
   "source": [
    "* [Resumo](#resumo)\n",
    "* [Índice](#indice)\n",
    "* [Seção 1 - Módulo para ordenação de uma lista](#secao_1)\n",
    "* [Seção 2 - Criando Testes Unitários](#secao_2)\n",
    "* [Seção 3 - Criando Logs referente ao Módulo](#secao_3)\n",
    "* [Seção 4 - Decorators](#secao_4)\n",
    "* [Seção 5](#secao_5)\n",
    "* [Conclusão](#conclusao)"
   ]
  },
  {
   "cell_type": "markdown",
   "metadata": {},
   "source": [
    "#  <a name=\"secao_1\"> Seção 1 - Módulo para ordenação de uma lista</a>\n",
    "[Voltar ao índice](#indice)"
   ]
  },
  {
   "cell_type": "markdown",
   "metadata": {},
   "source": [
    "Vamos colocar as funções criadas no exercício da Aula 1 em um módulo separado"
   ]
  },
  {
   "cell_type": "raw",
   "metadata": {},
   "source": [
    "def verifica_ja_ordenou(lista):\n",
    "    \n",
    "    flag = True\n",
    "    \n",
    "    for i in range(len(lista)-1):\n",
    "        if lista[i+1]<lista[i]:\n",
    "            flag=False\n",
    "    \n",
    "    return flag\n",
    "    \n",
    "def semi_ordena_inteiros(lista):\n",
    "    ordenado = []\n",
    "    \n",
    "    for i in range(len(lista)-1):\n",
    "        if lista[i]<=lista[i+1]:\n",
    "            ordenado.append(lista[i])\n",
    "        else:\n",
    "            ordenado.append(lista[i+1])\n",
    "            ordenado.append(lista[i])\n",
    "            ordenado = ordenado +lista[i+2:]\n",
    "            break\n",
    "    \n",
    "    return ordenado\n",
    "\n",
    "def ordena_inteiros(lista,maximo=60):\n",
    "    \n",
    "    ordenado = lista\n",
    "    \n",
    "    for i in range(maximo):\n",
    "        ordenado = semi_ordena_inteiros(ordenado)\n",
    "        if verifica_ja_ordenou(ordenado):\n",
    "            break\n",
    "            print(ordenado)    \n",
    "    return ordenado"
   ]
  },
  {
   "cell_type": "code",
   "execution_count": 1,
   "metadata": {},
   "outputs": [],
   "source": [
    "from numpy.random import randint\n",
    "from importlib import reload"
   ]
  },
  {
   "cell_type": "code",
   "execution_count": 2,
   "metadata": {},
   "outputs": [],
   "source": [
    "inteiros_15 = list(randint(10,size=15))"
   ]
  },
  {
   "cell_type": "code",
   "execution_count": 3,
   "metadata": {},
   "outputs": [
    {
     "data": {
      "text/plain": [
       "[7, 6, 0, 7, 4, 0, 5, 6, 0, 9, 7, 5, 6, 2, 5]"
      ]
     },
     "execution_count": 3,
     "metadata": {},
     "output_type": "execute_result"
    }
   ],
   "source": [
    "inteiros_15"
   ]
  },
  {
   "cell_type": "code",
   "execution_count": 4,
   "metadata": {},
   "outputs": [],
   "source": [
    "from ordenador import ordenador_listas as ol"
   ]
  },
  {
   "cell_type": "code",
   "execution_count": 5,
   "metadata": {},
   "outputs": [
    {
     "data": {
      "text/plain": [
       "[0, 0, 0, 2, 4, 5, 5, 5, 6, 6, 6, 7, 7, 7, 9]"
      ]
     },
     "execution_count": 5,
     "metadata": {},
     "output_type": "execute_result"
    }
   ],
   "source": [
    "ol.ordena_inteiros(inteiros_15)"
   ]
  },
  {
   "cell_type": "code",
   "execution_count": 6,
   "metadata": {},
   "outputs": [
    {
     "data": {
      "text/plain": [
       "<module 'ordenador.ordenador_listas' from 'C:\\\\Users\\\\Hader Azzini\\\\Desktop\\\\teste_anaconda\\\\ordenador\\\\ordenador_listas.py'>"
      ]
     },
     "execution_count": 6,
     "metadata": {},
     "output_type": "execute_result"
    }
   ],
   "source": [
    "reload(ol)"
   ]
  },
  {
   "cell_type": "markdown",
   "metadata": {},
   "source": [
    "#  <a name=\"secao_2\"> Seção 2 - Criando Testes Unitários</a>\n",
    "[Voltar ao índice](#indice)"
   ]
  },
  {
   "cell_type": "markdown",
   "metadata": {},
   "source": [
    "Ref: https://docs.python.org/3/library/unittest.html"
   ]
  },
  {
   "cell_type": "markdown",
   "metadata": {},
   "source": [
    "### Estrutura de Pastas para executar testes\n",
    "\n",
    "Ref: https://stackoverflow.com/questions/1896918/running-unittest-with-typical-test-directory-structure"
   ]
  },
  {
   "cell_type": "raw",
   "metadata": {},
   "source": [
    "new_project\n",
    "├── antigravity.py\n",
    "└── test_antigravity.py"
   ]
  },
  {
   "cell_type": "markdown",
   "metadata": {},
   "source": [
    "> python -m unittest test_antigravity"
   ]
  },
  {
   "cell_type": "raw",
   "metadata": {},
   "source": [
    "new_project\n",
    "├── antigravity\n",
    "│   ├── __init__.py         # make it a package\n",
    "│   └── antigravity.py\n",
    "└── test\n",
    "    ├── __init__.py         # also make test a package\n",
    "    └── test_antigravity.py"
   ]
  },
  {
   "cell_type": "raw",
   "metadata": {},
   "source": [
    "python -m unittest test.test_antigravity # testes de um módulo\n",
    "python -m unittest test.test_antigravity.GravityTestCase # Um único teste\n",
    "python -m unittest discover #Todos os testes"
   ]
  },
  {
   "cell_type": "code",
   "execution_count": 7,
   "metadata": {},
   "outputs": [
    {
     "name": "stderr",
     "output_type": "stream",
     "text": [
      "..\n",
      "----------------------------------------------------------------------\n",
      "Ran 2 tests in 0.013s\n",
      "\n",
      "OK\n"
     ]
    }
   ],
   "source": [
    "! python -m unittest test.test_ordenador_listas"
   ]
  },
  {
   "cell_type": "code",
   "execution_count": 8,
   "metadata": {},
   "outputs": [
    {
     "name": "stderr",
     "output_type": "stream",
     "text": [
      ".\n",
      "----------------------------------------------------------------------\n",
      "Ran 1 test in 0.003s\n",
      "\n",
      "OK\n"
     ]
    }
   ],
   "source": [
    "! python -m unittest test.test_ordenador_listas.TestOrdenadorListas.test_verifica_ja_ordenou"
   ]
  },
  {
   "cell_type": "code",
   "execution_count": 9,
   "metadata": {},
   "outputs": [
    {
     "name": "stderr",
     "output_type": "stream",
     "text": [
      "..\n",
      "----------------------------------------------------------------------\n",
      "Ran 2 tests in 0.013s\n",
      "\n",
      "OK\n"
     ]
    }
   ],
   "source": [
    "! python -m unittest discover"
   ]
  },
  {
   "cell_type": "markdown",
   "metadata": {},
   "source": [
    "#  <a name=\"secao_3\"> Seção 3 - Criando Logs referente ao Módulo </a>\n",
    "[Voltar ao índice](#indice)"
   ]
  },
  {
   "cell_type": "markdown",
   "metadata": {},
   "source": [
    "Ref: https://docs.python.org/pt-br/3/howto/logging.html"
   ]
  },
  {
   "cell_type": "code",
   "execution_count": 10,
   "metadata": {
    "scrolled": true
   },
   "outputs": [
    {
     "data": {
      "text/plain": [
       "<module 'ordenador.ordenador_listas' from 'C:\\\\Users\\\\Hader Azzini\\\\Desktop\\\\teste_anaconda\\\\ordenador\\\\ordenador_listas.py'>"
      ]
     },
     "execution_count": 10,
     "metadata": {},
     "output_type": "execute_result"
    }
   ],
   "source": [
    "reload(ol)"
   ]
  },
  {
   "cell_type": "code",
   "execution_count": 11,
   "metadata": {},
   "outputs": [
    {
     "data": {
      "text/plain": [
       "[7, 6, 0, 7, 4, 0, 5, 6, 0, 9, 7, 5, 6, 2, 5]"
      ]
     },
     "execution_count": 11,
     "metadata": {},
     "output_type": "execute_result"
    }
   ],
   "source": [
    "inteiros_15"
   ]
  },
  {
   "cell_type": "code",
   "execution_count": 12,
   "metadata": {},
   "outputs": [
    {
     "data": {
      "text/plain": [
       "[0, 0, 0, 2, 4, 5, 5, 5, 6, 6, 6, 7, 7, 7, 9]"
      ]
     },
     "execution_count": 12,
     "metadata": {},
     "output_type": "execute_result"
    }
   ],
   "source": [
    "ol.ordena_inteiros(inteiros_15)"
   ]
  },
  {
   "cell_type": "markdown",
   "metadata": {},
   "source": [
    "#  <a name=\"secao_4\"> Seção 4  - Decorators</a>\n",
    "[Voltar ao índice](#indice)"
   ]
  },
  {
   "cell_type": "markdown",
   "metadata": {},
   "source": [
    "Ref: https://realpython.com/primer-on-python-decorators/\n",
    "\n",
    "Ref: https://pythonhelp.wordpress.com/2013/06/09/entendendo-os-decorators/"
   ]
  },
  {
   "cell_type": "code",
   "execution_count": 19,
   "metadata": {},
   "outputs": [],
   "source": [
    "import time\n",
    "def my_decorator(func):\n",
    "    def wrapper():\n",
    "        start = time.time()\n",
    "        func()\n",
    "        end = time.time()\n",
    "        print('Tempo: {}'.format(end - start))\n",
    "    return wrapper\n",
    "\n",
    "@my_decorator\n",
    "def say_whee():\n",
    "    print(\"Whee!\")"
   ]
  },
  {
   "cell_type": "code",
   "execution_count": 20,
   "metadata": {},
   "outputs": [
    {
     "name": "stdout",
     "output_type": "stream",
     "text": [
      "Whee!\n",
      "Tempo: 0.0009775161743164062\n"
     ]
    }
   ],
   "source": [
    "say_whee()"
   ]
  },
  {
   "cell_type": "markdown",
   "metadata": {},
   "source": [
    "#  <a name=\"secao_5\"> Seção 5 </a>\n",
    "[Voltar ao índice](#indice)"
   ]
  },
  {
   "cell_type": "markdown",
   "metadata": {},
   "source": [
    "#  <a name=\"conclusao\"> Conclusão </a>\n",
    "[Voltar ao índice](#indice)"
   ]
  },
  {
   "cell_type": "markdown",
   "metadata": {},
   "source": [
    "Neste notebook vimos que é importante ter um estrutura no notebook para facilitar o desenvolvimento e divulgação do conhecimento"
   ]
  },
  {
   "cell_type": "code",
   "execution_count": null,
   "metadata": {},
   "outputs": [],
   "source": []
  }
 ],
 "metadata": {
  "hide_input": false,
  "kernelspec": {
   "display_name": "Python 3",
   "language": "python",
   "name": "python3"
  },
  "language_info": {
   "codemirror_mode": {
    "name": "ipython",
    "version": 3
   },
   "file_extension": ".py",
   "mimetype": "text/x-python",
   "name": "python",
   "nbconvert_exporter": "python",
   "pygments_lexer": "ipython3",
   "version": "3.6.10"
  },
  "toc": {
   "base_numbering": 1,
   "nav_menu": {
    "height": "294px",
    "width": "216px"
   },
   "number_sections": true,
   "sideBar": true,
   "skip_h1_title": false,
   "title_cell": "Table of Contents",
   "title_sidebar": "Contents",
   "toc_cell": false,
   "toc_position": {},
   "toc_section_display": true,
   "toc_window_display": false
  },
  "varInspector": {
   "cols": {
    "lenName": 16,
    "lenType": 16,
    "lenVar": 40
   },
   "kernels_config": {
    "python": {
     "delete_cmd_postfix": "",
     "delete_cmd_prefix": "del ",
     "library": "var_list.py",
     "varRefreshCmd": "print(var_dic_list())"
    },
    "r": {
     "delete_cmd_postfix": ") ",
     "delete_cmd_prefix": "rm(",
     "library": "var_list.r",
     "varRefreshCmd": "cat(var_dic_list()) "
    }
   },
   "types_to_exclude": [
    "module",
    "function",
    "builtin_function_or_method",
    "instance",
    "_Feature"
   ],
   "window_display": false
  }
 },
 "nbformat": 4,
 "nbformat_minor": 2
}
