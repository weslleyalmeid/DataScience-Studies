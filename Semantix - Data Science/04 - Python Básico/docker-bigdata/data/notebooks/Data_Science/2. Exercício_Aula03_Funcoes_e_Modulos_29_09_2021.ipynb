{
 "cells": [
  {
   "cell_type": "markdown",
   "metadata": {},
   "source": [
    "**Autor** : Seu nome\n",
    "\n",
    "**e-mail**: seu.email@semantix.com"
   ]
  },
  {
   "cell_type": "markdown",
   "metadata": {},
   "source": [
    "#  <a name=\"resumo\"> RESUMO </a>"
   ]
  },
  {
   "cell_type": "markdown",
   "metadata": {},
   "source": [
    "Este notebook tem o objetivo de mostrar como criamos nossos módulos customizados e o uso deles nos códigos"
   ]
  },
  {
   "cell_type": "markdown",
   "metadata": {},
   "source": [
    "#  <a name=\"indice\">  Índice </a>"
   ]
  },
  {
   "cell_type": "markdown",
   "metadata": {
    "tags": [
     "indice"
    ]
   },
   "source": [
    "* [Resumo](#resumo)\n",
    "* [Índice](#indice)\n",
    "* [Questão 1 - Crie uma função que encontra filtra os números ímpares de uma lista de inteiros e depois os multiplica por 3.](#secao_1)\n",
    "* [Questão 2 - Crie um módulo que contenha essa função e depois faça o import.](#secao_2)\n",
    "* [Questão 3 - Crie testes unitários para as funções.](#secao_3)\n",
    "* [Questão 4 - Faça com que o módulo gere logs e registre em arquivo.](#secao_4)\n",
    "* [Questão 5 - Use Decorators para incluir mensagens de logs nas funções criadas.](#secao_5)\n",
    "* [Conclusão](#conclusao)"
   ]
  },
  {
   "cell_type": "markdown",
   "metadata": {},
   "source": [
    "#  <a name=\"secao_1\"> Questão 1 - Crie uma função que encontra filtra os números ímpares de uma lista de inteiros e depois os multiplica por 3.</a>\n",
    "[Voltar ao índice](#indice)"
   ]
  },
  {
   "cell_type": "code",
   "execution_count": 1,
   "metadata": {},
   "outputs": [],
   "source": [
    "from numpy.random import randint\n",
    "from importlib import reload"
   ]
  },
  {
   "cell_type": "code",
   "execution_count": 2,
   "metadata": {},
   "outputs": [],
   "source": [
    "inteiros_15 = list(randint(10,size=15))"
   ]
  },
  {
   "cell_type": "code",
   "execution_count": 3,
   "metadata": {},
   "outputs": [
    {
     "data": {
      "text/plain": [
       "[9, 9, 6, 3, 8, 9, 4, 7, 7, 4, 3, 7, 7, 8, 0]"
      ]
     },
     "execution_count": 3,
     "metadata": {},
     "output_type": "execute_result"
    }
   ],
   "source": [
    "inteiros_15"
   ]
  },
  {
   "cell_type": "code",
   "execution_count": 8,
   "metadata": {},
   "outputs": [],
   "source": [
    "def filtra_impares(lista):\n",
    "    impares = [a for a in lista if a%2 !=0]\n",
    "    \n",
    "    return impares\n",
    "\n",
    "def multiplica_elementos(lista, numero =3):\n",
    "    produto = [a*numero for a in lista]\n",
    "    return produto\n",
    "    "
   ]
  },
  {
   "cell_type": "code",
   "execution_count": 5,
   "metadata": {},
   "outputs": [
    {
     "data": {
      "text/plain": [
       "[9, 9, 3, 9, 7, 7, 3, 7, 7]"
      ]
     },
     "execution_count": 5,
     "metadata": {},
     "output_type": "execute_result"
    }
   ],
   "source": [
    "filtra_impares(inteiros_15)"
   ]
  },
  {
   "cell_type": "code",
   "execution_count": 10,
   "metadata": {},
   "outputs": [
    {
     "data": {
      "text/plain": [
       "[36, 36, 12, 36, 28, 28, 12, 28, 28]"
      ]
     },
     "execution_count": 10,
     "metadata": {},
     "output_type": "execute_result"
    }
   ],
   "source": [
    "multiplica_elementos(filtra_impares(inteiros_15), numero =4)"
   ]
  },
  {
   "cell_type": "markdown",
   "metadata": {},
   "source": [
    "#  <a name=\"secao_2\"> Questão 2 - Crie um módulo que contenha essa função e depois faça o import.</a>\n",
    "[Voltar ao índice](#indice)"
   ]
  },
  {
   "cell_type": "code",
   "execution_count": 12,
   "metadata": {},
   "outputs": [],
   "source": [
    "from filtro_multiplicador import filtragem_multiplica as fm"
   ]
  },
  {
   "cell_type": "code",
   "execution_count": 13,
   "metadata": {},
   "outputs": [
    {
     "data": {
      "text/plain": [
       "['__builtins__',\n",
       " '__cached__',\n",
       " '__doc__',\n",
       " '__file__',\n",
       " '__loader__',\n",
       " '__name__',\n",
       " '__package__',\n",
       " '__spec__',\n",
       " 'filtra_impares',\n",
       " 'filtra_multiplica',\n",
       " 'multiplica_elementos']"
      ]
     },
     "execution_count": 13,
     "metadata": {},
     "output_type": "execute_result"
    }
   ],
   "source": [
    "dir(fm)"
   ]
  },
  {
   "cell_type": "code",
   "execution_count": 14,
   "metadata": {},
   "outputs": [
    {
     "data": {
      "text/plain": [
       "[27, 27, 9, 27, 21, 21, 9, 21, 21]"
      ]
     },
     "execution_count": 14,
     "metadata": {},
     "output_type": "execute_result"
    }
   ],
   "source": [
    "fm.filtra_multiplica(inteiros_15)"
   ]
  },
  {
   "cell_type": "markdown",
   "metadata": {},
   "source": [
    "#  <a name=\"secao_3\"> Questão 3 - Crie testes unitários para as funções. </a>\n",
    "[Voltar ao índice](#indice)"
   ]
  },
  {
   "cell_type": "markdown",
   "metadata": {},
   "source": [
    "Ref: https://docs.python.org/pt-br/3/howto/logging.html"
   ]
  },
  {
   "cell_type": "code",
   "execution_count": 19,
   "metadata": {
    "scrolled": true
   },
   "outputs": [
    {
     "name": "stderr",
     "output_type": "stream",
     "text": [
      ".\n",
      "----------------------------------------------------------------------\n",
      "Ran 1 test in 0.000s\n",
      "\n",
      "OK\n"
     ]
    }
   ],
   "source": [
    "! python -m unittest test.test_filtragem_multiplica"
   ]
  },
  {
   "cell_type": "code",
   "execution_count": 20,
   "metadata": {},
   "outputs": [
    {
     "name": "stderr",
     "output_type": "stream",
     "text": [
      "...\n",
      "----------------------------------------------------------------------\n",
      "Ran 3 tests in 0.005s\n",
      "\n",
      "OK\n"
     ]
    }
   ],
   "source": [
    "! python -m unittest discover"
   ]
  },
  {
   "cell_type": "markdown",
   "metadata": {},
   "source": [
    "#  <a name=\"secao_4\"> Questão 4 - Faça com que o módulo gere logs e registre em arquivo.</a>\n",
    "[Voltar ao índice](#indice)"
   ]
  },
  {
   "cell_type": "code",
   "execution_count": 24,
   "metadata": {},
   "outputs": [
    {
     "data": {
      "text/plain": [
       "<module 'filtro_multiplicador.filtragem_multiplica' from 'C:\\\\Users\\\\Hader Azzini\\\\Desktop\\\\teste_anaconda\\\\filtro_multiplicador\\\\filtragem_multiplica.py'>"
      ]
     },
     "execution_count": 24,
     "metadata": {},
     "output_type": "execute_result"
    }
   ],
   "source": [
    "reload(fm)"
   ]
  },
  {
   "cell_type": "code",
   "execution_count": 25,
   "metadata": {},
   "outputs": [
    {
     "data": {
      "text/plain": [
       "[27, 27, 9, 27, 21, 21, 9, 21, 21]"
      ]
     },
     "execution_count": 25,
     "metadata": {},
     "output_type": "execute_result"
    }
   ],
   "source": [
    "fm.filtra_multiplica(inteiros_15)"
   ]
  },
  {
   "cell_type": "markdown",
   "metadata": {},
   "source": [
    "#  <a name=\"secao_5\"> Questão 5 - Use Decorators para incluir mensagens de logs nas funções criadas. </a>\n",
    "[Voltar ao índice](#indice)"
   ]
  },
  {
   "cell_type": "markdown",
   "metadata": {},
   "source": [
    "Ref: https://dev.to/aldo/implementing-logging-in-python-via-decorators-1gje"
   ]
  },
  {
   "cell_type": "code",
   "execution_count": 70,
   "metadata": {},
   "outputs": [],
   "source": [
    "import logging\n",
    "import functools\n",
    "\n",
    "\n",
    "def _generate_log(path):\n",
    "    \"\"\"\n",
    "    Create a logger object\n",
    "    :param path: Path of the log file.\n",
    "    :return: Logger object.\n",
    "    \"\"\"\n",
    "    # Create a logger and set the level.\n",
    "    logger = logging.getLogger('LogError')\n",
    "    logger.setLevel(logging.ERROR)\n",
    "\n",
    "    # Create file handler, log format and add the format to file handler\n",
    "    file_handler = logging.FileHandler(path)\n",
    "\n",
    "    # See https://docs.python.org/3/library/logging.html#logrecord-attributes\n",
    "    # for log format attributes.\n",
    "    log_format = '%(levelname)s %(asctime)s %(message)s'\n",
    "    formatter = logging.Formatter(log_format)\n",
    "    file_handler.setFormatter(formatter)\n",
    "\n",
    "    logger.addHandler(file_handler)\n",
    "    return logger\n",
    "\n",
    "\n",
    "def log_error(path='C:\\\\Users\\\\Hader Azzini\\\\Desktop\\\\teste_anaconda/log.error.log'):\n",
    "    \"\"\"\n",
    "    We create a parent function to take arguments\n",
    "    :param path:\n",
    "    :return:\n",
    "    \"\"\"\n",
    "\n",
    "    def error_log(func):\n",
    "\n",
    "        @functools.wraps(func)\n",
    "        def wrapper(*args, **kwargs):\n",
    "\n",
    "            try:\n",
    "                # Execute the called function, in this case `divide()`.\n",
    "                # If it throws an error `Exception` will be called.\n",
    "                # Otherwise it will be execute successfully.\n",
    "                return func(*args, **kwargs)\n",
    "            except Exception as e:\n",
    "                logger = _generate_log(path)\n",
    "                error_msg = 'And error has occurred at /' + func.__name__ + '\\n'\n",
    "                logger.exception(error_msg)\n",
    "\n",
    "                return e  # Or whatever message you want.\n",
    "\n",
    "        return wrapper\n",
    "\n",
    "    return error_log"
   ]
  },
  {
   "cell_type": "code",
   "execution_count": 71,
   "metadata": {},
   "outputs": [
    {
     "name": "stdout",
     "output_type": "stream",
     "text": [
      "division by zero\n"
     ]
    }
   ],
   "source": [
    "@log_error()\n",
    "def divide(num1, num2):\n",
    "    return num1 / num2\n",
    "\n",
    "\n",
    "if __name__ == '__main__':\n",
    "    result = divide(10, 0)\n",
    "    print(result)"
   ]
  },
  {
   "cell_type": "markdown",
   "metadata": {},
   "source": [
    "#  <a name=\"conclusao\"> Conclusão </a>\n",
    "[Voltar ao índice](#indice)"
   ]
  },
  {
   "cell_type": "markdown",
   "metadata": {},
   "source": [
    "Neste notebook vimos que é importante ter um estrutura no notebook para facilitar o desenvolvimento e divulgação do conhecimento"
   ]
  },
  {
   "cell_type": "code",
   "execution_count": null,
   "metadata": {},
   "outputs": [],
   "source": []
  }
 ],
 "metadata": {
  "hide_input": false,
  "kernelspec": {
   "display_name": "Python 3",
   "language": "python",
   "name": "python3"
  },
  "language_info": {
   "codemirror_mode": {
    "name": "ipython",
    "version": 3
   },
   "file_extension": ".py",
   "mimetype": "text/x-python",
   "name": "python",
   "nbconvert_exporter": "python",
   "pygments_lexer": "ipython3",
   "version": "3.8.8"
  },
  "toc": {
   "base_numbering": 1,
   "nav_menu": {
    "height": "294px",
    "width": "216px"
   },
   "number_sections": true,
   "sideBar": true,
   "skip_h1_title": false,
   "title_cell": "Table of Contents",
   "title_sidebar": "Contents",
   "toc_cell": false,
   "toc_position": {},
   "toc_section_display": true,
   "toc_window_display": false
  },
  "varInspector": {
   "cols": {
    "lenName": 16,
    "lenType": 16,
    "lenVar": 40
   },
   "kernels_config": {
    "python": {
     "delete_cmd_postfix": "",
     "delete_cmd_prefix": "del ",
     "library": "var_list.py",
     "varRefreshCmd": "print(var_dic_list())"
    },
    "r": {
     "delete_cmd_postfix": ") ",
     "delete_cmd_prefix": "rm(",
     "library": "var_list.r",
     "varRefreshCmd": "cat(var_dic_list()) "
    }
   },
   "types_to_exclude": [
    "module",
    "function",
    "builtin_function_or_method",
    "instance",
    "_Feature"
   ],
   "window_display": false
  }
 },
 "nbformat": 4,
 "nbformat_minor": 2
}
