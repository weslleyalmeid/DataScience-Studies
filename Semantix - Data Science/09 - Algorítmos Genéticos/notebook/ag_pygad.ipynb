{
  "nbformat": 4,
  "nbformat_minor": 0,
  "metadata": {
    "colab": {
      "name": "ag_pygad.ipynb",
      "provenance": [],
      "collapsed_sections": []
    },
    "kernelspec": {
      "name": "python3",
      "display_name": "Python 3"
    },
    "language_info": {
      "name": "python"
    }
  },
  "cells": [
    {
      "cell_type": "code",
      "metadata": {
        "colab": {
          "base_uri": "https://localhost:8080/"
        },
        "id": "MZoD_DXvInLM",
        "outputId": "1f808422-e00d-47a5-a259-021f362912bf"
      },
      "source": [
        "!pip install pygad"
      ],
      "execution_count": 1,
      "outputs": [
        {
          "output_type": "stream",
          "name": "stdout",
          "text": [
            "Requirement already satisfied: pygad in /usr/local/lib/python3.7/dist-packages (2.16.1)\n",
            "Requirement already satisfied: matplotlib in /usr/local/lib/python3.7/dist-packages (from pygad) (3.2.2)\n",
            "Requirement already satisfied: numpy in /usr/local/lib/python3.7/dist-packages (from pygad) (1.19.5)\n",
            "Requirement already satisfied: pyparsing!=2.0.4,!=2.1.2,!=2.1.6,>=2.0.1 in /usr/local/lib/python3.7/dist-packages (from matplotlib->pygad) (3.0.6)\n",
            "Requirement already satisfied: kiwisolver>=1.0.1 in /usr/local/lib/python3.7/dist-packages (from matplotlib->pygad) (1.3.2)\n",
            "Requirement already satisfied: cycler>=0.10 in /usr/local/lib/python3.7/dist-packages (from matplotlib->pygad) (0.11.0)\n",
            "Requirement already satisfied: python-dateutil>=2.1 in /usr/local/lib/python3.7/dist-packages (from matplotlib->pygad) (2.8.2)\n",
            "Requirement already satisfied: six>=1.5 in /usr/local/lib/python3.7/dist-packages (from python-dateutil>=2.1->matplotlib->pygad) (1.15.0)\n"
          ]
        }
      ]
    },
    {
      "cell_type": "code",
      "metadata": {
        "id": "Mf3TzXC_IreB"
      },
      "source": [
        "import pygad\n",
        "import numpy"
      ],
      "execution_count": 2,
      "outputs": []
    },
    {
      "cell_type": "code",
      "metadata": {
        "id": "etOOcY9-IrpP"
      },
      "source": [
        "# y = w1.x1 + w2.x2 + w3.x3 + w4.x4 + w5.x5 + 6w.x6\n",
        "# onde (x1,x2,x3,x4,x5,x6)=(-6, 5, 3.2, 7.8, -15, 9.4) e y=50bit_length\n",
        "\n",
        "input_x = [-6, 5, 3.2, 7.8, -15, 9.4]\n",
        "output_y = 50"
      ],
      "execution_count": 3,
      "outputs": []
    },
    {
      "cell_type": "code",
      "metadata": {
        "id": "lp8AIHaJI6uG"
      },
      "source": [
        "def fitness_func(solution, solution_idx):\n",
        "  output = numpy.sum(solution * input_x)\n",
        "  fitness = 1.0 / ((numpy.abs(output - output_y) + 0.000001))\n",
        "  return fitness"
      ],
      "execution_count": 4,
      "outputs": []
    },
    {
      "cell_type": "code",
      "metadata": {
        "colab": {
          "base_uri": "https://localhost:8080/",
          "height": 442
        },
        "id": "iJXFthLKJRLz",
        "outputId": "213dd311-2b37-42a7-91ec-c97633ad7c2b"
      },
      "source": [
        "ga_instance = pygad.GA(num_generations=100,\n",
        "                       sol_per_pop=10,\n",
        "                       num_genes=6,\n",
        "                       num_parents_mating=2,\n",
        "                       fitness_func=fitness_func,\n",
        "                       mutation_type=\"random\")\n",
        "\n",
        "ga_instance.run()\n",
        "ga_instance.plot_result()\n",
        "\n",
        "solution, solution_fitness, solution_idx = ga_instance.best_solution()\n",
        "print(f\"Parametros da melhor solução : {solution}\")\n",
        "\n",
        "prediction = numpy.sum(numpy.array(input_x) * solution)\n",
        "print(\"Predição da saida da melhor solução : {prediction}\".format(prediction=prediction))"
      ],
      "execution_count": 14,
      "outputs": [
        {
          "output_type": "stream",
          "name": "stderr",
          "text": [
            "/usr/local/lib/python3.7/dist-packages/pygad/pygad.py:469: UserWarning: The percentage of genes to mutate (mutation_percent_genes=10) resutled in selecting (0) genes. The number of genes to mutate is set to 1 (mutation_num_genes=1).\n",
            "If you do not want to mutate any gene, please set mutation_type=None.\n",
            "  if not self.suppress_warnings: warnings.warn(\"The percentage of genes to mutate (mutation_percent_genes={mutation_percent}) resutled in selecting ({mutation_num}) genes. The number of genes to mutate is set to 1 (mutation_num_genes=1).\\nIf you do not want to mutate any gene, please set mutation_type=None.\".format(mutation_percent=mutation_percent_genes, mutation_num=mutation_num_genes))\n",
            "/usr/local/lib/python3.7/dist-packages/pygad/pygad.py:3135: UserWarning: Please use the plot_fitness() method instead of plot_result(). The plot_result() method will be removed in the future.\n",
            "  warnings.warn(\"Please use the plot_fitness() method instead of plot_result(). The plot_result() method will be removed in the future.\")\n"
          ]
        },
        {
          "output_type": "display_data",
          "data": {
            "image/png": "[encoded data removed]",
            "text/plain": [
              "<Figure size 432x288 with 1 Axes>"
            ]
          },
          "metadata": {
            "needs_background": "light"
          }
        },
        {
          "output_type": "stream",
          "name": "stdout",
          "text": [
            "Parametros da melhor solução : [-1.16515405 -0.47468947  0.23296715  1.18616994 -0.64636763  2.73180833]\n",
            "Predição da saida da melhor solução : 49.9896101007174\n"
          ]
        }
      ]
    }
  ]
}