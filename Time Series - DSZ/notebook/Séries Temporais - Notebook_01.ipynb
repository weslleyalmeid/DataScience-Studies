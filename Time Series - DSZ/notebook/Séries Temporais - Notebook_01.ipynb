{
  "cells": [
    {
      "cell_type": "markdown",
      "metadata": {
        "colab_type": "text",
        "id": "BPQyEDpP1u-T"
      },
      "source": [
        "### Bibliotecas úteis para Time Series com Python\n",
        "\n",
        "\n",
        "*   Pandas\n",
        "*   Scikit-learn\n",
        "*   Numpy\n",
        "*   Statsmodel\n",
        "\n"
      ]
    },
    {
      "cell_type": "markdown",
      "metadata": {
        "colab_type": "text",
        "id": "_2Tpxr_I2jV7"
      },
      "source": [
        "### Explorando os dados"
      ]
    },
    {
      "cell_type": "code",
      "execution_count": null,
      "metadata": {
        "colab": {},
        "colab_type": "code",
        "id": "H9uenSiwtDE0"
      },
      "outputs": [],
      "source": [
        "from google.colab import drive\n",
        "drive.mount('/content/drive')"
      ]
    },
    {
      "cell_type": "code",
      "execution_count": null,
      "metadata": {
        "colab": {},
        "colab_type": "code",
        "id": "f7ysZAdQ5v3A"
      },
      "outputs": [],
      "source": [
        "import pandas as pd\n",
        "series = pd.read_csv('/content/drive/My Drive/Curso Séries Temporais/Materiais de Apoio/champagne_sales.csv')"
      ]
    },
    {
      "cell_type": "code",
      "execution_count": null,
      "metadata": {
        "colab": {},
        "colab_type": "code",
        "id": "PU5T4HWo3U1P"
      },
      "outputs": [],
      "source": [
        "type(series)"
      ]
    },
    {
      "cell_type": "code",
      "execution_count": null,
      "metadata": {
        "colab": {},
        "colab_type": "code",
        "id": "i-14rpZbEvsJ"
      },
      "outputs": [],
      "source": [
        "series.tail()"
      ]
    },
    {
      "cell_type": "markdown",
      "metadata": {
        "colab_type": "text",
        "id": "sQZRKwarE14u"
      },
      "source": [
        "\n",
        "\n",
        "*   **header=0** : A informação de colunas está na primeira linha do arquivo\n",
        "*   **parse_date=True** : Sinalizamos que o dataset contém coluna do tipo date.\n",
        "*   **index_col=0** : Definimos nossa coluna indice que é a informação temporal.\n",
        "*   **squeeze=True**: Sinalizamos que nos temos apenas um dado de coluna e que queremos transformar isso em uma série e não em um dataframe.\n",
        "\n"
      ]
    },
    {
      "cell_type": "code",
      "execution_count": null,
      "metadata": {
        "colab": {},
        "colab_type": "code",
        "id": "Y-KWI77e1r9Q"
      },
      "outputs": [],
      "source": [
        "from pandas import read_csv\n",
        "series = read_csv('/content/drive/My Drive/Curso Séries Temporais/Materiais de Apoio/champagne_sales.csv', header=0, index_col=0, parse_dates=True, squeeze=True)"
      ]
    },
    {
      "cell_type": "markdown",
      "metadata": {
        "colab_type": "text",
        "id": "BEMiIHPe3sh4"
      },
      "source": [
        "**Explorando e resumindo os dados**"
      ]
    },
    {
      "cell_type": "code",
      "execution_count": null,
      "metadata": {
        "colab": {},
        "colab_type": "code",
        "id": "b2UK-f1j3yxA"
      },
      "outputs": [],
      "source": [
        "series.describe()"
      ]
    },
    {
      "cell_type": "markdown",
      "metadata": {
        "colab_type": "text",
        "id": "ojtcsfEg8mXV"
      },
      "source": [
        "**Visualizando dados**"
      ]
    },
    {
      "cell_type": "code",
      "execution_count": null,
      "metadata": {
        "colab": {},
        "colab_type": "code",
        "id": "JANb_abE8jBF"
      },
      "outputs": [],
      "source": [
        "import matplotlib.pyplot as plt\n",
        "series.plot(figsize=(10,5), \n",
        "            linewidth=3, \n",
        "            fontsize=10,\n",
        "            title='Vendas ao longo dos anos')\n",
        "plt.xlabel('Ano', fontsize=10);"
      ]
    },
    {
      "cell_type": "markdown",
      "metadata": {
        "colab_type": "text",
        "id": "76hfK4Ly8QL0"
      },
      "source": [
        "**Vendas no ano de 1964 e 1965**"
      ]
    },
    {
      "cell_type": "code",
      "execution_count": null,
      "metadata": {
        "colab": {},
        "colab_type": "code",
        "id": "iMYAxp588EhW"
      },
      "outputs": [],
      "source": [
        "series['1964']"
      ]
    },
    {
      "cell_type": "code",
      "execution_count": null,
      "metadata": {
        "colab": {},
        "colab_type": "code",
        "id": "0s9Bm6nM8bEF"
      },
      "outputs": [],
      "source": [
        "series['1965-01']"
      ]
    },
    {
      "cell_type": "code",
      "execution_count": null,
      "metadata": {
        "colab": {},
        "colab_type": "code",
        "id": "qM65yJJfvVr-"
      },
      "outputs": [],
      "source": [
        "series.index"
      ]
    },
    {
      "cell_type": "code",
      "execution_count": null,
      "metadata": {
        "colab": {},
        "colab_type": "code",
        "id": "w9viLE5Gvmd0"
      },
      "outputs": [],
      "source": [
        "series.values"
      ]
    },
    {
      "cell_type": "markdown",
      "metadata": {
        "colab_type": "text",
        "id": "epOCY_VfY7m3"
      },
      "source": [
        "**Vendas por mês de cada ano**"
      ]
    },
    {
      "cell_type": "code",
      "execution_count": null,
      "metadata": {
        "colab": {},
        "colab_type": "code",
        "id": "mHBp7hfPXCSS"
      },
      "outputs": [],
      "source": [
        "from pandas import Grouper\n",
        "from matplotlib import pyplot\n",
        "from pandas import DataFrame"
      ]
    },
    {
      "cell_type": "code",
      "execution_count": null,
      "metadata": {
        "colab": {},
        "colab_type": "code",
        "id": "fCdoqoy3LvTu"
      },
      "outputs": [],
      "source": [
        "series"
      ]
    },
    {
      "cell_type": "code",
      "execution_count": null,
      "metadata": {
        "colab": {},
        "colab_type": "code",
        "id": "NxB2WTMtLhLQ"
      },
      "outputs": [],
      "source": [
        "# Removendo os dados do ano 1972 por este ano ter menos dados\n",
        "series.drop(series['1972'].index, inplace=True)"
      ]
    },
    {
      "cell_type": "code",
      "execution_count": null,
      "metadata": {
        "colab": {},
        "colab_type": "code",
        "id": "meBcld_hXCDl"
      },
      "outputs": [],
      "source": [
        "grupos = series.groupby(Grouper(freq='A'))\n",
        "anos = DataFrame()\n",
        "for nome, grupo in grupos:\n",
        "  anos[nome.year] = grupo.values"
      ]
    },
    {
      "cell_type": "code",
      "execution_count": null,
      "metadata": {
        "colab": {},
        "colab_type": "code",
        "id": "kDu8rRMRYg25"
      },
      "outputs": [],
      "source": [
        "anos"
      ]
    },
    {
      "cell_type": "code",
      "execution_count": null,
      "metadata": {
        "colab": {},
        "colab_type": "code",
        "id": "zO2ZDW0zZF8z"
      },
      "outputs": [],
      "source": [
        "anos.plot(figsize=(10,5)\n",
        "          ,subplots=True\n",
        "          ,title='Vendas em meses por anos')"
      ]
    },
    {
      "cell_type": "markdown",
      "metadata": {
        "colab_type": "text",
        "id": "f5r86SB_ZIId"
      },
      "source": [
        "**Vendas por ano - Gráfico de pontos**"
      ]
    },
    {
      "cell_type": "code",
      "execution_count": null,
      "metadata": {
        "colab": {},
        "colab_type": "code",
        "id": "siislBBm8tdV"
      },
      "outputs": [],
      "source": [
        "series.plot(style='k.')"
      ]
    },
    {
      "cell_type": "markdown",
      "metadata": {
        "colab_type": "text",
        "id": "FxxIsWMM9dAX"
      },
      "source": [
        "**Visualizando a distribuição da série**"
      ]
    },
    {
      "cell_type": "code",
      "execution_count": null,
      "metadata": {
        "colab": {},
        "colab_type": "code",
        "id": "rPKj6oVJ9dLL"
      },
      "outputs": [],
      "source": [
        "series.hist()"
      ]
    },
    {
      "cell_type": "markdown",
      "metadata": {
        "colab_type": "text",
        "id": "o0RPiLzk_5uD"
      },
      "source": [
        "**Gráfico de Densidade**"
      ]
    },
    {
      "cell_type": "code",
      "execution_count": null,
      "metadata": {
        "colab": {},
        "colab_type": "code",
        "id": "NjEDWnyH_h4A"
      },
      "outputs": [],
      "source": [
        "series.plot(kind='kde')"
      ]
    },
    {
      "cell_type": "markdown",
      "metadata": {
        "colab_type": "text",
        "id": "-0MSMqGtDb0G"
      },
      "source": [
        "**Visualizando Outliers por anos**"
      ]
    },
    {
      "cell_type": "code",
      "execution_count": null,
      "metadata": {
        "colab": {},
        "colab_type": "code",
        "id": "ZnEXVS8B_iFt"
      },
      "outputs": [],
      "source": [
        "grupos = series.groupby(Grouper(freq='A'))\n",
        "anos = DataFrame() \n",
        "for nome, grupo in grupos:\n",
        "  anos[nome.year] = grupo.values\n",
        "anos.boxplot(figsize=(10,5))"
      ]
    },
    {
      "cell_type": "markdown",
      "metadata": {
        "colab_type": "text",
        "id": "fVl_fLD-ZvOB"
      },
      "source": [
        "**Dispersão de valores e lags**\n",
        "\n",
        "\n",
        "*   Visualizando a dispersão entre o valor t e t+n\n",
        "\n"
      ]
    },
    {
      "cell_type": "code",
      "execution_count": null,
      "metadata": {
        "colab": {},
        "colab_type": "code",
        "id": "J_qv8c1Yaqoy"
      },
      "outputs": [],
      "source": [
        "from pandas.plotting import lag_plot\n",
        "lag_plot(series, lag=1)"
      ]
    },
    {
      "cell_type": "markdown",
      "metadata": {
        "colab_type": "text",
        "id": "MaZV_Pi7Z2ir"
      },
      "source": [
        "**Autocorrelação**\n",
        "\n",
        "\n",
        "\n",
        "1.   Mede a autocorrelação entre os lags.\n",
        "2.   Ao execer as linhas pontilhadas mostra relevância estatística.\n",
        "\n"
      ]
    },
    {
      "cell_type": "code",
      "execution_count": null,
      "metadata": {
        "colab": {},
        "colab_type": "code",
        "id": "Mz4tKURLz-Ka"
      },
      "outputs": [],
      "source": [
        "from pandas.plotting import autocorrelation_plot\n",
        "autocorrelation_plot(series)"
      ]
    },
    {
      "cell_type": "markdown",
      "metadata": {
        "colab_type": "text",
        "id": "dljF4kae3Mxa"
      },
      "source": [
        "**Autocorrelação com Statsmodels**"
      ]
    },
    {
      "cell_type": "markdown",
      "metadata": {
        "colab_type": "text",
        "id": "EcNv-aFSolMf"
      },
      "source": [
        "\n",
        "\n",
        "*   Calcula a correlação com lags.\n",
        "*   Pode ser utilizado para configurações de modelos de previsão.\n",
        "*   Exibe o intervalo de confiança de 95% por padrão."
      ]
    },
    {
      "cell_type": "code",
      "execution_count": null,
      "metadata": {
        "colab": {},
        "colab_type": "code",
        "id": "Q-Rg3Vpufiju"
      },
      "outputs": [],
      "source": [
        "from statsmodels.graphics.tsaplots import plot_acf\n",
        "from statsmodels.graphics.tsaplots import plot_pacf\n",
        "from matplotlib import pyplot"
      ]
    },
    {
      "cell_type": "code",
      "execution_count": null,
      "metadata": {
        "colab": {},
        "colab_type": "code",
        "id": "mUbWuEIEUgQU"
      },
      "outputs": [],
      "source": [
        "plot_acf(series, lags=40)\n",
        "pyplot.show()"
      ]
    },
    {
      "cell_type": "markdown",
      "metadata": {
        "colab_type": "text",
        "id": "vaQkNb0uzfEs"
      },
      "source": [
        "###Modelando Dados"
      ]
    },
    {
      "cell_type": "markdown",
      "metadata": {
        "colab_type": "text",
        "id": "pgZ-KmoIsCI5"
      },
      "source": [
        "Remodelar os dados envolve alterar a frequência das observacoes em dois tipos:\n",
        "\n",
        " **Upsampling**: Significa aumentar a frequencia das amostras, como por exemplo, minutos para segundos.\n",
        "\n",
        " **Downsampling**: Significa diminuir a frequencia das amostras, como por exemplo, dias para meses.\n",
        "\n",
        "Existem duas principais razoes porque queremos remodelar nossos dados:\n",
        "\n",
        " **Problem Framing**: Remodelar os dados para trabalhar na mesma frequencia que as predicoes que iremos entregar.\n",
        "\n",
        " **Feature Engineering**: Remodelar os dados podem entregar insights e informações importantes para modelos de machine learning."
      ]
    },
    {
      "cell_type": "code",
      "execution_count": null,
      "metadata": {
        "colab": {},
        "colab_type": "code",
        "id": "V0OKGiuG3f7w"
      },
      "outputs": [],
      "source": [
        "resample = series.resample('2M')"
      ]
    },
    {
      "cell_type": "code",
      "execution_count": null,
      "metadata": {
        "colab": {},
        "colab_type": "code",
        "id": "TKswPBmd3f3I"
      },
      "outputs": [],
      "source": [
        "type(resample)"
      ]
    },
    {
      "cell_type": "code",
      "execution_count": null,
      "metadata": {
        "colab": {},
        "colab_type": "code",
        "id": "vkL0P7JS5PMr"
      },
      "outputs": [],
      "source": [
        "print(resample)"
      ]
    },
    {
      "cell_type": "markdown",
      "metadata": {
        "colab_type": "text",
        "id": "R6CWv7rSz6TB"
      },
      "source": [
        "Cria uma variável para receber os dados do tipo série."
      ]
    },
    {
      "cell_type": "code",
      "execution_count": null,
      "metadata": {
        "colab": {},
        "colab_type": "code",
        "id": "PBJG7fwR3ftP"
      },
      "outputs": [],
      "source": [
        "vendas_medias_dois_meses = resample.mean()"
      ]
    },
    {
      "cell_type": "code",
      "execution_count": null,
      "metadata": {
        "colab": {},
        "colab_type": "code",
        "id": "tybr8cqG3eWE"
      },
      "outputs": [],
      "source": [
        "print(vendas_medias_dois_meses.head(15))"
      ]
    },
    {
      "cell_type": "code",
      "execution_count": null,
      "metadata": {
        "colab": {},
        "colab_type": "code",
        "id": "-8yIhbOFDimE"
      },
      "outputs": [],
      "source": [
        "vendas_medias_dois_meses.plot(figsize=(10,5), linewidth=3, fontsize=10, title='Vendas médias a cada dois meses')\n",
        "pyplot.show()"
      ]
    },
    {
      "cell_type": "markdown",
      "metadata": {
        "colab_type": "text",
        "id": "g6YHQJPTDwqd"
      },
      "source": [
        "**Gráficos com Plotly**\n",
        "-  Gráficos interativos\n",
        "-  Visual mais profissional\n",
        "-  Possibilidade de criaçao de um dasboard na nuvem"
      ]
    },
    {
      "cell_type": "code",
      "execution_count": null,
      "metadata": {
        "colab": {},
        "colab_type": "code",
        "id": "3iemF5JV_jaQ"
      },
      "outputs": [],
      "source": [
        "import plotly.offline as py\n",
        "import plotly.graph_objs as go\n",
        "\n",
        "data = [go.Scatter(x=vendas_medias_dois_meses.index,\n",
        "                   y=vendas_medias_dois_meses.values)]\n",
        "\n",
        "# Criando Layout:\n",
        "configuracoes_layout = go.Layout(title='Vendas médias a cada dois meses',\n",
        "                                 title_x=0.5,\n",
        "                                 yaxis={'title':'Média de vendas'},\n",
        "                                 xaxis={'title':'Periodo'})                   \n",
        "\n",
        "\n",
        "# Objeto figura:\n",
        "fig = go.Figure(data=data, layout=configuracoes_layout)\n",
        "\n",
        "# plotando o grafico:\n",
        "py.iplot(fig)"
      ]
    },
    {
      "cell_type": "markdown",
      "metadata": {
        "colab_type": "text",
        "id": "rJM0crpQ47dF"
      },
      "source": [
        "Trabalhando com Trimestres"
      ]
    },
    {
      "cell_type": "code",
      "execution_count": null,
      "metadata": {
        "colab": {},
        "colab_type": "code",
        "id": "-7xI9nlAzTmR"
      },
      "outputs": [],
      "source": [
        "upsampled = series.resample('Q')"
      ]
    },
    {
      "cell_type": "code",
      "execution_count": null,
      "metadata": {
        "colab": {},
        "colab_type": "code",
        "id": "VvDptUh1zTWm"
      },
      "outputs": [],
      "source": [
        "vendas_trimestre = upsampled.mean()"
      ]
    },
    {
      "cell_type": "code",
      "execution_count": null,
      "metadata": {
        "colab": {},
        "colab_type": "code",
        "id": "XJmekj80zdDR"
      },
      "outputs": [],
      "source": [
        "print (vendas_trimestre)"
      ]
    },
    {
      "cell_type": "markdown",
      "metadata": {
        "colab_type": "text",
        "id": "4DgYEGTo0Ct5"
      },
      "source": [
        "Plota o gráfico de vendas por trimestre"
      ]
    },
    {
      "cell_type": "code",
      "execution_count": null,
      "metadata": {
        "colab": {},
        "colab_type": "code",
        "id": "rGgPk8rTAnGi"
      },
      "outputs": [],
      "source": [
        "import plotly.offline as py\n",
        "import plotly.graph_objs as go\n",
        "\n",
        "data = [go.Scatter(x=vendas_trimestre.index,\n",
        "                   y=vendas_trimestre.values)]\n",
        "\n",
        "# Criando Layout:\n",
        "configuracoes_layout = go.Layout(title='Vendas médias por trimestre',\n",
        "                                 title_x=0.5,\n",
        "                                 yaxis={'title':'Média de vendas'},\n",
        "                                 xaxis={'title':'Periodo'})                   \n",
        "\n",
        "\n",
        "# Objeto figura:\n",
        "fig = go.Figure(data=data, layout=configuracoes_layout)\n",
        "\n",
        "# plotando o grafico:\n",
        "py.iplot(fig)"
      ]
    },
    {
      "cell_type": "markdown",
      "metadata": {
        "colab_type": "text",
        "id": "BhpbM3me1k2e"
      },
      "source": [
        "Redimensionando os dados por ano"
      ]
    },
    {
      "cell_type": "code",
      "execution_count": null,
      "metadata": {
        "colab": {},
        "colab_type": "code",
        "id": "MNqounKjfxrj"
      },
      "outputs": [],
      "source": [
        "resample = series.resample('A')"
      ]
    },
    {
      "cell_type": "code",
      "execution_count": null,
      "metadata": {
        "colab": {},
        "colab_type": "code",
        "id": "9CYJXF8SzOlb"
      },
      "outputs": [],
      "source": [
        "vendas_por_ano = resample.sum() \n",
        "print(vendas_por_ano.head()) "
      ]
    },
    {
      "cell_type": "markdown",
      "metadata": {
        "colab_type": "text",
        "id": "TR_RiG-S2Ah2"
      },
      "source": [
        "Plota o gráfico da soma das vendas por ano"
      ]
    },
    {
      "cell_type": "code",
      "execution_count": null,
      "metadata": {
        "colab": {},
        "colab_type": "code",
        "id": "0RoiO8imCeaK"
      },
      "outputs": [],
      "source": [
        "import plotly.offline as py\n",
        "import plotly.graph_objs as go\n",
        "\n",
        "data = [go.Scatter(x=vendas_por_ano.index,\n",
        "                   y=vendas_por_ano.values,\n",
        "                   marker = {'color':'green'})\n",
        "                   ]\n",
        "\n",
        "# Criando Layout:\n",
        "configuracoes_layout = go.Layout(title='Vendas por Ano',\n",
        "                                 title_x=0.5,\n",
        "                                 yaxis={'title':'Média de vendas'},\n",
        "                                 xaxis={'title':'Periodo'})                   \n",
        "\n",
        "\n",
        "# Objeto figura:\n",
        "fig = go.Figure(data=data, layout=configuracoes_layout)\n",
        "\n",
        "# plotando o grafico:\n",
        "py.iplot(fig)"
      ]
    },
    {
      "cell_type": "markdown",
      "metadata": {
        "colab_type": "text",
        "id": "mx5JKlMJ2jjG"
      },
      "source": [
        "Calculando a média de vendas por ano"
      ]
    },
    {
      "cell_type": "code",
      "execution_count": null,
      "metadata": {
        "colab": {},
        "colab_type": "code",
        "id": "3bzDno7TzOdw"
      },
      "outputs": [],
      "source": [
        "resample = series.resample('A')"
      ]
    },
    {
      "cell_type": "code",
      "execution_count": null,
      "metadata": {
        "colab": {},
        "colab_type": "code",
        "id": "QjGG2QcCzOYo"
      },
      "outputs": [],
      "source": [
        "# alteramos o método sum() para mean()\n",
        "vendas_medias_por_ano = resample.mean() \n",
        "print(vendas_medias_por_ano.head())"
      ]
    },
    {
      "cell_type": "code",
      "execution_count": null,
      "metadata": {
        "colab": {},
        "colab_type": "code",
        "id": "Dl3EHKZqELX5"
      },
      "outputs": [],
      "source": [
        "import plotly.offline as py\n",
        "import plotly.graph_objs as go\n",
        "\n",
        "data = [go.Scatter(x=vendas_medias_por_ano.index,\n",
        "                   y=vendas_medias_por_ano.values,\n",
        "                   marker = {'color':'green'})\n",
        "                   ]\n",
        "\n",
        "# Criando Layout:\n",
        "configuracoes_layout = go.Layout(title='Média de Vendas por Ano',\n",
        "                                 title_x=0.5,\n",
        "                                 yaxis={'title':'Média de vendas'},\n",
        "                                 xaxis={'title':'Periodo'})                   \n",
        "\n",
        "\n",
        "# Objeto figura:\n",
        "fig = go.Figure(data=data, layout=configuracoes_layout)\n",
        "\n",
        "# plotando o grafico:\n",
        "py.iplot(fig)"
      ]
    },
    {
      "cell_type": "markdown",
      "metadata": {
        "colab_type": "text",
        "id": "VYb28Y2gvsJK"
      },
      "source": [
        "#### Engenharia de Features para Séries temporais"
      ]
    },
    {
      "cell_type": "markdown",
      "metadata": {
        "colab_type": "text",
        "id": "ywxuog383C0s"
      },
      "source": [
        "\n",
        "*   Objetivo da Engenharia de Features:\n",
        "    - Fornecer uma **forte e simples** relação entre as variáveis de entrada e a variável alvo para o algoritmo de Machine Learning\n",
        "    - Para Séries temporais não existe uma relação entre **variáveis de entrada e saída**, nós devemos inventar esses para modelar isso como um problema de aprendizado supervisionado a partir do zero.\n",
        "    - Podemos nos basear na capacidade de modelos sofisticados para decifrar a complexidade do problema. Ou melhor, podemos facilitar o trabalho para esses modelos (e até usar modelos mais simples) se pudermos expor melhor o relacionamento inerente entre entradas e saídas nos dados.\n",
        "\n",
        "*  É muito usado em séries temporais features que refletem:\n",
        "\n",
        "  - *Sazonalidade.*\n",
        "  - *Janelas de tempo (lag).*\n",
        "  - *Janelas de tempo com estatísticas.*\n",
        "\n",
        "*   Foco no negócio. Exemplos: \n",
        "    - *Trimestre, dia da semana, dia do mês, feriados, final de semana*\n",
        "    - *vendas dos dias ou periodos anteriores ou a diferença desses valores*\n",
        "\n",
        "\n",
        "\n"
      ]
    },
    {
      "cell_type": "code",
      "execution_count": null,
      "metadata": {
        "colab": {},
        "colab_type": "code",
        "id": "_39vncfs1x0j"
      },
      "outputs": [],
      "source": [
        "# datetime tipo de dado\n",
        "type(series.index)"
      ]
    },
    {
      "cell_type": "code",
      "execution_count": null,
      "metadata": {
        "colab": {},
        "colab_type": "code",
        "id": "AA4qUGVHaewh"
      },
      "outputs": [],
      "source": [
        "series"
      ]
    },
    {
      "cell_type": "code",
      "execution_count": null,
      "metadata": {
        "colab": {},
        "colab_type": "code",
        "id": "a_JbOTS9wMTT"
      },
      "outputs": [],
      "source": [
        "# retorna a hora do datetime\n",
        "series.index.hour"
      ]
    },
    {
      "cell_type": "code",
      "execution_count": null,
      "metadata": {
        "colab": {},
        "colab_type": "code",
        "id": "V_Bcf487zpsv"
      },
      "outputs": [],
      "source": [
        "# retorna o trimestre\n",
        "series.index.quarter"
      ]
    },
    {
      "cell_type": "code",
      "execution_count": null,
      "metadata": {
        "colab": {},
        "colab_type": "code",
        "id": "lbgyOdME0LFr"
      },
      "outputs": [],
      "source": [
        "# retorna o dia da semana\n",
        "series.index.dayofweek"
      ]
    },
    {
      "cell_type": "code",
      "execution_count": null,
      "metadata": {
        "colab": {},
        "colab_type": "code",
        "id": "in2E8PAt43cc"
      },
      "outputs": [],
      "source": [
        "# retorna o dia do ano\n",
        "series.index.dayofyear"
      ]
    },
    {
      "cell_type": "code",
      "execution_count": null,
      "metadata": {
        "colab": {},
        "colab_type": "code",
        "id": "RTToeAM_472P"
      },
      "outputs": [],
      "source": [
        "# retorna se é o último dia do ano\n",
        "series.index.is_year_end"
      ]
    },
    {
      "cell_type": "code",
      "execution_count": null,
      "metadata": {
        "colab": {},
        "colab_type": "code",
        "id": "hquWaeGH5Kv5"
      },
      "outputs": [],
      "source": [
        "# retorna se é o primeiro dia do ano\n",
        "series.index.is_year_start"
      ]
    },
    {
      "cell_type": "markdown",
      "metadata": {
        "colab_type": "text",
        "id": "2qz0LqUzvajg"
      },
      "source": [
        "### Manipulando datas"
      ]
    },
    {
      "cell_type": "code",
      "execution_count": null,
      "metadata": {
        "colab": {},
        "colab_type": "code",
        "id": "YudpWIeAvVK7"
      },
      "outputs": [],
      "source": [
        "import pandas as pd\n",
        "faixa = pd.date_range(start='2019-01-01', end='2019-12-31', freq='B')"
      ]
    },
    {
      "cell_type": "code",
      "execution_count": null,
      "metadata": {
        "colab": {},
        "colab_type": "code",
        "id": "j8-oVMT5vVHN"
      },
      "outputs": [],
      "source": [
        "faixa"
      ]
    },
    {
      "cell_type": "code",
      "execution_count": null,
      "metadata": {
        "colab": {},
        "colab_type": "code",
        "id": "CenbeNfq4qsy"
      },
      "outputs": [],
      "source": [
        "pip install holidays"
      ]
    },
    {
      "cell_type": "code",
      "execution_count": null,
      "metadata": {
        "colab": {},
        "colab_type": "code",
        "id": "YxEgHfgE4qcZ"
      },
      "outputs": [],
      "source": [
        "import holidays\n",
        "from datetime import date"
      ]
    },
    {
      "cell_type": "code",
      "execution_count": null,
      "metadata": {
        "colab": {},
        "colab_type": "code",
        "id": "bEDyApgY5SW3"
      },
      "outputs": [],
      "source": [
        "feriados = holidays.Brazil()"
      ]
    },
    {
      "cell_type": "code",
      "execution_count": null,
      "metadata": {
        "colab": {},
        "colab_type": "code",
        "id": "cvOH4HTx5SS1"
      },
      "outputs": [],
      "source": [
        "# Natal\n",
        "date(2019, 12, 25) in feriados"
      ]
    },
    {
      "cell_type": "code",
      "execution_count": null,
      "metadata": {
        "colab": {},
        "colab_type": "code",
        "id": "tQl0o98e5SJh"
      },
      "outputs": [],
      "source": [
        "# Páscoa\n",
        "date(2019, 4, 12) in feriados"
      ]
    },
    {
      "cell_type": "code",
      "execution_count": null,
      "metadata": {
        "colab": {},
        "colab_type": "code",
        "id": "W-T2q9J76e3Z"
      },
      "outputs": [],
      "source": [
        "# Tiradentes\n",
        "date(2019, 4, 21) in feriados"
      ]
    },
    {
      "cell_type": "code",
      "execution_count": null,
      "metadata": {
        "colab": {},
        "colab_type": "code",
        "id": "UoXpm0j26klh"
      },
      "outputs": [],
      "source": [
        "# Dia do trabalho\n",
        "date(2019, 5, 1) in feriados"
      ]
    },
    {
      "cell_type": "code",
      "execution_count": null,
      "metadata": {
        "colab": {},
        "colab_type": "code",
        "id": "BAbAKipp6zaf"
      },
      "outputs": [],
      "source": [
        "dias_uteis = []\n",
        "for dia in faixa.values:\n",
        "  dia = pd.to_datetime(dia).date()\n",
        "  print (dia in feriados)\n",
        "  if dia in feriados:\n",
        "    continue\n",
        "  else:\n",
        "    dias_uteis.append(dia)"
      ]
    },
    {
      "cell_type": "code",
      "execution_count": null,
      "metadata": {
        "colab": {},
        "colab_type": "code",
        "id": "3H6pjA5b81Ve"
      },
      "outputs": [],
      "source": [
        "len(dias_uteis)"
      ]
    },
    {
      "cell_type": "code",
      "execution_count": null,
      "metadata": {
        "colab": {},
        "colab_type": "code",
        "id": "nX2lIqQg9gYF"
      },
      "outputs": [],
      "source": [
        "dias_uteis = pd.to_datetime(dias_uteis)"
      ]
    },
    {
      "cell_type": "code",
      "execution_count": null,
      "metadata": {
        "colab": {},
        "colab_type": "code",
        "id": "JIRXiYp09zXu"
      },
      "outputs": [],
      "source": [
        "dias_uteis"
      ]
    },
    {
      "cell_type": "code",
      "execution_count": null,
      "metadata": {
        "colab": {},
        "colab_type": "code",
        "id": "Iv3SqJNx9HE0"
      },
      "outputs": [],
      "source": [
        "'2019-01-01' in dias_uteis"
      ]
    },
    {
      "cell_type": "code",
      "execution_count": null,
      "metadata": {
        "colab": {},
        "colab_type": "code",
        "id": "ZUs7gEYs9bYB"
      },
      "outputs": [],
      "source": [
        "'2019-01-02' in dias_uteis"
      ]
    },
    {
      "cell_type": "markdown",
      "metadata": {
        "colab_type": "text",
        "id": "-ARK7GBUV2Wu"
      },
      "source": [
        "##### **Features de data**\n",
        "- Dois recursos com os quais podemos começar são o mês e o dia de vendas.\n",
        "- Podemos imaginar que algoritmos de aprendizado supervisionado podem usar essas entradas para ajudar a obter informações de sazonalidade, como por exemplo: *mês com mais vendas, ou dia do mês que mais vende*."
      ]
    },
    {
      "cell_type": "code",
      "execution_count": null,
      "metadata": {
        "colab": {},
        "colab_type": "code",
        "id": "n-94VwOvvrvw"
      },
      "outputs": [],
      "source": [
        "dataframe = DataFrame()"
      ]
    },
    {
      "cell_type": "code",
      "execution_count": null,
      "metadata": {
        "colab": {},
        "colab_type": "code",
        "id": "6qNJRIrqQEh1"
      },
      "outputs": [],
      "source": [
        "dataframe['mes'] = [series.index[i].month for i in range(len(series))]"
      ]
    },
    {
      "cell_type": "code",
      "execution_count": null,
      "metadata": {
        "colab": {},
        "colab_type": "code",
        "id": "UQsh40nqP5Rx"
      },
      "outputs": [],
      "source": [
        "dataframe['dia'] = [series.index[i].day for i in range(len(series))]"
      ]
    },
    {
      "cell_type": "code",
      "execution_count": null,
      "metadata": {
        "colab": {},
        "colab_type": "code",
        "id": "YfZhJHP8P5HF"
      },
      "outputs": [],
      "source": [
        "dataframe['vendas'] = [series[i] for i in range(len(series))]"
      ]
    },
    {
      "cell_type": "code",
      "execution_count": null,
      "metadata": {
        "colab": {},
        "colab_type": "code",
        "id": "rhcS0rXVP02g"
      },
      "outputs": [],
      "source": [
        "dataframe"
      ]
    },
    {
      "cell_type": "markdown",
      "metadata": {
        "colab_type": "text",
        "id": "_uPyQMtu626q"
      },
      "source": [
        "### Lag Features\n",
        "\n",
        "- Slide Window (Janelas deslizantes)"
      ]
    },
    {
      "cell_type": "code",
      "execution_count": null,
      "metadata": {
        "colab": {},
        "colab_type": "code",
        "id": "j0mRxnDS6IgT"
      },
      "outputs": [],
      "source": [
        "series.head()"
      ]
    },
    {
      "cell_type": "code",
      "execution_count": null,
      "metadata": {
        "colab": {},
        "colab_type": "code",
        "id": "K9xeZQBRQgI0"
      },
      "outputs": [],
      "source": [
        "# desloca o valor um lag a frente\n",
        "series.shift()"
      ]
    },
    {
      "cell_type": "code",
      "execution_count": null,
      "metadata": {
        "colab": {},
        "colab_type": "code",
        "id": "FaGtDGeDQlPF"
      },
      "outputs": [],
      "source": [
        "# desloca o valor um lag a frente\n",
        "series.shift(1)"
      ]
    },
    {
      "cell_type": "code",
      "execution_count": null,
      "metadata": {
        "colab": {},
        "colab_type": "code",
        "id": "2QlEoXuVQuuz"
      },
      "outputs": [],
      "source": [
        "# Cria um dataframe chamado temp\n",
        "temp = DataFrame(series.values)"
      ]
    },
    {
      "cell_type": "code",
      "execution_count": null,
      "metadata": {
        "colab": {},
        "colab_type": "code",
        "id": "A2dgktEBRibM"
      },
      "outputs": [],
      "source": [
        "temp"
      ]
    },
    {
      "cell_type": "code",
      "execution_count": null,
      "metadata": {
        "colab": {},
        "colab_type": "code",
        "id": "J4JgpCQCRmNW"
      },
      "outputs": [],
      "source": [
        "# Desloca o valor um lag a frente\n",
        "temp.shift(1)"
      ]
    },
    {
      "cell_type": "markdown",
      "metadata": {
        "colab_type": "text",
        "id": "fnJ59SVJRvQR"
      },
      "source": [
        "Concatenando o dataframe"
      ]
    },
    {
      "cell_type": "code",
      "execution_count": null,
      "metadata": {
        "colab": {},
        "colab_type": "code",
        "id": "i2Kz83_E6H21"
      },
      "outputs": [],
      "source": [
        "from pandas import concat\n",
        "dataframe = concat([temp.shift(1), temp], axis=1)"
      ]
    },
    {
      "cell_type": "code",
      "execution_count": null,
      "metadata": {
        "colab": {},
        "colab_type": "code",
        "id": "ZV1zfHEd6HqF"
      },
      "outputs": [],
      "source": [
        "# cria as coluanas t e t+1\n",
        "dataframe.columns = ['t', 't+1']"
      ]
    },
    {
      "cell_type": "code",
      "execution_count": null,
      "metadata": {
        "colab": {},
        "colab_type": "code",
        "id": "yXRQhCoF6HmQ"
      },
      "outputs": [],
      "source": [
        "dataframe.head(5)"
      ]
    },
    {
      "cell_type": "markdown",
      "metadata": {
        "colab_type": "text",
        "id": "1mgqvjlRVl2u"
      },
      "source": [
        "Expandindo os lags"
      ]
    },
    {
      "cell_type": "code",
      "execution_count": null,
      "metadata": {
        "colab": {},
        "colab_type": "code",
        "id": "5i3ncAsKV9hI"
      },
      "outputs": [],
      "source": [
        "temp = DataFrame(series.values)"
      ]
    },
    {
      "cell_type": "code",
      "execution_count": null,
      "metadata": {
        "colab": {},
        "colab_type": "code",
        "id": "O1kdzYsmo-yN"
      },
      "outputs": [],
      "source": [
        "# expandindo 2 lags a frente\n",
        "temp.shift(2)"
      ]
    },
    {
      "cell_type": "code",
      "execution_count": null,
      "metadata": {
        "colab": {},
        "colab_type": "code",
        "id": "dcabnziHpDKZ"
      },
      "outputs": [],
      "source": [
        "# expandindo 3 lags a frente\n",
        "temp.shift(3)"
      ]
    },
    {
      "cell_type": "code",
      "execution_count": null,
      "metadata": {
        "colab": {},
        "colab_type": "code",
        "id": "UTM3X70U6HaT"
      },
      "outputs": [],
      "source": [
        "# concatena lags\n",
        "dataframe = concat([temp.shift(3), temp.shift(2), temp.shift(1), temp], axis=1)"
      ]
    },
    {
      "cell_type": "code",
      "execution_count": null,
      "metadata": {
        "colab": {},
        "colab_type": "code",
        "id": "rADWo0JIVlDa"
      },
      "outputs": [],
      "source": [
        "# cria colunas\n",
        "dataframe.columns = ['t-2', 't-1', 't', 't+1']"
      ]
    },
    {
      "cell_type": "code",
      "execution_count": null,
      "metadata": {
        "colab": {},
        "colab_type": "code",
        "id": "tMKIOslwVk-s"
      },
      "outputs": [],
      "source": [
        "# imprime o dataframe gerado\n",
        "print(dataframe.head(10))"
      ]
    },
    {
      "cell_type": "code",
      "execution_count": null,
      "metadata": {
        "colab": {},
        "colab_type": "code",
        "id": "EX1UfWRnpysm"
      },
      "outputs": [],
      "source": [
        "# dados originais..\n",
        "temp.head(10)"
      ]
    },
    {
      "cell_type": "markdown",
      "metadata": {
        "colab_type": "text",
        "id": "fI2XLDpgY4ED"
      },
      "source": [
        "### Trabalhando com o método Rolling "
      ]
    },
    {
      "cell_type": "code",
      "execution_count": null,
      "metadata": {
        "colab": {},
        "colab_type": "code",
        "id": "rKYpPUimZQYl"
      },
      "outputs": [],
      "source": [
        "# cria um dataframe a partir dos dados originais\n",
        "temp = pd.DataFrame(series.values)"
      ]
    },
    {
      "cell_type": "code",
      "execution_count": null,
      "metadata": {
        "colab": {},
        "colab_type": "code",
        "id": "Gi82jdjKVk5S"
      },
      "outputs": [],
      "source": [
        "# a variável dados_deslocados recebe os dados de um lag a frente\n",
        "dados_deslocados = temp.shift(1)"
      ]
    },
    {
      "cell_type": "code",
      "execution_count": null,
      "metadata": {
        "colab": {},
        "colab_type": "code",
        "id": "NOeI-Ymyr2vn"
      },
      "outputs": [],
      "source": [
        "# imprime a variável dados_deslocados\n",
        "dados_deslocados"
      ]
    },
    {
      "cell_type": "code",
      "execution_count": null,
      "metadata": {
        "colab": {},
        "colab_type": "code",
        "id": "A6QIxlA8Vkjv"
      },
      "outputs": [],
      "source": [
        "# cria uma variável com rolling\n",
        "window = dados_deslocados.rolling(window=2)"
      ]
    },
    {
      "cell_type": "code",
      "execution_count": null,
      "metadata": {
        "colab": {},
        "colab_type": "code",
        "id": "TkByLNavqQzL"
      },
      "outputs": [],
      "source": [
        "# imprime a variável window\n",
        "window"
      ]
    },
    {
      "cell_type": "code",
      "execution_count": null,
      "metadata": {
        "colab": {},
        "colab_type": "code",
        "id": "b5kJfbRYVkgq"
      },
      "outputs": [],
      "source": [
        "# cria a variável media\n",
        "media = window.mean()"
      ]
    },
    {
      "cell_type": "code",
      "execution_count": null,
      "metadata": {
        "colab": {},
        "colab_type": "code",
        "id": "z_-WWOgEq1Sn"
      },
      "outputs": [],
      "source": [
        "# imprime a variável media\n",
        "media"
      ]
    },
    {
      "cell_type": "code",
      "execution_count": null,
      "metadata": {
        "colab": {},
        "colab_type": "code",
        "id": "OzABIwl6ZFmX"
      },
      "outputs": [],
      "source": [
        "# cria um dataframe concatendo a media com os dados reais\n",
        "dataframe = concat([media, temp], axis=1)"
      ]
    },
    {
      "cell_type": "code",
      "execution_count": null,
      "metadata": {
        "colab": {},
        "colab_type": "code",
        "id": "fzyPhGK3ZGgC"
      },
      "outputs": [],
      "source": [
        "# cria as colunas\n",
        "dataframe.columns = ['mean(t-1,t)', 't+1']"
      ]
    },
    {
      "cell_type": "code",
      "execution_count": null,
      "metadata": {
        "colab": {},
        "colab_type": "code",
        "id": "z4_LRCQ3ZGUR"
      },
      "outputs": [],
      "source": [
        "# imprime o dataframe gerado\n",
        "print(dataframe.head(10))"
      ]
    },
    {
      "cell_type": "markdown",
      "metadata": {
        "colab_type": "text",
        "id": "3HbUhc4sbXhQ"
      },
      "source": [
        "Entendendo os dados gerados..\n",
        "\n",
        "- `Os primeiros NaN values foram criados pelo deslocamento dos dados.`\n",
        "\n",
        "- `O segundo valor não pode ser usado apenas para calcular a média.`\n",
        "\n",
        "- `A terceira linha mostra o valor esperado de 2743.5 (média de 2815 e 2672) e o valor de t+1`\n"
      ]
    },
    {
      "cell_type": "markdown",
      "metadata": {
        "colab_type": "text",
        "id": "NL6LzdFUakIb"
      },
      "source": [
        "Comparando com a série original..."
      ]
    },
    {
      "cell_type": "code",
      "execution_count": null,
      "metadata": {
        "colab": {},
        "colab_type": "code",
        "id": "MF-DIkizZGR3"
      },
      "outputs": [],
      "source": [
        "series.head()"
      ]
    },
    {
      "cell_type": "markdown",
      "metadata": {
        "colab_type": "text",
        "id": "1F3gfJf0cM6B"
      },
      "source": [
        "Adicionando estatística nos dados"
      ]
    },
    {
      "cell_type": "code",
      "execution_count": null,
      "metadata": {
        "colab": {},
        "colab_type": "code",
        "id": "9Ly3KklecAOS"
      },
      "outputs": [],
      "source": [
        "# define a variável tamanho\n",
        "tamanho = 3"
      ]
    },
    {
      "cell_type": "code",
      "execution_count": null,
      "metadata": {
        "colab": {},
        "colab_type": "code",
        "id": "aLuNhZZ9cAFV"
      },
      "outputs": [],
      "source": [
        "# variável dados_deslocados recebe tamanho - 1\n",
        "dados_deslocados = temp.shift(tamanho)"
      ]
    },
    {
      "cell_type": "code",
      "execution_count": null,
      "metadata": {
        "colab": {},
        "colab_type": "code",
        "id": "skj2-c9ttkiE"
      },
      "outputs": [],
      "source": [
        "# imprime a variável dados_deslocados\n",
        "dados_deslocados"
      ]
    },
    {
      "cell_type": "code",
      "execution_count": null,
      "metadata": {
        "colab": {},
        "colab_type": "code",
        "id": "uL6FSF9kZGPK"
      },
      "outputs": [],
      "source": [
        "# cria a variável janela que recebe o rolling do tamanho especificado\n",
        "janela = dados_deslocados.rolling(window=tamanho)"
      ]
    },
    {
      "cell_type": "code",
      "execution_count": null,
      "metadata": {
        "colab": {},
        "colab_type": "code",
        "id": "2l5AlScouA4z"
      },
      "outputs": [],
      "source": [
        "janela"
      ]
    },
    {
      "cell_type": "code",
      "execution_count": null,
      "metadata": {
        "colab": {},
        "colab_type": "code",
        "id": "G7qmh-rDZGLV"
      },
      "outputs": [],
      "source": [
        "# cria o dataframe com as estatísticas da janela\n",
        "dataframe = concat([window.min(), window.mean(), window.max(), temp], axis=1)"
      ]
    },
    {
      "cell_type": "code",
      "execution_count": null,
      "metadata": {
        "colab": {},
        "colab_type": "code",
        "id": "eyTNp98GTKjG"
      },
      "outputs": [],
      "source": [
        "# imprime o dataframe gerado\n",
        "dataframe"
      ]
    },
    {
      "cell_type": "code",
      "execution_count": null,
      "metadata": {
        "colab": {},
        "colab_type": "code",
        "id": "sf_q219lZGHv"
      },
      "outputs": [],
      "source": [
        "# cria as colunas do dataframe\n",
        "dataframe.columns = ['min', 'mean', 'max', 't+1']"
      ]
    },
    {
      "cell_type": "code",
      "execution_count": null,
      "metadata": {
        "colab": {},
        "colab_type": "code",
        "id": "tFCdA8TNcI6f"
      },
      "outputs": [],
      "source": [
        "# imprime o dataframe\n",
        "dataframe.head(10)"
      ]
    },
    {
      "cell_type": "markdown",
      "metadata": {
        "colab_type": "text",
        "id": "tH7nJ9OLuDsW"
      },
      "source": [
        "### Médias Móveis (Average Moving Smoothing)"
      ]
    },
    {
      "cell_type": "markdown",
      "metadata": {
        "colab_type": "text",
        "id": "cqvFD0v2yRtu"
      },
      "source": [
        "\n",
        "\n",
        "*   Valor médio de valores em uma sequência de tempo.\n",
        "*   Técnica de suavização que remove variações finas nos dados.\n",
        "*   Objetivo é remover ruídos e fazer previsões.\n",
        "*   Pode ser usado para Feature Engineering.\n",
        "\n"
      ]
    },
    {
      "cell_type": "code",
      "execution_count": 4,
      "metadata": {
        "colab": {},
        "colab_type": "code",
        "id": "afLyotsTuCbS"
      },
      "outputs": [],
      "source": [
        "# importa as bibliotecas que serão usadas\n",
        "import pandas as pd\n",
        "from pandas import read_csv\n",
        "from pandas import concat\n",
        "from matplotlib import pyplot"
      ]
    },
    {
      "cell_type": "code",
      "execution_count": 3,
      "metadata": {
        "colab": {},
        "colab_type": "code",
        "id": "WuThxV47nRCq"
      },
      "outputs": [
        {
          "name": "stderr",
          "output_type": "stream",
          "text": [
            "/tmp/ipykernel_13871/2956780058.py:2: FutureWarning: The squeeze argument has been deprecated and will be removed in a future version. Append .squeeze(\"columns\") to the call to squeeze.\n",
            "\n",
            "\n",
            "  series = read_csv('../data/champagne_sales.csv', header=0, index_col=0, parse_dates=True, squeeze=True)\n"
          ]
        }
      ],
      "source": [
        "# ler a base de dados usada.\n",
        "series = read_csv('../data/champagne_sales.csv', header=0, index_col=0, parse_dates=True, squeeze=True)"
      ]
    },
    {
      "cell_type": "code",
      "execution_count": 5,
      "metadata": {
        "colab": {},
        "colab_type": "code",
        "id": "tUPzOlag6fTU"
      },
      "outputs": [],
      "source": [
        "# cria um objeto rolling de janela igual a 3\n",
        "rolling = series.rolling(window=3)"
      ]
    },
    {
      "cell_type": "code",
      "execution_count": 6,
      "metadata": {
        "colab": {},
        "colab_type": "code",
        "id": "0bXZzKIHTL3f"
      },
      "outputs": [
        {
          "data": {
            "text/plain": [
              "Rolling [window=3,center=False,axis=0,method=single]"
            ]
          },
          "execution_count": 6,
          "metadata": {},
          "output_type": "execute_result"
        }
      ],
      "source": [
        "rolling"
      ]
    },
    {
      "cell_type": "code",
      "execution_count": 7,
      "metadata": {
        "colab": {},
        "colab_type": "code",
        "id": "tSO8Z_E8uCOt"
      },
      "outputs": [],
      "source": [
        "# calcula a média da janela\n",
        "rolling_mean = rolling.mean()"
      ]
    },
    {
      "cell_type": "code",
      "execution_count": 8,
      "metadata": {
        "colab": {},
        "colab_type": "code",
        "id": "M-OEef226Cur"
      },
      "outputs": [
        {
          "name": "stdout",
          "output_type": "stream",
          "text": [
            "Month\n",
            "1964-01-01            NaN\n",
            "1964-02-01            NaN\n",
            "1964-03-01    2747.333333\n",
            "1964-04-01    2716.000000\n",
            "1964-05-01    2807.333333\n",
            "1964-06-01    2901.000000\n",
            "1964-07-01    2754.666667\n",
            "1964-08-01    2510.000000\n",
            "1964-09-01    2472.000000\n",
            "1964-10-01    3145.000000\n",
            "Name: Sales, dtype: float64\n"
          ]
        }
      ],
      "source": [
        "# imprime o objeto rolling_mean\n",
        "print(rolling_mean.head(10))"
      ]
    },
    {
      "cell_type": "code",
      "execution_count": 9,
      "metadata": {
        "colab": {},
        "colab_type": "code",
        "id": "by_mU1NA5zdD"
      },
      "outputs": [
        {
          "data": {
            "image/png": "[encoded data removed]",
            "text/plain": [
              "<Figure size 640x480 with 1 Axes>"
            ]
          },
          "metadata": {},
          "output_type": "display_data"
        }
      ],
      "source": [
        "# plot os dados originais e os dados da média móvel \n",
        "series.plot()\n",
        "rolling_mean.plot(color='red')\n",
        "pyplot.show()"
      ]
    },
    {
      "cell_type": "markdown",
      "metadata": {
        "colab_type": "text",
        "id": "hgVIRtad9_U4"
      },
      "source": [
        "#### Média Móvel - Engenharia de Features\n",
        "\n"
      ]
    },
    {
      "cell_type": "code",
      "execution_count": 10,
      "metadata": {
        "colab": {},
        "colab_type": "code",
        "id": "6SmAtOCc-Rm8"
      },
      "outputs": [],
      "source": [
        "from pandas import DataFrame"
      ]
    },
    {
      "cell_type": "code",
      "execution_count": 11,
      "metadata": {
        "colab": {},
        "colab_type": "code",
        "id": "PnSVlV7A-dGX"
      },
      "outputs": [],
      "source": [
        "# cria um dataframe df\n",
        "df = DataFrame(series.values)"
      ]
    },
    {
      "cell_type": "code",
      "execution_count": 12,
      "metadata": {
        "colab": {},
        "colab_type": "code",
        "id": "fHWiVNPswySh"
      },
      "outputs": [
        {
          "data": {
            "text/html": [
              "<div>\n",
              "<style scoped>\n",
              "    .dataframe tbody tr th:only-of-type {\n",
              "        vertical-align: middle;\n",
              "    }\n",
              "\n",
              "    .dataframe tbody tr th {\n",
              "        vertical-align: top;\n",
              "    }\n",
              "\n",
              "    .dataframe thead th {\n",
              "        text-align: right;\n",
              "    }\n",
              "</style>\n",
              "<table border=\"1\" class=\"dataframe\">\n",
              "  <thead>\n",
              "    <tr style=\"text-align: right;\">\n",
              "      <th></th>\n",
              "      <th>0</th>\n",
              "    </tr>\n",
              "  </thead>\n",
              "  <tbody>\n",
              "    <tr>\n",
              "      <th>0</th>\n",
              "      <td>2815</td>\n",
              "    </tr>\n",
              "    <tr>\n",
              "      <th>1</th>\n",
              "      <td>2672</td>\n",
              "    </tr>\n",
              "    <tr>\n",
              "      <th>2</th>\n",
              "      <td>2755</td>\n",
              "    </tr>\n",
              "    <tr>\n",
              "      <th>3</th>\n",
              "      <td>2721</td>\n",
              "    </tr>\n",
              "    <tr>\n",
              "      <th>4</th>\n",
              "      <td>2946</td>\n",
              "    </tr>\n",
              "  </tbody>\n",
              "</table>\n",
              "</div>"
            ],
            "text/plain": [
              "      0\n",
              "0  2815\n",
              "1  2672\n",
              "2  2755\n",
              "3  2721\n",
              "4  2946"
            ]
          },
          "execution_count": 12,
          "metadata": {},
          "output_type": "execute_result"
        }
      ],
      "source": [
        "# imprime as 5 linhas do dataframe\n",
        "df.head()"
      ]
    },
    {
      "cell_type": "code",
      "execution_count": 13,
      "metadata": {
        "colab": {},
        "colab_type": "code",
        "id": "1EWNvA-a-oei"
      },
      "outputs": [],
      "source": [
        "# cria uma constante\n",
        "tamanho = 3"
      ]
    },
    {
      "cell_type": "code",
      "execution_count": 14,
      "metadata": {
        "colab": {},
        "colab_type": "code",
        "id": "KswSf9ov-vr7"
      },
      "outputs": [],
      "source": [
        "# cria uma variável com os dados deslocados +1\n",
        "lag1 = df.shift(1)"
      ]
    },
    {
      "cell_type": "code",
      "execution_count": 15,
      "metadata": {
        "colab": {},
        "colab_type": "code",
        "id": "SneUBQEl-xrK"
      },
      "outputs": [],
      "source": [
        "# cria uma variável com os dados deslocados +3\n",
        "lag3 = df.shift(tamanho)"
      ]
    },
    {
      "cell_type": "code",
      "execution_count": 16,
      "metadata": {
        "colab": {},
        "colab_type": "code",
        "id": "HEsFFF8w6yGs"
      },
      "outputs": [],
      "source": [
        "# cria uma janela usando o rolling\n",
        "window = lag3.rolling(window=tamanho)"
      ]
    },
    {
      "cell_type": "code",
      "execution_count": 17,
      "metadata": {
        "colab": {},
        "colab_type": "code",
        "id": "ZqGb2sqnzblh"
      },
      "outputs": [
        {
          "data": {
            "text/plain": [
              "Rolling [window=3,center=False,axis=0,method=single]"
            ]
          },
          "execution_count": 17,
          "metadata": {},
          "output_type": "execute_result"
        }
      ],
      "source": [
        "# imprime a janela\n",
        "window"
      ]
    },
    {
      "cell_type": "code",
      "execution_count": 18,
      "metadata": {
        "colab": {},
        "colab_type": "code",
        "id": "bOXK1ip_-7nr"
      },
      "outputs": [],
      "source": [
        "# cria a variável media que é a média da jenela.\n",
        "media = window.mean()"
      ]
    },
    {
      "cell_type": "code",
      "execution_count": 19,
      "metadata": {
        "colab": {},
        "colab_type": "code",
        "id": "SQm_sZWrzgdN"
      },
      "outputs": [
        {
          "data": {
            "text/html": [
              "<div>\n",
              "<style scoped>\n",
              "    .dataframe tbody tr th:only-of-type {\n",
              "        vertical-align: middle;\n",
              "    }\n",
              "\n",
              "    .dataframe tbody tr th {\n",
              "        vertical-align: top;\n",
              "    }\n",
              "\n",
              "    .dataframe thead th {\n",
              "        text-align: right;\n",
              "    }\n",
              "</style>\n",
              "<table border=\"1\" class=\"dataframe\">\n",
              "  <thead>\n",
              "    <tr style=\"text-align: right;\">\n",
              "      <th></th>\n",
              "      <th>0</th>\n",
              "    </tr>\n",
              "  </thead>\n",
              "  <tbody>\n",
              "    <tr>\n",
              "      <th>0</th>\n",
              "      <td>NaN</td>\n",
              "    </tr>\n",
              "    <tr>\n",
              "      <th>1</th>\n",
              "      <td>NaN</td>\n",
              "    </tr>\n",
              "    <tr>\n",
              "      <th>2</th>\n",
              "      <td>NaN</td>\n",
              "    </tr>\n",
              "    <tr>\n",
              "      <th>3</th>\n",
              "      <td>NaN</td>\n",
              "    </tr>\n",
              "    <tr>\n",
              "      <th>4</th>\n",
              "      <td>NaN</td>\n",
              "    </tr>\n",
              "    <tr>\n",
              "      <th>...</th>\n",
              "      <td>...</td>\n",
              "    </tr>\n",
              "    <tr>\n",
              "      <th>100</th>\n",
              "      <td>6860.666667</td>\n",
              "    </tr>\n",
              "    <tr>\n",
              "      <th>101</th>\n",
              "      <td>4163.000000</td>\n",
              "    </tr>\n",
              "    <tr>\n",
              "      <th>102</th>\n",
              "      <td>4309.666667</td>\n",
              "    </tr>\n",
              "    <tr>\n",
              "      <th>103</th>\n",
              "      <td>4661.000000</td>\n",
              "    </tr>\n",
              "    <tr>\n",
              "      <th>104</th>\n",
              "      <td>4906.000000</td>\n",
              "    </tr>\n",
              "  </tbody>\n",
              "</table>\n",
              "<p>105 rows × 1 columns</p>\n",
              "</div>"
            ],
            "text/plain": [
              "               0\n",
              "0            NaN\n",
              "1            NaN\n",
              "2            NaN\n",
              "3            NaN\n",
              "4            NaN\n",
              "..           ...\n",
              "100  6860.666667\n",
              "101  4163.000000\n",
              "102  4309.666667\n",
              "103  4661.000000\n",
              "104  4906.000000\n",
              "\n",
              "[105 rows x 1 columns]"
            ]
          },
          "execution_count": 19,
          "metadata": {},
          "output_type": "execute_result"
        }
      ],
      "source": [
        "# imprime a variável media\n",
        "media"
      ]
    },
    {
      "cell_type": "code",
      "execution_count": 20,
      "metadata": {
        "colab": {},
        "colab_type": "code",
        "id": "3FoCEORarunm"
      },
      "outputs": [
        {
          "data": {
            "text/html": [
              "<div>\n",
              "<style scoped>\n",
              "    .dataframe tbody tr th:only-of-type {\n",
              "        vertical-align: middle;\n",
              "    }\n",
              "\n",
              "    .dataframe tbody tr th {\n",
              "        vertical-align: top;\n",
              "    }\n",
              "\n",
              "    .dataframe thead th {\n",
              "        text-align: right;\n",
              "    }\n",
              "</style>\n",
              "<table border=\"1\" class=\"dataframe\">\n",
              "  <thead>\n",
              "    <tr style=\"text-align: right;\">\n",
              "      <th></th>\n",
              "      <th>0</th>\n",
              "    </tr>\n",
              "  </thead>\n",
              "  <tbody>\n",
              "    <tr>\n",
              "      <th>0</th>\n",
              "      <td>2815</td>\n",
              "    </tr>\n",
              "    <tr>\n",
              "      <th>1</th>\n",
              "      <td>2672</td>\n",
              "    </tr>\n",
              "    <tr>\n",
              "      <th>2</th>\n",
              "      <td>2755</td>\n",
              "    </tr>\n",
              "    <tr>\n",
              "      <th>3</th>\n",
              "      <td>2721</td>\n",
              "    </tr>\n",
              "    <tr>\n",
              "      <th>4</th>\n",
              "      <td>2946</td>\n",
              "    </tr>\n",
              "  </tbody>\n",
              "</table>\n",
              "</div>"
            ],
            "text/plain": [
              "      0\n",
              "0  2815\n",
              "1  2672\n",
              "2  2755\n",
              "3  2721\n",
              "4  2946"
            ]
          },
          "execution_count": 20,
          "metadata": {},
          "output_type": "execute_result"
        }
      ],
      "source": [
        "# imprime o dataframe\n",
        "df.head()"
      ]
    },
    {
      "cell_type": "code",
      "execution_count": 21,
      "metadata": {
        "colab": {},
        "colab_type": "code",
        "id": "Xs_flZhN-5S0"
      },
      "outputs": [],
      "source": [
        "# concatena os dados\n",
        "dataframe = concat([media, lag1, df], axis=1)"
      ]
    },
    {
      "cell_type": "code",
      "execution_count": 22,
      "metadata": {
        "colab": {},
        "colab_type": "code",
        "id": "vmEbe4Kcztd2"
      },
      "outputs": [],
      "source": [
        "# cria as colunas\n",
        "dataframe.columns = ['media', 't', 't+1']"
      ]
    },
    {
      "cell_type": "code",
      "execution_count": 23,
      "metadata": {
        "colab": {},
        "colab_type": "code",
        "id": "xNPXgTNkZQCs"
      },
      "outputs": [
        {
          "data": {
            "text/html": [
              "<div>\n",
              "<style scoped>\n",
              "    .dataframe tbody tr th:only-of-type {\n",
              "        vertical-align: middle;\n",
              "    }\n",
              "\n",
              "    .dataframe tbody tr th {\n",
              "        vertical-align: top;\n",
              "    }\n",
              "\n",
              "    .dataframe thead th {\n",
              "        text-align: right;\n",
              "    }\n",
              "</style>\n",
              "<table border=\"1\" class=\"dataframe\">\n",
              "  <thead>\n",
              "    <tr style=\"text-align: right;\">\n",
              "      <th></th>\n",
              "      <th>0</th>\n",
              "    </tr>\n",
              "  </thead>\n",
              "  <tbody>\n",
              "    <tr>\n",
              "      <th>0</th>\n",
              "      <td>NaN</td>\n",
              "    </tr>\n",
              "    <tr>\n",
              "      <th>1</th>\n",
              "      <td>NaN</td>\n",
              "    </tr>\n",
              "    <tr>\n",
              "      <th>2</th>\n",
              "      <td>NaN</td>\n",
              "    </tr>\n",
              "    <tr>\n",
              "      <th>3</th>\n",
              "      <td>2815.0</td>\n",
              "    </tr>\n",
              "    <tr>\n",
              "      <th>4</th>\n",
              "      <td>2672.0</td>\n",
              "    </tr>\n",
              "    <tr>\n",
              "      <th>...</th>\n",
              "      <td>...</td>\n",
              "    </tr>\n",
              "    <tr>\n",
              "      <th>100</th>\n",
              "      <td>3564.0</td>\n",
              "    </tr>\n",
              "    <tr>\n",
              "      <th>101</th>\n",
              "      <td>4577.0</td>\n",
              "    </tr>\n",
              "    <tr>\n",
              "      <th>102</th>\n",
              "      <td>4788.0</td>\n",
              "    </tr>\n",
              "    <tr>\n",
              "      <th>103</th>\n",
              "      <td>4618.0</td>\n",
              "    </tr>\n",
              "    <tr>\n",
              "      <th>104</th>\n",
              "      <td>5312.0</td>\n",
              "    </tr>\n",
              "  </tbody>\n",
              "</table>\n",
              "<p>105 rows × 1 columns</p>\n",
              "</div>"
            ],
            "text/plain": [
              "          0\n",
              "0       NaN\n",
              "1       NaN\n",
              "2       NaN\n",
              "3    2815.0\n",
              "4    2672.0\n",
              "..      ...\n",
              "100  3564.0\n",
              "101  4577.0\n",
              "102  4788.0\n",
              "103  4618.0\n",
              "104  5312.0\n",
              "\n",
              "[105 rows x 1 columns]"
            ]
          },
          "execution_count": 23,
          "metadata": {},
          "output_type": "execute_result"
        }
      ],
      "source": [
        "lag3"
      ]
    },
    {
      "cell_type": "code",
      "execution_count": 24,
      "metadata": {
        "colab": {},
        "colab_type": "code",
        "id": "ddcQ4SGJADrO"
      },
      "outputs": [
        {
          "data": {
            "text/html": [
              "<div>\n",
              "<style scoped>\n",
              "    .dataframe tbody tr th:only-of-type {\n",
              "        vertical-align: middle;\n",
              "    }\n",
              "\n",
              "    .dataframe tbody tr th {\n",
              "        vertical-align: top;\n",
              "    }\n",
              "\n",
              "    .dataframe thead th {\n",
              "        text-align: right;\n",
              "    }\n",
              "</style>\n",
              "<table border=\"1\" class=\"dataframe\">\n",
              "  <thead>\n",
              "    <tr style=\"text-align: right;\">\n",
              "      <th></th>\n",
              "      <th>media</th>\n",
              "      <th>t</th>\n",
              "      <th>t+1</th>\n",
              "    </tr>\n",
              "  </thead>\n",
              "  <tbody>\n",
              "    <tr>\n",
              "      <th>0</th>\n",
              "      <td>NaN</td>\n",
              "      <td>NaN</td>\n",
              "      <td>2815</td>\n",
              "    </tr>\n",
              "    <tr>\n",
              "      <th>1</th>\n",
              "      <td>NaN</td>\n",
              "      <td>2815.0</td>\n",
              "      <td>2672</td>\n",
              "    </tr>\n",
              "    <tr>\n",
              "      <th>2</th>\n",
              "      <td>NaN</td>\n",
              "      <td>2672.0</td>\n",
              "      <td>2755</td>\n",
              "    </tr>\n",
              "    <tr>\n",
              "      <th>3</th>\n",
              "      <td>NaN</td>\n",
              "      <td>2755.0</td>\n",
              "      <td>2721</td>\n",
              "    </tr>\n",
              "    <tr>\n",
              "      <th>4</th>\n",
              "      <td>NaN</td>\n",
              "      <td>2721.0</td>\n",
              "      <td>2946</td>\n",
              "    </tr>\n",
              "    <tr>\n",
              "      <th>5</th>\n",
              "      <td>2747.333333</td>\n",
              "      <td>2946.0</td>\n",
              "      <td>3036</td>\n",
              "    </tr>\n",
              "    <tr>\n",
              "      <th>6</th>\n",
              "      <td>2716.000000</td>\n",
              "      <td>3036.0</td>\n",
              "      <td>2282</td>\n",
              "    </tr>\n",
              "    <tr>\n",
              "      <th>7</th>\n",
              "      <td>2807.333333</td>\n",
              "      <td>2282.0</td>\n",
              "      <td>2212</td>\n",
              "    </tr>\n",
              "    <tr>\n",
              "      <th>8</th>\n",
              "      <td>2901.000000</td>\n",
              "      <td>2212.0</td>\n",
              "      <td>2922</td>\n",
              "    </tr>\n",
              "    <tr>\n",
              "      <th>9</th>\n",
              "      <td>2754.666667</td>\n",
              "      <td>2922.0</td>\n",
              "      <td>4301</td>\n",
              "    </tr>\n",
              "  </tbody>\n",
              "</table>\n",
              "</div>"
            ],
            "text/plain": [
              "         media       t   t+1\n",
              "0          NaN     NaN  2815\n",
              "1          NaN  2815.0  2672\n",
              "2          NaN  2672.0  2755\n",
              "3          NaN  2755.0  2721\n",
              "4          NaN  2721.0  2946\n",
              "5  2747.333333  2946.0  3036\n",
              "6  2716.000000  3036.0  2282\n",
              "7  2807.333333  2282.0  2212\n",
              "8  2901.000000  2212.0  2922\n",
              "9  2754.666667  2922.0  4301"
            ]
          },
          "execution_count": 24,
          "metadata": {},
          "output_type": "execute_result"
        }
      ],
      "source": [
        "# imprime o dataframe\n",
        "dataframe.head(10)"
      ]
    },
    {
      "cell_type": "markdown",
      "metadata": {
        "colab_type": "text",
        "id": "7UfK5TM1Au6Y"
      },
      "source": [
        "#### Previsões com Média Móvel"
      ]
    },
    {
      "cell_type": "markdown",
      "metadata": {
        "colab_type": "text",
        "id": "aOjH8VgSA24f"
      },
      "source": [
        "\n",
        "\n",
        "1.   Solução simples (walk-forward)\n",
        "2.   Interessante para se criar baselines.\n",
        "3.   Pode se usar Janelas Deslizantes para trabalhar com dados quentes.\n",
        "\n"
      ]
    },
    {
      "cell_type": "code",
      "execution_count": 25,
      "metadata": {
        "colab": {},
        "colab_type": "code",
        "id": "SgzZoBzrvfkN"
      },
      "outputs": [],
      "source": [
        "from math import sqrt\n",
        "from pandas import read_csv\n",
        "from numpy import mean\n",
        "from sklearn.metrics import mean_squared_error"
      ]
    },
    {
      "cell_type": "code",
      "execution_count": 26,
      "metadata": {
        "colab": {},
        "colab_type": "code",
        "id": "XVe7wlM9A1pY"
      },
      "outputs": [
        {
          "data": {
            "text/plain": [
              "Month\n",
              "1964-01-01    2815\n",
              "1964-02-01    2672\n",
              "1964-03-01    2755\n",
              "1964-04-01    2721\n",
              "1964-05-01    2946\n",
              "              ... \n",
              "1972-05-01    4618\n",
              "1972-06-01    5312\n",
              "1972-07-01    4298\n",
              "1972-08-01    1413\n",
              "1972-09-01    5877\n",
              "Name: Sales, Length: 105, dtype: int64"
            ]
          },
          "execution_count": 26,
          "metadata": {},
          "output_type": "execute_result"
        }
      ],
      "source": [
        "series"
      ]
    },
    {
      "cell_type": "code",
      "execution_count": 27,
      "metadata": {
        "colab": {},
        "colab_type": "code",
        "id": "6R5RWFKufaXE"
      },
      "outputs": [],
      "source": [
        "# Define uma janela de 3 elementos\n",
        "window = 3"
      ]
    },
    {
      "cell_type": "code",
      "execution_count": 28,
      "metadata": {
        "colab": {},
        "colab_type": "code",
        "id": "HTlqgIKDtcsj"
      },
      "outputs": [],
      "source": [
        "# Obtem os 3 primeiros valores da serie\n",
        "history = [series.values[i] for i in range(window)]"
      ]
    },
    {
      "cell_type": "code",
      "execution_count": 29,
      "metadata": {
        "colab": {},
        "colab_type": "code",
        "id": "Cliinomlf0m9"
      },
      "outputs": [
        {
          "data": {
            "text/plain": [
              "[2815, 2672, 2755]"
            ]
          },
          "execution_count": 29,
          "metadata": {},
          "output_type": "execute_result"
        }
      ],
      "source": [
        "# imprime a variável history\n",
        "history"
      ]
    },
    {
      "cell_type": "code",
      "execution_count": 30,
      "metadata": {
        "colab": {},
        "colab_type": "code",
        "id": "QhgqJC-Lfw5O"
      },
      "outputs": [],
      "source": [
        "# Obtem todos os valores após os tres primeiros.\n",
        "# range(3, tamanho_da_serie)\n",
        "\n",
        "test = [series.values[i] for i in range(window, len(series.values))]"
      ]
    },
    {
      "cell_type": "code",
      "execution_count": 31,
      "metadata": {
        "colab": {},
        "colab_type": "code",
        "id": "9wWUrUXDuujH"
      },
      "outputs": [
        {
          "data": {
            "text/plain": [
              "[2721,\n",
              " 2946,\n",
              " 3036,\n",
              " 2282,\n",
              " 2212,\n",
              " 2922,\n",
              " 4301,\n",
              " 5764,\n",
              " 7312,\n",
              " 2541,\n",
              " 2475,\n",
              " 3031,\n",
              " 3266,\n",
              " 3776,\n",
              " 3230,\n",
              " 3028,\n",
              " 1759,\n",
              " 3595,\n",
              " 4474,\n",
              " 6838,\n",
              " 8357,\n",
              " 3113,\n",
              " 3006,\n",
              " 4047,\n",
              " 3523,\n",
              " 3937,\n",
              " 3986,\n",
              " 3260,\n",
              " 1573,\n",
              " 3528,\n",
              " 5211,\n",
              " 7614,\n",
              " 9254,\n",
              " 5375,\n",
              " 3088,\n",
              " 3718,\n",
              " 4514,\n",
              " 4520,\n",
              " 4539,\n",
              " 3663,\n",
              " 1643,\n",
              " 4739,\n",
              " 5428,\n",
              " 8314,\n",
              " 10651,\n",
              " 3633,\n",
              " 4292,\n",
              " 4154,\n",
              " 4121,\n",
              " 4647,\n",
              " 4753,\n",
              " 3965,\n",
              " 1723,\n",
              " 5048,\n",
              " 6922,\n",
              " 9858,\n",
              " 11331,\n",
              " 4016,\n",
              " 3957,\n",
              " 4510,\n",
              " 4276,\n",
              " 4968,\n",
              " 4677,\n",
              " 3523,\n",
              " 1821,\n",
              " 5222,\n",
              " 6872,\n",
              " 10803,\n",
              " 13916,\n",
              " 2639,\n",
              " 2899,\n",
              " 3370,\n",
              " 3740,\n",
              " 2927,\n",
              " 3986,\n",
              " 4217,\n",
              " 1738,\n",
              " 5221,\n",
              " 6424,\n",
              " 9842,\n",
              " 13076,\n",
              " 3934,\n",
              " 3162,\n",
              " 4286,\n",
              " 4676,\n",
              " 5010,\n",
              " 4874,\n",
              " 4633,\n",
              " 1659,\n",
              " 5951,\n",
              " 6981,\n",
              " 9851,\n",
              " 12670,\n",
              " 4348,\n",
              " 3564,\n",
              " 4577,\n",
              " 4788,\n",
              " 4618,\n",
              " 5312,\n",
              " 4298,\n",
              " 1413,\n",
              " 5877]"
            ]
          },
          "execution_count": 31,
          "metadata": {},
          "output_type": "execute_result"
        }
      ],
      "source": [
        "# imprime a variável test\n",
        "# 10 primeiros valores da série após o history\n",
        "test"
      ]
    },
    {
      "cell_type": "code",
      "execution_count": 32,
      "metadata": {
        "colab": {},
        "colab_type": "code",
        "id": "478ZbRz7uojD"
      },
      "outputs": [
        {
          "data": {
            "text/plain": [
              "array([ 2815,  2672,  2755,  2721,  2946,  3036,  2282,  2212,  2922,\n",
              "        4301,  5764,  7312,  2541,  2475,  3031,  3266,  3776,  3230,\n",
              "        3028,  1759,  3595,  4474,  6838,  8357,  3113,  3006,  4047,\n",
              "        3523,  3937,  3986,  3260,  1573,  3528,  5211,  7614,  9254,\n",
              "        5375,  3088,  3718,  4514,  4520,  4539,  3663,  1643,  4739,\n",
              "        5428,  8314, 10651,  3633,  4292,  4154,  4121,  4647,  4753,\n",
              "        3965,  1723,  5048,  6922,  9858, 11331,  4016,  3957,  4510,\n",
              "        4276,  4968,  4677,  3523,  1821,  5222,  6872, 10803, 13916,\n",
              "        2639,  2899,  3370,  3740,  2927,  3986,  4217,  1738,  5221,\n",
              "        6424,  9842, 13076,  3934,  3162,  4286,  4676,  5010,  4874,\n",
              "        4633,  1659,  5951,  6981,  9851, 12670,  4348,  3564,  4577,\n",
              "        4788,  4618,  5312,  4298,  1413,  5877])"
            ]
          },
          "execution_count": 32,
          "metadata": {},
          "output_type": "execute_result"
        }
      ],
      "source": [
        "# serie original\n",
        "series.values"
      ]
    },
    {
      "cell_type": "markdown",
      "metadata": {
        "colab_type": "text",
        "id": "FUPt1R8v9Ct5"
      },
      "source": [
        "**Previsão com Média Móvel - Janela deslizante**"
      ]
    },
    {
      "cell_type": "code",
      "execution_count": 33,
      "metadata": {
        "colab": {},
        "colab_type": "code",
        "id": "eSFgcRj9tlpt"
      },
      "outputs": [
        {
          "name": "stdout",
          "output_type": "stream",
          "text": [
            "Valor predito=2747.333333, Valor real=2721.000000\n",
            "Valor predito=2716.000000, Valor real=2946.000000\n",
            "Valor predito=2807.333333, Valor real=3036.000000\n",
            "Valor predito=2901.000000, Valor real=2282.000000\n",
            "Valor predito=2754.666667, Valor real=2212.000000\n",
            "Valor predito=2510.000000, Valor real=2922.000000\n",
            "Valor predito=2472.000000, Valor real=4301.000000\n",
            "Valor predito=3145.000000, Valor real=5764.000000\n",
            "Valor predito=4329.000000, Valor real=7312.000000\n",
            "Valor predito=5792.333333, Valor real=2541.000000\n",
            "Valor predito=5205.666667, Valor real=2475.000000\n",
            "Valor predito=4109.333333, Valor real=3031.000000\n",
            "Valor predito=2682.333333, Valor real=3266.000000\n",
            "Valor predito=2924.000000, Valor real=3776.000000\n",
            "Valor predito=3357.666667, Valor real=3230.000000\n",
            "Valor predito=3424.000000, Valor real=3028.000000\n",
            "Valor predito=3344.666667, Valor real=1759.000000\n",
            "Valor predito=2672.333333, Valor real=3595.000000\n",
            "Valor predito=2794.000000, Valor real=4474.000000\n",
            "Valor predito=3276.000000, Valor real=6838.000000\n",
            "Valor predito=4969.000000, Valor real=8357.000000\n",
            "Valor predito=6556.333333, Valor real=3113.000000\n",
            "Valor predito=6102.666667, Valor real=3006.000000\n",
            "Valor predito=4825.333333, Valor real=4047.000000\n",
            "Valor predito=3388.666667, Valor real=3523.000000\n",
            "Valor predito=3525.333333, Valor real=3937.000000\n",
            "Valor predito=3835.666667, Valor real=3986.000000\n",
            "Valor predito=3815.333333, Valor real=3260.000000\n",
            "Valor predito=3727.666667, Valor real=1573.000000\n",
            "Valor predito=2939.666667, Valor real=3528.000000\n",
            "Valor predito=2787.000000, Valor real=5211.000000\n",
            "Valor predito=3437.333333, Valor real=7614.000000\n",
            "Valor predito=5451.000000, Valor real=9254.000000\n",
            "Valor predito=7359.666667, Valor real=5375.000000\n",
            "Valor predito=7414.333333, Valor real=3088.000000\n",
            "Valor predito=5905.666667, Valor real=3718.000000\n",
            "Valor predito=4060.333333, Valor real=4514.000000\n",
            "Valor predito=3773.333333, Valor real=4520.000000\n",
            "Valor predito=4250.666667, Valor real=4539.000000\n",
            "Valor predito=4524.333333, Valor real=3663.000000\n",
            "Valor predito=4240.666667, Valor real=1643.000000\n",
            "Valor predito=3281.666667, Valor real=4739.000000\n",
            "Valor predito=3348.333333, Valor real=5428.000000\n",
            "Valor predito=3936.666667, Valor real=8314.000000\n",
            "Valor predito=6160.333333, Valor real=10651.000000\n",
            "Valor predito=8131.000000, Valor real=3633.000000\n",
            "Valor predito=7532.666667, Valor real=4292.000000\n",
            "Valor predito=6192.000000, Valor real=4154.000000\n",
            "Valor predito=4026.333333, Valor real=4121.000000\n",
            "Valor predito=4189.000000, Valor real=4647.000000\n",
            "Valor predito=4307.333333, Valor real=4753.000000\n",
            "Valor predito=4507.000000, Valor real=3965.000000\n",
            "Valor predito=4455.000000, Valor real=1723.000000\n",
            "Valor predito=3480.333333, Valor real=5048.000000\n",
            "Valor predito=3578.666667, Valor real=6922.000000\n",
            "Valor predito=4564.333333, Valor real=9858.000000\n",
            "Valor predito=7276.000000, Valor real=11331.000000\n",
            "Valor predito=9370.333333, Valor real=4016.000000\n",
            "Valor predito=8401.666667, Valor real=3957.000000\n",
            "Valor predito=6434.666667, Valor real=4510.000000\n",
            "Valor predito=4161.000000, Valor real=4276.000000\n",
            "Valor predito=4247.666667, Valor real=4968.000000\n",
            "Valor predito=4584.666667, Valor real=4677.000000\n",
            "Valor predito=4640.333333, Valor real=3523.000000\n",
            "Valor predito=4389.333333, Valor real=1821.000000\n",
            "Valor predito=3340.333333, Valor real=5222.000000\n",
            "Valor predito=3522.000000, Valor real=6872.000000\n",
            "Valor predito=4638.333333, Valor real=10803.000000\n",
            "Valor predito=7632.333333, Valor real=13916.000000\n",
            "Valor predito=10530.333333, Valor real=2639.000000\n",
            "Valor predito=9119.333333, Valor real=2899.000000\n",
            "Valor predito=6484.666667, Valor real=3370.000000\n",
            "Valor predito=2969.333333, Valor real=3740.000000\n",
            "Valor predito=3336.333333, Valor real=2927.000000\n",
            "Valor predito=3345.666667, Valor real=3986.000000\n",
            "Valor predito=3551.000000, Valor real=4217.000000\n",
            "Valor predito=3710.000000, Valor real=1738.000000\n",
            "Valor predito=3313.666667, Valor real=5221.000000\n",
            "Valor predito=3725.333333, Valor real=6424.000000\n",
            "Valor predito=4461.000000, Valor real=9842.000000\n",
            "Valor predito=7162.333333, Valor real=13076.000000\n",
            "Valor predito=9780.666667, Valor real=3934.000000\n",
            "Valor predito=8950.666667, Valor real=3162.000000\n",
            "Valor predito=6724.000000, Valor real=4286.000000\n",
            "Valor predito=3794.000000, Valor real=4676.000000\n",
            "Valor predito=4041.333333, Valor real=5010.000000\n",
            "Valor predito=4657.333333, Valor real=4874.000000\n",
            "Valor predito=4853.333333, Valor real=4633.000000\n",
            "Valor predito=4839.000000, Valor real=1659.000000\n",
            "Valor predito=3722.000000, Valor real=5951.000000\n",
            "Valor predito=4081.000000, Valor real=6981.000000\n",
            "Valor predito=4863.666667, Valor real=9851.000000\n",
            "Valor predito=7594.333333, Valor real=12670.000000\n",
            "Valor predito=9834.000000, Valor real=4348.000000\n",
            "Valor predito=8956.333333, Valor real=3564.000000\n",
            "Valor predito=6860.666667, Valor real=4577.000000\n",
            "Valor predito=4163.000000, Valor real=4788.000000\n",
            "Valor predito=4309.666667, Valor real=4618.000000\n",
            "Valor predito=4661.000000, Valor real=5312.000000\n",
            "Valor predito=4906.000000, Valor real=4298.000000\n",
            "Valor predito=4742.666667, Valor real=1413.000000\n",
            "Valor predito=3674.333333, Valor real=5877.000000\n"
          ]
        }
      ],
      "source": [
        "# Define uma variavel chamada X que é a copia da serie de dados\n",
        "X = series.values\n",
        "\n",
        "# Define a variável window = 3 que será a janela de 3 valroes\n",
        "window = 3\n",
        "\n",
        "# Obtem os 3 primeiros valores da serie\n",
        "history = [X[i] for i in range(window)]\n",
        "\n",
        "# Obtem todos os valores após os tres primeiros.\n",
        "test = [X[i] for i in range(window, len(X))]\n",
        "\n",
        "# cria lista de predições\n",
        "predicoes = []\n",
        "\n",
        "# Intera sobre os dados de teste...\n",
        "\n",
        "for t in range(len(test)):\n",
        "  # define a variavel length com o tamanho da variável history\n",
        "  length = len(history)\n",
        "  \n",
        "  # define a variável valor_predito com a média dos 3 valores correntes..                                                           \n",
        "  valor_predito = mean([history[i] for i in range(length - window, length)])        \n",
        "  \n",
        "  # define a variável valor_real com o valor atual do teste..\n",
        "  valor_real = test[t]                                                              \n",
        "  \n",
        "  # alimenta a lista de predicoes\n",
        "  predicoes.append(valor_predito)                                                  \n",
        "  \n",
        "  # atualiza a lista history com os valores correntes..\n",
        "  history.append(valor_real)                                                        \n",
        "  \n",
        "  # imprime o valor predito e o real...\n",
        "  print('Valor predito=%f, Valor real=%f' % (valor_predito, valor_real))                 "
      ]
    },
    {
      "cell_type": "code",
      "execution_count": 35,
      "metadata": {
        "colab": {},
        "colab_type": "code",
        "id": "4TYoYR0Fh7uw"
      },
      "outputs": [
        {
          "name": "stdout",
          "output_type": "stream",
          "text": [
            "Métrica RMSE: 2960.299\n"
          ]
        }
      ],
      "source": [
        "# calcula a métrica de rmse\n",
        "rmse = sqrt(mean_squared_error(test, predicoes))      \n",
        "\n",
        "# imprime o valor de rmse\n",
        "print('Métrica RMSE: %.3f' % rmse)                         "
      ]
    },
    {
      "cell_type": "code",
      "execution_count": 40,
      "metadata": {
        "colab": {},
        "colab_type": "code",
        "id": "mKiP0T7HfQTd"
      },
      "outputs": [
        {
          "data": {
            "image/png": "[encoded data removed]",
            "text/plain": [
              "<Figure size 640x480 with 1 Axes>"
            ]
          },
          "metadata": {},
          "output_type": "display_data"
        }
      ],
      "source": [
        "# plot o valor real (test) e as predições \n",
        "pyplot.plot(test) \n",
        "pyplot.plot(predicoes, color='red')\n",
        "pyplot.legend(['test', 'predict'])\n",
        "pyplot.show()"
      ]
    },
    {
      "cell_type": "markdown",
      "metadata": {
        "colab_type": "text",
        "id": "GlvvJzZvb7K5"
      },
      "source": [
        "### Decompondo uma série temporal\n",
        "\n",
        "- **Modelo aditivo**\n",
        "\n",
        "                      y(t) = Level + Trend + Seasonality + Noise\n",
        "\n",
        "  - Os componentes se somam.\n",
        "  - A amplitude da sazonalidade se mantém com um aumento da tendência.\n",
        "\n",
        "\n",
        "\n",
        "\n",
        "- **Modelo multiplicativo**\n",
        "\n",
        "                      y(t) = Level × Trend × Seasonality × Noise\n",
        "                \n",
        "  - Os componentes se multiplicam.\n",
        "  - A amplitude da sazonalidade também aumenta com a tendência"
      ]
    },
    {
      "cell_type": "markdown",
      "metadata": {
        "colab_type": "text",
        "id": "dMxC7fPucvw2"
      },
      "source": [
        "Monta o drive"
      ]
    },
    {
      "cell_type": "code",
      "execution_count": null,
      "metadata": {
        "colab": {},
        "colab_type": "code",
        "id": "kXBAif0VcuUH"
      },
      "outputs": [],
      "source": [
        "from google.colab import drive\n",
        "drive.mount('/content/drive')"
      ]
    },
    {
      "cell_type": "markdown",
      "metadata": {
        "colab_type": "text",
        "id": "kR15-0Wqc0CM"
      },
      "source": [
        "Importa a biblioteca Statsmodel"
      ]
    },
    {
      "cell_type": "code",
      "execution_count": null,
      "metadata": {
        "colab": {},
        "colab_type": "code",
        "id": "Jz0vojaKb_gM"
      },
      "outputs": [],
      "source": [
        "import pandas.util.testing as tm\n",
        "from statsmodels.tsa.seasonal import seasonal_decompose"
      ]
    },
    {
      "cell_type": "markdown",
      "metadata": {
        "colab_type": "text",
        "id": "7fRkudByc5Ug"
      },
      "source": [
        "Ler a base de dados"
      ]
    },
    {
      "cell_type": "code",
      "execution_count": null,
      "metadata": {
        "colab": {},
        "colab_type": "code",
        "id": "-CbvC6C8cHB2"
      },
      "outputs": [],
      "source": [
        "import pandas as pd\n",
        "series = pd.read_csv('/content/drive/My Drive/Curso Séries Temporais/champagne_sales.csv', header=0, index_col=0, parse_dates=True, squeeze=True)"
      ]
    },
    {
      "cell_type": "markdown",
      "metadata": {
        "colab_type": "text",
        "id": "NGwlJGOB6525"
      },
      "source": [
        "Plotando a distribuição da série"
      ]
    },
    {
      "cell_type": "code",
      "execution_count": null,
      "metadata": {
        "colab": {},
        "colab_type": "code",
        "id": "6L8RS3ZbuV80"
      },
      "outputs": [],
      "source": [
        "from pandas import read_csv \n",
        "from matplotlib import pyplot\n",
        "\n",
        "# plota um histogram\n",
        "\n",
        "pyplot.figure(1)\n",
        "pyplot.subplot(211)\n",
        "series.hist()"
      ]
    },
    {
      "cell_type": "markdown",
      "metadata": {
        "colab_type": "text",
        "id": "uFlafi4A6_jL"
      },
      "source": [
        "Visualizando os dados"
      ]
    },
    {
      "cell_type": "code",
      "execution_count": null,
      "metadata": {
        "colab": {},
        "colab_type": "code",
        "id": "uXIx7QWykm8P"
      },
      "outputs": [],
      "source": [
        "series.plot()"
      ]
    },
    {
      "cell_type": "markdown",
      "metadata": {
        "colab_type": "text",
        "id": "OyemN1H-8ZZ-"
      },
      "source": [
        "Criando um modelo aditivo"
      ]
    },
    {
      "cell_type": "code",
      "execution_count": null,
      "metadata": {
        "colab": {},
        "colab_type": "code",
        "id": "CUG0cWmNc9oz"
      },
      "outputs": [],
      "source": [
        "resultado = seasonal_decompose(series,  model='additive')"
      ]
    },
    {
      "cell_type": "code",
      "execution_count": null,
      "metadata": {
        "colab": {},
        "colab_type": "code",
        "id": "5-nz1kIudm9R"
      },
      "outputs": [],
      "source": [
        "import matplotlib.pyplot as plt\n",
        "resultado.plot()\n",
        "pyplot.show()"
      ]
    },
    {
      "cell_type": "markdown",
      "metadata": {
        "colab_type": "text",
        "id": "Ve3dAxXg8c9H"
      },
      "source": [
        "Criando um modelo multiplicativo"
      ]
    },
    {
      "cell_type": "code",
      "execution_count": null,
      "metadata": {
        "colab": {},
        "colab_type": "code",
        "id": "m3-CUKyUkrTD"
      },
      "outputs": [],
      "source": [
        "resultado = seasonal_decompose(series,  model='multiplicative')"
      ]
    },
    {
      "cell_type": "code",
      "execution_count": null,
      "metadata": {
        "colab": {},
        "colab_type": "code",
        "id": "1URTgZZTkydc"
      },
      "outputs": [],
      "source": [
        "import matplotlib.pyplot as plt\n",
        "resultado.plot()\n",
        "pyplot.show()"
      ]
    },
    {
      "cell_type": "markdown",
      "metadata": {
        "colab_type": "text",
        "id": "j31KrHb0yYoB"
      },
      "source": [
        "### Removendo tendência e sazonalidade da série temporal\n",
        "\n",
        "Considerações Gerais:\n",
        "\n",
        "-      Conveniência: *Remover tendência e sazonalidade de várias séries para treinar um único modelo*.\n",
        "\n",
        "-      Clareza na informação: *Remover as informações sazonais podem clarear os sinais nos dados. Exemplo: Os preços das ações da APPLE sobem a 5 anos. O modelo levar isso em consideração pode atrapalhar prever se o dia de amanhã será de alta ou não alta*\n",
        "\n",
        "**Tipos de Sazonalidades, exemplo:**\n",
        "\n",
        "- Hora do dia.\n",
        "- Diário.\n",
        "- Dia da Semana.\n",
        "- Semanal.\n",
        "- Mensal.\n",
        "- Anual.\n",
        "\n",
        "**Métodos Statísticos**\n",
        "  - Remove informação sistematica que pode distorcer a relação entre as variáveis de entrada e alvo.\n",
        "  - Adiciona informação sistemática para melhorar a relação entre as variáveis de entrada e variáveis de saída.\n",
        "  - Tende a melhorar modelos devido a incapacidade de alguns métodos.\n",
        "\n",
        "**Machine Learning**\n",
        "  - Remove informação sistematica que pode distorcer a relação entre as variáveis de entrada e alvo.\n",
        "  - Adiciona informação sistemática para melhorar a relação entre as variáveis de entrada e variáveis de saída.\n",
        "  - Nem sempre melhora os modelos de Machine Learning."
      ]
    },
    {
      "cell_type": "markdown",
      "metadata": {
        "colab_type": "text",
        "id": "3HU64tjB1eAl"
      },
      "source": [
        "Tendência obvia"
      ]
    },
    {
      "cell_type": "code",
      "execution_count": null,
      "metadata": {
        "colab": {},
        "colab_type": "code",
        "id": "NNTVN8MxytvT"
      },
      "outputs": [],
      "source": [
        "series.plot()"
      ]
    },
    {
      "cell_type": "markdown",
      "metadata": {
        "colab_type": "text",
        "id": "_8ASgNS51iPD"
      },
      "source": [
        "Decompondo a série"
      ]
    },
    {
      "cell_type": "code",
      "execution_count": null,
      "metadata": {
        "colab": {},
        "colab_type": "code",
        "id": "KdMuMwZT1rfR"
      },
      "outputs": [],
      "source": [
        "import pandas.util.testing as tm\n",
        "from statsmodels.tsa.seasonal import seasonal_decompose"
      ]
    },
    {
      "cell_type": "code",
      "execution_count": null,
      "metadata": {
        "colab": {},
        "colab_type": "code",
        "id": "2wBycdLFytsS"
      },
      "outputs": [],
      "source": [
        "resultado = seasonal_decompose(series,  model='multiplicative')"
      ]
    },
    {
      "cell_type": "code",
      "execution_count": null,
      "metadata": {
        "colab": {},
        "colab_type": "code",
        "id": "l29ypbCV1b3k"
      },
      "outputs": [],
      "source": [
        "import matplotlib.pyplot as plt\n",
        "resultado.plot()\n",
        "plt.show()"
      ]
    },
    {
      "cell_type": "markdown",
      "metadata": {
        "colab_type": "text",
        "id": "MXKMUZQi__Zw"
      },
      "source": [
        "#### Diferenciação\n",
        "\n",
        "- *Diferenciação de primeiro nível*\n",
        "- *Converte níveis para alterações*\n",
        "\n",
        "\n",
        "\n",
        "                  value(t) = observation(t) − observation(t − 1)"
      ]
    },
    {
      "cell_type": "code",
      "execution_count": null,
      "metadata": {
        "colab": {},
        "colab_type": "code",
        "id": "u20xdbJN1yCY"
      },
      "outputs": [],
      "source": [
        "# cria uma lista vazia\n",
        "diff = list()"
      ]
    },
    {
      "cell_type": "code",
      "execution_count": null,
      "metadata": {
        "colab": {},
        "colab_type": "code",
        "id": "cAXCOEBsAOsy"
      },
      "outputs": [],
      "source": [
        "# para cada valor da série, subtrair pelo valor anterior\n",
        "for i in range(1, len(series.values)):\n",
        "  valor = series.values[i] - series.values[i - 1]\n",
        "  diff.append(valor)"
      ]
    },
    {
      "cell_type": "code",
      "execution_count": null,
      "metadata": {
        "colab": {},
        "colab_type": "code",
        "id": "WdHjDdv3AgLU"
      },
      "outputs": [],
      "source": [
        "# imprime os 10 primeiros valores da série\n",
        "diff[:10]"
      ]
    },
    {
      "cell_type": "code",
      "execution_count": null,
      "metadata": {
        "colab": {},
        "colab_type": "code",
        "id": "VNxB1GUxAj4c"
      },
      "outputs": [],
      "source": [
        "# plota a série após a diferenciação\n",
        "from matplotlib import pyplot\n",
        "pyplot.plot(diff)"
      ]
    },
    {
      "cell_type": "code",
      "execution_count": null,
      "metadata": {
        "colab": {},
        "colab_type": "code",
        "id": "bV_CE9oFQaCZ"
      },
      "outputs": [],
      "source": [
        "series.plot()"
      ]
    },
    {
      "cell_type": "markdown",
      "metadata": {
        "colab_type": "text",
        "id": "um69sJbYCUO5"
      },
      "source": [
        "Removendo Sazonalidade"
      ]
    },
    {
      "cell_type": "code",
      "execution_count": null,
      "metadata": {
        "colab": {},
        "colab_type": "code",
        "id": "_cgxtWzMOARh"
      },
      "outputs": [],
      "source": [
        "import pandas as pd\n",
        "series = pd.read_csv('/content/drive/My Drive/Curso Séries Temporais/Materiais de Apoio/champagne_sales.csv', header=0, index_col=0, parse_dates=True, squeeze=True)"
      ]
    },
    {
      "cell_type": "code",
      "execution_count": null,
      "metadata": {
        "colab": {},
        "colab_type": "code",
        "id": "g_cUhzpJ-K0j"
      },
      "outputs": [],
      "source": [
        "series.head()"
      ]
    },
    {
      "cell_type": "code",
      "execution_count": null,
      "metadata": {
        "colab": {},
        "colab_type": "code",
        "id": "23ZrU8-l-151"
      },
      "outputs": [],
      "source": [
        "# cria uma lista chamada diff\n",
        "diff = list()\n",
        "\n",
        "# define o número de mês que iremos usar\n",
        "mes = 1\n",
        "\n",
        "# intera sobre os valores da série\n",
        "for i in range(mes, len(series.values)):\n",
        "  \n",
        "  # a variavel valor recebe o valor da série atual - o valor da série do mês anterior..\n",
        "  valor = series.values[i] - series.values[i - mes]\n",
        "  \n",
        "  # alimenta a lista diff\n",
        "  diff.append(valor)  "
      ]
    },
    {
      "cell_type": "code",
      "execution_count": null,
      "metadata": {
        "colab": {},
        "colab_type": "code",
        "id": "stEW3iX7BbaQ"
      },
      "outputs": [],
      "source": [
        "from matplotlib import pyplot\n",
        "pyplot.plot(diff)\n",
        "pyplot.show()"
      ]
    },
    {
      "cell_type": "markdown",
      "metadata": {
        "colab_type": "text",
        "id": "8B4HNql2aPmA"
      },
      "source": [
        "### Estacionariedade em Séries temporais\n",
        "\n",
        "- Séries temporais são diferentes de problemas tradicionais de classificação e regressão. A estrutura temporal adiciona uma ordem as observações.\n",
        "- Essa ordem imposta significa que suposições importantes sobre a consistência dessas observações precisam ser tratadas especialmente.\n",
        "- Na terminologia de séries temporais, as séries cuja resumos estatísticos são constantes chamamos de séries estacionárias.\n",
        "\n",
        "**Verifica estacionariedade de uma série:**\n",
        "\n",
        "*   Olhe os gráficos.\n",
        "*   Estatítica descritiva.\n",
        "*   Testes Estatísticos.\n",
        "\n"
      ]
    },
    {
      "cell_type": "code",
      "execution_count": null,
      "metadata": {
        "colab": {},
        "colab_type": "code",
        "id": "gdnUsvStCi5F"
      },
      "outputs": [],
      "source": [
        "import pandas as pd\n",
        "series = pd.read_csv('/content/drive/My Drive/Curso Séries Temporais/Materiais de Apoio/champagne_sales.csv', header=0, index_col=0, parse_dates=True, squeeze=True)"
      ]
    },
    {
      "cell_type": "markdown",
      "metadata": {
        "colab_type": "text",
        "id": "j4d-jZTuGZFG"
      },
      "source": [
        "Analisando o histograma da série"
      ]
    },
    {
      "cell_type": "code",
      "execution_count": null,
      "metadata": {
        "colab": {},
        "colab_type": "code",
        "id": "FXd-ofz-lEi2"
      },
      "outputs": [],
      "source": [
        "from matplotlib import pyplot\n",
        "series.hist()\n",
        "pyplot.show()"
      ]
    },
    {
      "cell_type": "code",
      "execution_count": null,
      "metadata": {
        "colab": {},
        "colab_type": "code",
        "id": "mlO0alIMC_Fc"
      },
      "outputs": [],
      "source": [
        "# separa os dados em duas partes\n",
        "split = int(len(series.values) / 2)"
      ]
    },
    {
      "cell_type": "code",
      "execution_count": null,
      "metadata": {
        "colab": {},
        "colab_type": "code",
        "id": "Gg2R9P_lDxoi"
      },
      "outputs": [],
      "source": [
        "print (len(series.values))\n",
        "print (split)"
      ]
    },
    {
      "cell_type": "code",
      "execution_count": null,
      "metadata": {
        "colab": {},
        "colab_type": "code",
        "id": "6nhRE6_eDrN0"
      },
      "outputs": [],
      "source": [
        "# Divide os dados em duas partes e coloca nas variáveis x1 e x2\n",
        "X1 = series.values[0:split]\n",
        "X2 = series.values[split:]"
      ]
    },
    {
      "cell_type": "code",
      "execution_count": null,
      "metadata": {
        "colab": {},
        "colab_type": "code",
        "id": "m1218-ImDd_w"
      },
      "outputs": [],
      "source": [
        "# calcula as médias\n",
        "mean1 =  X1.mean()\n",
        "mean2 =  X2.mean()"
      ]
    },
    {
      "cell_type": "code",
      "execution_count": null,
      "metadata": {
        "colab": {},
        "colab_type": "code",
        "id": "5Jkv7OgsUfk-"
      },
      "outputs": [],
      "source": [
        "#mean1\n",
        "mean2"
      ]
    },
    {
      "cell_type": "code",
      "execution_count": null,
      "metadata": {
        "colab": {},
        "colab_type": "code",
        "id": "k4eA8MMgErmG"
      },
      "outputs": [],
      "source": [
        "# calcula a variância entre as partes\n",
        "var1, var2 = X1.var(), X2.var()"
      ]
    },
    {
      "cell_type": "code",
      "execution_count": null,
      "metadata": {
        "colab": {},
        "colab_type": "code",
        "id": "afLS_eqEDd8D"
      },
      "outputs": [],
      "source": [
        "# imprime média e variância entre as partes\n",
        "print('media1= %f, \\nmedia2= %f' % (mean1, mean2))"
      ]
    },
    {
      "cell_type": "code",
      "execution_count": null,
      "metadata": {
        "colab": {},
        "colab_type": "code",
        "id": "k2yMted7Dd09"
      },
      "outputs": [],
      "source": [
        "print('variancia1= %f, \\nvariancia2= %f' % (var1, var2))"
      ]
    },
    {
      "cell_type": "markdown",
      "metadata": {
        "colab_type": "text",
        "id": "e5m6vQ9CIm9E"
      },
      "source": [
        "Teste Estatístico - Augmented Dickey-Fuller test\n",
        "\n",
        "- Hipotese Nula (H0): *Falha para rejeitar, sugere que a série não é estacionária. Esta tem estrutura dependente de tempo.*\n",
        "\n",
        "- Hipotese Alternativa (H1): *A hipotese nula foi rejeitada, sugere que a série temporal é estacionária. Esta não tem estrutura dependente de tempo.*\n",
        "\n",
        "* **p-value > 0.05**: Falha para rejeitar a hipotese nula (h0) a série é não estacionária.\n",
        "\n",
        "* **p-value ≤ 0.05**: Rejeita a hipotese nula (H0), a série é estacionária."
      ]
    },
    {
      "cell_type": "code",
      "execution_count": null,
      "metadata": {
        "colab": {},
        "colab_type": "code",
        "id": "rNWJox7lDdoL"
      },
      "outputs": [],
      "source": [
        "import pandas.util.testing as tm\n",
        "from statsmodels.tsa.stattools import adfuller"
      ]
    },
    {
      "cell_type": "code",
      "execution_count": null,
      "metadata": {
        "colab": {},
        "colab_type": "code",
        "id": "YYZENtvLIrMy"
      },
      "outputs": [],
      "source": [
        "resultado = adfuller(series.values)"
      ]
    },
    {
      "cell_type": "code",
      "execution_count": null,
      "metadata": {
        "colab": {},
        "colab_type": "code",
        "id": "ASpPStPKIrJq"
      },
      "outputs": [],
      "source": [
        "print('ADF teste: %f' % resultado[0])"
      ]
    },
    {
      "cell_type": "code",
      "execution_count": null,
      "metadata": {
        "colab": {},
        "colab_type": "code",
        "id": "-NsMu3-RIrGC"
      },
      "outputs": [],
      "source": [
        "print('p-value: %f' % resultado[1])"
      ]
    },
    {
      "cell_type": "code",
      "execution_count": null,
      "metadata": {
        "colab": {},
        "colab_type": "code",
        "id": "aed-yEpOIqy7"
      },
      "outputs": [],
      "source": [
        "print('Critical Values:')\n",
        "for key, value in resultado[4].items():\n",
        "  print('\\t%s: %.3f' % (key, value))"
      ]
    },
    {
      "cell_type": "markdown",
      "metadata": {
        "colab_type": "text",
        "id": "mCPix2MdORDh"
      },
      "source": [
        "### Transformando a Série Temporal em Estacionária:\n",
        "\n",
        "Aplicando Log na série"
      ]
    },
    {
      "cell_type": "code",
      "execution_count": null,
      "metadata": {
        "colab": {},
        "colab_type": "code",
        "id": "rPQhA0dfOOlG"
      },
      "outputs": [],
      "source": [
        "from numpy import log"
      ]
    },
    {
      "cell_type": "code",
      "execution_count": null,
      "metadata": {
        "colab": {},
        "colab_type": "code",
        "id": "2GxVkxp1OOak"
      },
      "outputs": [],
      "source": [
        "serie_transformada = log(series.values)"
      ]
    },
    {
      "cell_type": "code",
      "execution_count": null,
      "metadata": {
        "colab": {},
        "colab_type": "code",
        "id": "hBkpA52MPQ1G"
      },
      "outputs": [],
      "source": [
        "from matplotlib import pyplot\n",
        "pyplot.hist(serie_transformada)\n",
        "pyplot.show()"
      ]
    },
    {
      "cell_type": "code",
      "execution_count": null,
      "metadata": {
        "colab": {},
        "colab_type": "code",
        "id": "dYB4-jQiOODU"
      },
      "outputs": [],
      "source": [
        "resultado = adfuller(serie_transformada)\n",
        "print('\\nADF teste: %f' % resultado[0])\n",
        "print('\\np-value: %f' % resultado[1])\n",
        "print('\\nCritical Values:')\n",
        "for key, value in resultado[4].items():\n",
        "  print('\\t%s: %.3f' % (key, value))"
      ]
    },
    {
      "cell_type": "markdown",
      "metadata": {
        "colab_type": "text",
        "id": "33cJdDwNwAsU"
      },
      "source": [
        "Aplicando a diferenciação"
      ]
    },
    {
      "cell_type": "code",
      "execution_count": null,
      "metadata": {
        "colab": {},
        "colab_type": "code",
        "id": "fy4bvDdvvZH4"
      },
      "outputs": [],
      "source": [
        "# cria uma lista chamada diff\n",
        "diff = list()\n",
        "mes = 1\n",
        "for i in range(mes, len(series.values)):\n",
        "  # a variavel valor recebe o valor da série atual - o valor da série do mês anterior..\n",
        "  valor = series.values[i] - series.values[i - mes]\n",
        "  # alimenta a lista diff\n",
        "  diff.append(valor)"
      ]
    },
    {
      "cell_type": "markdown",
      "metadata": {
        "colab_type": "text",
        "id": "arzcVD0SxXEz"
      },
      "source": [
        "Aplicando o Teste AdFuller"
      ]
    },
    {
      "cell_type": "code",
      "execution_count": null,
      "metadata": {
        "colab": {},
        "colab_type": "code",
        "id": "Sr0wboLgwKzd"
      },
      "outputs": [],
      "source": [
        "import pandas.util.testing as tm\n",
        "from statsmodels.tsa.stattools import adfuller\n",
        "\n",
        "resultado = adfuller(diff)\n",
        "print('\\nADF teste: %f' % resultado[0])\n",
        "print('\\np-value: %f' % resultado[1])\n",
        "print('\\nCritical Values:')\n",
        "for key, value in resultado[4].items():\n",
        "  print('\\t%s: %.3f' % (key, value))"
      ]
    },
    {
      "cell_type": "markdown",
      "metadata": {
        "colab_type": "text",
        "id": "Bu1rEmecif4o"
      },
      "source": [
        "### Modelos de Previsão usando Autoregressão"
      ]
    },
    {
      "cell_type": "markdown",
      "metadata": {
        "colab_type": "text",
        "id": "TYwxlxI1uVX-"
      },
      "source": [
        "#### **`ARIMA`**\n",
        "\n",
        "Método estatístico que utiliza um modelo linear que utiliza autoregressão e modelo de média móvel para previsão de séries temporais. Um modelo linear é construído incluindo um número especificado de termos e o dado é preparado por um nível de diferenciação afim de tornar este estacionário.\n",
        "\n",
        "Podemos usar um valor 0 para desligar um parâmetro, dessa forma, aquela função em questão não será feita, por exemplo, se no parâmetro d definirmos 0 não será realizada uma diferenciação nos dados. Neste exemplo teríamos um modelo **ARMA**.\n",
        "\n",
        "---\n",
        "\n",
        "*   **AR**: *Autoregression* : Um modelo que usa a relação dependende entre uma observação e alguns lags.\n",
        "\n",
        "*   **I**: *Integrated*  : Uso de diferenciação nas observações brutas, exemplo: subtração do valor de uma observação com sua observação anterior. O objetivo é transformar a série temporal em estacionária.\n",
        "\n",
        "*  **MA**: *Moving Average* : Um modelo que usa a dependência entre a observação e o erro residual a partir de um modelo de média móvel aplicado a lags.\n",
        "\n",
        "          residual error = expected − predicted\n",
        "    \n",
        "- Isso é diferente de **Moving Average Smoothing.**\n",
        "- Erros residuais contém estruturas temporais que podem ser modeladas.\n",
        "- Existem sinais complexos nos erros residuais.\n",
        "- Um modelo que prever o erro residual pode ser usado para ajustar os próximos erros e melhorar um modelo que aprende com o histórico.\n",
        "\n",
        "\n",
        "\n",
        "\n",
        "---\n",
        "\n",
        "O modelo arima contém alguns parâmetros\n",
        "\n",
        "\n",
        "```\n",
        "# ARIMA(p,d,q)\n",
        "```\n",
        "*   **p:** O número de lags que foram devem ser incluídos no modelo.\n",
        "*   **d:** O número de vezes que as observações serão diferenciadas.\n",
        "*   **q:** O tamanho de uma janela de média móvel. Também chamada de ordem de média móvel."
      ]
    },
    {
      "cell_type": "code",
      "execution_count": null,
      "metadata": {
        "colab": {},
        "colab_type": "code",
        "id": "DX57sq2oyK2c"
      },
      "outputs": [],
      "source": [
        "import pandas as pd\n",
        "series = pd.read_csv('/content/drive/My Drive/Curso Séries Temporais/Materiais de Apoio/champagne_sales.csv', header=0, index_col=0, parse_dates=True, squeeze=True)"
      ]
    },
    {
      "cell_type": "code",
      "execution_count": null,
      "metadata": {
        "colab": {},
        "colab_type": "code",
        "id": "Et3xVGiB-hox"
      },
      "outputs": [],
      "source": [
        "from pandas.plotting import autocorrelation_plot\n",
        "from matplotlib import pyplot"
      ]
    },
    {
      "cell_type": "code",
      "execution_count": null,
      "metadata": {
        "colab": {},
        "colab_type": "code",
        "id": "MQa9VD2syMEs"
      },
      "outputs": [],
      "source": [
        "# autocorrelation plot \n",
        "autocorrelation_plot(series)\n",
        "pyplot.show()"
      ]
    },
    {
      "cell_type": "code",
      "execution_count": null,
      "metadata": {
        "colab": {},
        "colab_type": "code",
        "id": "VIkEi5an_zec"
      },
      "outputs": [],
      "source": [
        "import pandas.util.testing as tm\n",
        "from statsmodels.graphics.tsaplots import plot_acf\n",
        "from statsmodels.graphics.tsaplots import plot_pacf\n",
        "from matplotlib import pyplot"
      ]
    },
    {
      "cell_type": "code",
      "execution_count": null,
      "metadata": {
        "colab": {},
        "colab_type": "code",
        "id": "RzQfTJru-pKs"
      },
      "outputs": [],
      "source": [
        "plot_acf(series, lags=40)\n",
        "pyplot.show()"
      ]
    },
    {
      "cell_type": "markdown",
      "metadata": {
        "colab_type": "text",
        "id": "UYnXH-TY91o7"
      },
      "source": [
        "Modelo ARIMA para análise de dados"
      ]
    },
    {
      "cell_type": "code",
      "execution_count": null,
      "metadata": {
        "colab": {},
        "colab_type": "code",
        "id": "Wn2dy3I69Oei"
      },
      "outputs": [],
      "source": [
        "# fit model\n",
        "from statsmodels.tsa.arima_model import ARIMA\n",
        "from matplotlib import pyplot"
      ]
    },
    {
      "cell_type": "code",
      "execution_count": null,
      "metadata": {
        "colab": {},
        "colab_type": "code",
        "id": "Th1xVunqF2qY"
      },
      "outputs": [],
      "source": [
        "model = ARIMA(series, order=(5,1,0))"
      ]
    },
    {
      "cell_type": "code",
      "execution_count": null,
      "metadata": {
        "colab": {},
        "colab_type": "code",
        "id": "_sfLHcUM9OZa"
      },
      "outputs": [],
      "source": [
        "model_fit = model.fit()"
      ]
    },
    {
      "cell_type": "code",
      "execution_count": null,
      "metadata": {
        "colab": {},
        "colab_type": "code",
        "id": "Udhme4OC9OHw"
      },
      "outputs": [],
      "source": [
        "# summary of fit model \n",
        "print(model_fit.summary())"
      ]
    },
    {
      "cell_type": "code",
      "execution_count": null,
      "metadata": {
        "colab": {},
        "colab_type": "code",
        "id": "HZw5DCaN9gpQ"
      },
      "outputs": [],
      "source": [
        "# line plot of residuals\n",
        "from pandas import DataFrame\n",
        "residuals = DataFrame(model_fit.resid)"
      ]
    },
    {
      "cell_type": "code",
      "execution_count": null,
      "metadata": {
        "colab": {},
        "colab_type": "code",
        "id": "dkhUS1UP9gl4"
      },
      "outputs": [],
      "source": [
        "residuals.plot()\n",
        "pyplot.show()"
      ]
    },
    {
      "cell_type": "code",
      "execution_count": null,
      "metadata": {
        "colab": {},
        "colab_type": "code",
        "id": "2rm9loNG9gir"
      },
      "outputs": [],
      "source": [
        "# density plot of residuals \n",
        "residuals.plot(kind='kde')\n",
        "pyplot.show()"
      ]
    },
    {
      "cell_type": "code",
      "execution_count": null,
      "metadata": {
        "colab": {},
        "colab_type": "code",
        "id": "Eb-Y5DLr9gPR"
      },
      "outputs": [],
      "source": [
        "# summary stats of residuals\n",
        "print(residuals.describe())"
      ]
    },
    {
      "cell_type": "markdown",
      "metadata": {
        "colab_type": "text",
        "id": "NPesnsTgQvNp"
      },
      "source": [
        "### Projeto: Prevendo dados futuros."
      ]
    },
    {
      "cell_type": "code",
      "execution_count": null,
      "metadata": {
        "colab": {},
        "colab_type": "code",
        "id": "URCeAzEvaCws"
      },
      "outputs": [],
      "source": [
        "import pandas as pd\n",
        "series = pd.read_csv('/content/drive/My Drive/Curso Séries Temporais/Materiais de Apoio/champagne_sales.csv', header=0, index_col=0, parse_dates=True, squeeze=True)"
      ]
    },
    {
      "cell_type": "code",
      "execution_count": null,
      "metadata": {
        "colab": {},
        "colab_type": "code",
        "id": "UWJODS01W7bR"
      },
      "outputs": [],
      "source": [
        "from IPython.display import Image\n",
        "Image('/content/drive/My Drive/Curso Séries Temporais/Materiais de Apoio/time_series_project.png')"
      ]
    },
    {
      "cell_type": "markdown",
      "metadata": {
        "colab_type": "text",
        "id": "bXZ7G0T9Xx-m"
      },
      "source": [
        "**Boas Práticas**\n",
        "\n",
        "*   Comece com um baseline simples para ter referência.\n",
        "*   Faça uma análise de dados antes de iniciar previsão de valores.\n",
        "*   Teste Modelos difentes e avalie:\n",
        "  - Complexidade.\n",
        "  - Intepretabilidade.\n",
        "  - Custo computacional.\n",
        "*   Faça teste A/B antes de colocar em produção sua solução."
      ]
    },
    {
      "cell_type": "markdown",
      "metadata": {
        "colab_type": "text",
        "id": "u-ICxfzdja0F"
      },
      "source": [
        "**Separando os dados para treino, teste e validação**"
      ]
    },
    {
      "cell_type": "markdown",
      "metadata": {
        "colab_type": "text",
        "id": "Esbmp8MiZOB1"
      },
      "source": [
        "Vamos separar dois arquivos fisicos:\n",
        "\n",
        "  - **dataset.csv**: Dados de 1964 a setembro de 1971.\n",
        "\n",
        "  - **validation.csv**: Dados de Outubro de 1971 a Outubro de 1972 (1 ano de vendas)."
      ]
    },
    {
      "cell_type": "code",
      "execution_count": null,
      "metadata": {
        "colab": {},
        "colab_type": "code",
        "id": "Eq0zMXYwZOB3"
      },
      "outputs": [],
      "source": [
        "# pega a quantidade de linhas e subtrai por 12\n",
        "split_point = len(series) - 12"
      ]
    },
    {
      "cell_type": "code",
      "execution_count": null,
      "metadata": {
        "colab": {},
        "colab_type": "code",
        "id": "4WLOQNvdZOB6"
      },
      "outputs": [],
      "source": [
        "# define que a variável dataset vai conter linhas até o split_point\n",
        "dataset = series[0:split_point]"
      ]
    },
    {
      "cell_type": "code",
      "execution_count": null,
      "metadata": {
        "colab": {},
        "colab_type": "code",
        "id": "9tuLmKe4ZOCF"
      },
      "outputs": [],
      "source": [
        "# define que a variável validation terá os dados do split_point em diante\n",
        "validation = series[split_point:]"
      ]
    },
    {
      "cell_type": "code",
      "execution_count": null,
      "metadata": {
        "colab": {},
        "colab_type": "code",
        "id": "l4SYxoQ6ZOCK"
      },
      "outputs": [],
      "source": [
        "# imprime o tamanho dos conjuntos\n",
        "print('Dataset %d, Validation %d' % (len(dataset), len(validation)))"
      ]
    },
    {
      "cell_type": "code",
      "execution_count": null,
      "metadata": {
        "colab": {},
        "colab_type": "code",
        "id": "YdaBkdPtZOCN"
      },
      "outputs": [],
      "source": [
        "# escreve para o disco\n",
        "dataset.to_csv('dataset.csv')"
      ]
    },
    {
      "cell_type": "code",
      "execution_count": null,
      "metadata": {
        "colab": {},
        "colab_type": "code",
        "id": "TY_2jxMrZOCR"
      },
      "outputs": [],
      "source": [
        "# escreve para o disco.\n",
        "validation.to_csv('validation.csv')"
      ]
    },
    {
      "cell_type": "markdown",
      "metadata": {
        "colab_type": "text",
        "id": "JZVbvFvSQ9hX"
      },
      "source": [
        "**Analise de Dados**"
      ]
    },
    {
      "cell_type": "code",
      "execution_count": null,
      "metadata": {
        "colab": {},
        "colab_type": "code",
        "id": "3U05dUejEJlm"
      },
      "outputs": [],
      "source": [
        "import pandas as pd\n",
        "series = pd.read_csv('/content/dataset.csv', header=0, index_col=0, parse_dates=True, squeeze=True)"
      ]
    },
    {
      "cell_type": "code",
      "execution_count": null,
      "metadata": {
        "colab": {},
        "colab_type": "code",
        "id": "wtL2Vb08W7Yb"
      },
      "outputs": [],
      "source": [
        "series.describe()"
      ]
    },
    {
      "cell_type": "markdown",
      "metadata": {
        "colab_type": "text",
        "id": "b0JzdFKjREe9"
      },
      "source": [
        "*   A média é de 4,641 isso significa em o nível da nossa série é de 4,641 vendas em média.\n",
        "*   O desvio padrão é relativamente alto 2,486 vendas variando a partir da média.\n",
        "*   Os quartis juntamente com o desvio padrão nos mostra que os dados estão espalhados da média."
      ]
    },
    {
      "cell_type": "code",
      "execution_count": null,
      "metadata": {
        "colab": {},
        "colab_type": "code",
        "id": "CVVj8rrEQ8Lm"
      },
      "outputs": [],
      "source": [
        "# Dados na linha do tempo\n",
        "series.plot()"
      ]
    },
    {
      "cell_type": "markdown",
      "metadata": {
        "colab_type": "text",
        "id": "bXmo03RkRU6q"
      },
      "source": [
        "   - Aparentemente existe um aumento de tendência de vendas ao longo dos anos.\n",
        "   - Aparentemente existe uma sazonalidade nas vendas por anos.\n",
        "   - Aparentemente a amplitude da sazonalidade aumenta conforme a tendência, isso pode sugerir um relacionamento multiplicativo.\n",
        "   - Aparentemente não existe qualquer outlier.\n",
        "   - Como vimos que há uma tendência e uma sazonalidade (obvias) isso nos dá forte indício que estamos trabalhando com uma série não estacionária."
      ]
    },
    {
      "cell_type": "markdown",
      "metadata": {
        "colab_type": "text",
        "id": "hyOGJEfVdAkz"
      },
      "source": [
        "**Visualizando a Sazonalidade**\n",
        "\n",
        "Podemos confirmar nossa suposição de que a sazonalidae é anual. No código abaixo plotamos os dados agrupados por ano para visualizar as vendas de cada ano. \n"
      ]
    },
    {
      "cell_type": "code",
      "execution_count": null,
      "metadata": {
        "colab": {},
        "colab_type": "code",
        "id": "ZRHqmpVBcbwn"
      },
      "outputs": [],
      "source": [
        "from pandas import DataFrame\n",
        "from pandas import Grouper"
      ]
    },
    {
      "cell_type": "code",
      "execution_count": null,
      "metadata": {
        "colab": {},
        "colab_type": "code",
        "id": "XViBiLeCeiGw"
      },
      "outputs": [],
      "source": [
        "grupos = series['1964':'1970'].groupby(Grouper(freq='A'))\n",
        "anos = DataFrame()\n",
        "for nome, grupo in grupos:\n",
        "  anos[nome.year] = grupo.values\n",
        "\n",
        "anos.plot(figsize=(10,5)\n",
        "          ,subplots=True\n",
        "          ,title='Vendas em meses por anos')"
      ]
    },
    {
      "cell_type": "markdown",
      "metadata": {
        "colab_type": "text",
        "id": "GnFfA4KGdrWC"
      },
      "source": [
        "- Podemos ver claramente que as vendas caiem em agosto e aumentam do final do mês seguinte até o final do ano. Isso se repete a cada ano."
      ]
    },
    {
      "cell_type": "markdown",
      "metadata": {
        "colab_type": "text",
        "id": "UiEmzvgrfgAg"
      },
      "source": [
        "**Plotando a distribuição da Série**\n",
        "-  A distribuição não é uma normal.\n",
        "-  A forma tem uma longa cauda a direita. Isso pode sugerir algum tipo de transformação."
      ]
    },
    {
      "cell_type": "code",
      "execution_count": null,
      "metadata": {
        "colab": {},
        "colab_type": "code",
        "id": "p8ajx07AQ8IW"
      },
      "outputs": [],
      "source": [
        "# Distribuição da Série\n",
        "from matplotlib import pyplot\n",
        "pyplot.figure(1)\n",
        "pyplot.subplot(211)\n",
        "series.hist()\n",
        "pyplot.subplot(212)\n",
        "series.plot(kind='kde')\n",
        "pyplot.show()"
      ]
    },
    {
      "cell_type": "markdown",
      "metadata": {
        "colab_type": "text",
        "id": "Ia3EybNFDNXo"
      },
      "source": [
        "**Visualizando Autocorrelação**"
      ]
    },
    {
      "cell_type": "code",
      "execution_count": null,
      "metadata": {
        "colab": {},
        "colab_type": "code",
        "id": "cP7gzlyrC947"
      },
      "outputs": [],
      "source": [
        "import pandas.util.testing as tm\n",
        "from statsmodels.graphics.tsaplots import plot_acf\n",
        "from statsmodels.graphics.tsaplots import plot_pacf\n",
        "from matplotlib import pyplot"
      ]
    },
    {
      "cell_type": "code",
      "execution_count": null,
      "metadata": {
        "colab": {},
        "colab_type": "code",
        "id": "A_eqXF8JDWxI"
      },
      "outputs": [],
      "source": [
        "plot_acf(series, lags=40)\n",
        "pyplot.show()"
      ]
    },
    {
      "cell_type": "markdown",
      "metadata": {
        "colab_type": "text",
        "id": "Ikcf9gN5C3WG"
      },
      "source": [
        "**Checando Estacionariedade**"
      ]
    },
    {
      "cell_type": "code",
      "execution_count": null,
      "metadata": {
        "colab": {},
        "colab_type": "code",
        "id": "-hZICmrqCxut"
      },
      "outputs": [],
      "source": [
        "import pandas.util.testing as tm\n",
        "from statsmodels.tsa.stattools import adfuller\n",
        "\n",
        "resultado = adfuller(series.values)\n",
        "print('\\nADF teste: %f' % resultado[0])\n",
        "print('\\np-value: %f' % resultado[1])\n",
        "print('\\nCritical Values:')\n",
        "for key, value in resultado[4].items():\n",
        "  print('\\t%s: %.3f' % (key, value))"
      ]
    },
    {
      "cell_type": "markdown",
      "metadata": {
        "colab_type": "text",
        "id": "SLifjkVc4nP2"
      },
      "source": [
        "**Especificando um Baseline**\n",
        "- Um baseline é um valor simples que temos para começar o nosso projeto.\n",
        "- Serve de referência para saber como nosso modelo está se saindo.\n",
        "- Exemplo: Valor de previsão é o valor anterior, no nosso caso, o valor do mês anterior."
      ]
    },
    {
      "cell_type": "code",
      "execution_count": null,
      "metadata": {
        "colab": {},
        "colab_type": "code",
        "id": "-1QbWkGYByCP"
      },
      "outputs": [],
      "source": [
        "import pandas as pd\n",
        "series = pd.read_csv('/content/drive/My Drive/Curso Séries Temporais/Materiais de Apoio/champagne_sales.csv', header=0, index_col=0, parse_dates=True, squeeze=True)"
      ]
    },
    {
      "cell_type": "code",
      "execution_count": null,
      "metadata": {
        "colab": {},
        "colab_type": "code",
        "id": "TC2EVsgc4mvx"
      },
      "outputs": [],
      "source": [
        "# atribui os dados a variável X \n",
        "X = series.values"
      ]
    },
    {
      "cell_type": "code",
      "execution_count": null,
      "metadata": {
        "colab": {},
        "colab_type": "code",
        "id": "2e_E9gRO4mAX"
      },
      "outputs": [],
      "source": [
        "# define o tamanho do conjunto de treino (50% dos dados para treino e teste)\n",
        "train_size = int(len(X) * 0.50)"
      ]
    },
    {
      "cell_type": "code",
      "execution_count": null,
      "metadata": {
        "colab": {},
        "colab_type": "code",
        "id": "ZnUThsBe5GzY"
      },
      "outputs": [],
      "source": [
        "# cria os conjuntos de treino e teste\n",
        "train = X[0:train_size]\n",
        "test = X[train_size:]"
      ]
    },
    {
      "cell_type": "code",
      "execution_count": null,
      "metadata": {
        "colab": {},
        "colab_type": "code",
        "id": "NkW5uRHp6i-8"
      },
      "outputs": [],
      "source": [
        "# obtem todos od dados do treino \n",
        "history = [x for x in train]"
      ]
    },
    {
      "cell_type": "code",
      "execution_count": null,
      "metadata": {
        "colab": {},
        "colab_type": "code",
        "id": "PhEkHtAf7yQu"
      },
      "outputs": [],
      "source": [
        "# imprime os 10 primeiros valores da variável history\n",
        "history[:10]"
      ]
    },
    {
      "cell_type": "code",
      "execution_count": null,
      "metadata": {
        "colab": {},
        "colab_type": "code",
        "id": "BjlXcArc79Il"
      },
      "outputs": [],
      "source": [
        "# imprime o último valor da variável history\n",
        "history[-1]"
      ]
    },
    {
      "cell_type": "code",
      "execution_count": null,
      "metadata": {
        "colab": {},
        "colab_type": "code",
        "id": "7KcfHEdq7tSN"
      },
      "outputs": [],
      "source": [
        "# cria lista de previsões\n",
        "predictions = list()"
      ]
    },
    {
      "cell_type": "code",
      "execution_count": null,
      "metadata": {
        "colab": {},
        "colab_type": "code",
        "id": "WTaACYqG5Gpw"
      },
      "outputs": [],
      "source": [
        "# aplicando o modelo naive\n",
        "for i in range(len(test)):\n",
        "  \n",
        "  # valor_predito recebe o último valor do conjunto de treino\n",
        "  valor_predito = history[-1]\n",
        "  \n",
        "  # a primeira previsão é o último valor do conjunto de treino\n",
        "  predictions.append(valor_predito)\n",
        "  \n",
        "  # valor real recebe o valor atual do teste.\n",
        "  valor_real = test[i]\n",
        "  \n",
        "  # adiciona o valor real para a lista de historico\n",
        "  history.append(valor_real)\n",
        "  \n",
        "  # imprime valor predito e valor real..\n",
        "  print('Valor Predito=%.3f, Valor }Esperado=%3.f' % (valor_predito, valor_real))"
      ]
    },
    {
      "cell_type": "code",
      "execution_count": null,
      "metadata": {
        "colab": {},
        "colab_type": "code",
        "id": "AYiQxN-25Sdv"
      },
      "outputs": [],
      "source": [
        "# avaliando o modelo naive\n",
        "from sklearn.metrics import mean_squared_error\n",
        "from math import sqrt\n",
        "rmse = sqrt(mean_squared_error(test, predictions))\n",
        "print('RMSE: %.3f' % rmse)"
      ]
    },
    {
      "cell_type": "markdown",
      "metadata": {
        "colab_type": "text",
        "id": "2t99iitRG056"
      },
      "source": [
        "**Prevendo dados com ARIMA com Walk Forward**"
      ]
    },
    {
      "cell_type": "markdown",
      "metadata": {
        "colab_type": "text",
        "id": "12TA4lZaGV_T"
      },
      "source": [
        "Visualizando a autocorrelação dos lags."
      ]
    },
    {
      "cell_type": "code",
      "execution_count": null,
      "metadata": {
        "colab": {},
        "colab_type": "code",
        "id": "VHIUUGVDa4Pb"
      },
      "outputs": [],
      "source": [
        "import pandas.util.testing as tm\n",
        "from statsmodels.graphics.tsaplots import plot_acf\n",
        "from statsmodels.graphics.tsaplots import plot_pacf\n",
        "from matplotlib import pyplot"
      ]
    },
    {
      "cell_type": "code",
      "execution_count": null,
      "metadata": {
        "colab": {},
        "colab_type": "code",
        "id": "Vvx9MGvyFZaV"
      },
      "outputs": [],
      "source": [
        "plot_acf(series, lags=40)\n",
        "pyplot.show()"
      ]
    },
    {
      "cell_type": "markdown",
      "metadata": {
        "colab_type": "text",
        "id": "0l0FoJSeGnEn"
      },
      "source": [
        "Separando os dados de treino e teste"
      ]
    },
    {
      "cell_type": "code",
      "execution_count": null,
      "metadata": {
        "colab": {},
        "colab_type": "code",
        "id": "PGv_QRP_HRvs"
      },
      "outputs": [],
      "source": [
        "series.tail()"
      ]
    },
    {
      "cell_type": "code",
      "execution_count": null,
      "metadata": {
        "colab": {},
        "colab_type": "code",
        "id": "a5-_qFtQG7kY"
      },
      "outputs": [],
      "source": [
        "# a variável X recebe os dados da série\n",
        "X = series.values\n",
        "X = X.astype('float32')"
      ]
    },
    {
      "cell_type": "code",
      "execution_count": null,
      "metadata": {
        "colab": {},
        "colab_type": "code",
        "id": "Ba6_IpjBG2TK"
      },
      "outputs": [],
      "source": [
        "# Separa os dados com 50% dos dados para treino e 50% dos dados para teste\n",
        "size = int(len(X) * 0.50)"
      ]
    },
    {
      "cell_type": "code",
      "execution_count": null,
      "metadata": {
        "colab": {},
        "colab_type": "code",
        "id": "oD9wvM_VH4YN"
      },
      "outputs": [],
      "source": [
        "# Separa dados de treino e teste\n",
        "train = X[0:size]\n",
        "test =  X[size:]"
      ]
    },
    {
      "cell_type": "code",
      "execution_count": null,
      "metadata": {
        "colab": {},
        "colab_type": "code",
        "id": "0YDSZj4QH4UL"
      },
      "outputs": [],
      "source": [
        "# cria a variável history\n",
        "history = [x for x in train]"
      ]
    },
    {
      "cell_type": "code",
      "execution_count": null,
      "metadata": {
        "colab": {},
        "colab_type": "code",
        "id": "KZard6vuH4R0"
      },
      "outputs": [],
      "source": [
        "# cria lista de previsões\n",
        "predictions = list()"
      ]
    },
    {
      "cell_type": "code",
      "execution_count": null,
      "metadata": {
        "colab": {},
        "colab_type": "code",
        "id": "Mgr01sZbNmZ-"
      },
      "outputs": [],
      "source": [
        "# Cria a função que faz a diferenciação\n",
        "def difference(dataset, interval=1):\n",
        "  diff = list() \n",
        "  for i in range(interval, len(dataset)):\n",
        "    value = dataset[i] - dataset[i - interval]\n",
        "    diff.append(value)\n",
        "  return diff\n",
        "\n",
        "# cria função que reverte o valor diferenciado para o original\n",
        "def inverse_difference(history, previsao, interval=1):\n",
        "  return previsao + history[-interval]"
      ]
    },
    {
      "cell_type": "code",
      "execution_count": null,
      "metadata": {
        "colab": {},
        "colab_type": "code",
        "id": "4uldpHVQVI1y"
      },
      "outputs": [],
      "source": [
        "from statsmodels.tsa.arima_model import ARIMA\n",
        "from matplotlib import pyplot"
      ]
    },
    {
      "cell_type": "code",
      "execution_count": null,
      "metadata": {
        "colab": {},
        "colab_type": "code",
        "id": "0poL41ZpH4Oo"
      },
      "outputs": [],
      "source": [
        "# inicia Walk-Forward\n",
        "for t in range(len(test)):\n",
        "  \n",
        "  # difference data\n",
        "  meses_no_ano = 12\n",
        "  diff = difference(history, meses_no_ano)\n",
        "  \n",
        "  # cria um modelo ARIMA com os dados de history\n",
        "  model = ARIMA(diff, order=(1,1,1))\n",
        "  \n",
        "  # treina o modelo ARIMA\n",
        "  model_fit = model.fit(trend='nc', disp=0)\n",
        "  \n",
        "  # a variável valor_predito recebe o valor previsto pelo modelo\n",
        "  valor_predito = model_fit.forecast()[0]\n",
        "\n",
        "  # valor_predito recebe o valor revertido (escala original)\n",
        "  valor_predito = inverse_difference(history, valor_predito, meses_no_ano)\n",
        "   \n",
        "  # adiciona o valor predito na lista de predicões\n",
        "  predictions.append(valor_predito)\n",
        "  \n",
        "  # a variável valor_real recebe o valor real do teste\n",
        "  valor_real = test[t]\n",
        "  \n",
        "  # adiciona o valor real a variável history\n",
        "  history.append(valor_real)\n",
        "\n",
        "  # imprime valor predito e valor real\n",
        "  print('Valor predito=%.3f, Valor esperado=%3.f' % (valor_predito, valor_real))"
      ]
    },
    {
      "cell_type": "code",
      "execution_count": null,
      "metadata": {
        "colab": {},
        "colab_type": "code",
        "id": "-y-IM2gpH4Lv"
      },
      "outputs": [],
      "source": [
        "# Avaliando os resultados\n",
        "rmse = sqrt(mean_squared_error(test, predictions))\n",
        "print('Test RMSE: %.3f' % rmse)"
      ]
    },
    {
      "cell_type": "code",
      "execution_count": null,
      "metadata": {
        "colab": {},
        "colab_type": "code",
        "id": "YXgXwNKOH39T"
      },
      "outputs": [],
      "source": [
        "# plot forecasts against actual outcomes \n",
        "pyplot.plot(test)\n",
        "pyplot.plot(predictions, color='red')\n",
        "pyplot.show()"
      ]
    },
    {
      "cell_type": "markdown",
      "metadata": {
        "colab_type": "text",
        "id": "qzveMWE7_dwG"
      },
      "source": [
        "**Código inteiro - Importante**"
      ]
    },
    {
      "cell_type": "code",
      "execution_count": null,
      "metadata": {
        "colab": {},
        "colab_type": "code",
        "id": "H5LITFCJ_SBG"
      },
      "outputs": [],
      "source": [
        "# cria a variável history\n",
        "history = [x for x in train]\n",
        "\n",
        "# cria lista de previsões\n",
        "predictions = list()\n",
        "\n",
        "# inicia Walk-Forward\n",
        "for t in range(len(test)):\n",
        "  \n",
        "  # difference data\n",
        "  meses_no_ano = 12\n",
        "  diff = difference(history, meses_no_ano)\n",
        "  \n",
        "  # cria um modelo ARIMA com os dados de history\n",
        "  model = ARIMA(diff, order=(1,1,1))\n",
        "  \n",
        "  # treina o modelo ARIMA\n",
        "  model_fit = model.fit(trend='nc', disp=0)\n",
        "  \n",
        "  # a variável valor_predito recebe o valor previsto pelo modelo\n",
        "  valor_predito = model_fit.forecast()[0]\n",
        "\n",
        "  # valor_predito recebe o valor revertido (escala original)\n",
        "  valor_predito = inverse_difference(history, valor_predito, meses_no_ano)\n",
        "   \n",
        "  # adiciona o valor predito na lista de predicões\n",
        "  predictions.append(valor_predito)\n",
        "  \n",
        "  # a variável valor_real recebe o valor real do teste\n",
        "  valor_real = test[t]\n",
        "  \n",
        "  # adiciona o valor real a variável history\n",
        "  history.append(valor_real)\n",
        "\n",
        "  # imprime valor predito e valor real\n",
        "  print('Valor predito=%.3f, Valor esperado=%3.f' % (valor_predito, valor_real))"
      ]
    },
    {
      "cell_type": "markdown",
      "metadata": {
        "colab_type": "text",
        "id": "1QlgHp6sOmXP"
      },
      "source": [
        "#### **Tunning Arima**"
      ]
    },
    {
      "cell_type": "markdown",
      "metadata": {
        "colab_type": "text",
        "id": "JnWZ6T-o_Glr"
      },
      "source": [
        "\n",
        "\n",
        "*   GridSearch\n",
        "*   Teste exaustivo com as combinações de parâmetros (p,d,q)\n",
        "\n"
      ]
    },
    {
      "cell_type": "markdown",
      "metadata": {
        "colab_type": "text",
        "id": "zP1NQMbggC1t"
      },
      "source": [
        "Cria a função que executa o modelo Arima"
      ]
    },
    {
      "cell_type": "code",
      "execution_count": null,
      "metadata": {
        "colab": {},
        "colab_type": "code",
        "id": "JJs4TK3FMhCF"
      },
      "outputs": [],
      "source": [
        "def evaluate_arima_model(X, arima_order):\n",
        "  # converte o conjunto de dados\n",
        "  X = X.astype('float32')\n",
        "  # Separa os dados com 50% dos dados para treino e 50% para teste \n",
        "  train_size = int(len(X) * 0.50)\n",
        "  train, test = X[0:train_size], X[train_size:]\n",
        "  history = [x for x in train] \n",
        "  # cria a lista de previsões\n",
        "  predictions = list()\n",
        "  for t in range(len(test)):\n",
        "    # aplica diferenciação nos dados\n",
        "    months_in_year = 12\n",
        "    diff = difference(history, months_in_year)\n",
        "    # treina o modelo ARIMA\n",
        "    model = ARIMA(diff, order=arima_order)\n",
        "    model_fit = model.fit(trend='nc', disp=0)\n",
        "    # recebe os dados previtos pelo modelo\n",
        "    valor_previsto = model_fit.forecast()[0]\n",
        "    valor_previsto = inverse_difference(history, valor_previsto, months_in_year)\n",
        "    # adiciona os dados na lista de previsões\n",
        "    predictions.append(valor_previsto)\n",
        "    history.append(test[t])\n",
        "  # calculate o erro rmse\n",
        "  rmse = sqrt(mean_squared_error(test, predictions))\n",
        "  return rmse"
      ]
    },
    {
      "cell_type": "code",
      "execution_count": null,
      "metadata": {
        "colab": {},
        "colab_type": "code",
        "id": "d1To6UseMg26"
      },
      "outputs": [],
      "source": [
        "# Loop com combinações de p, d e q para modelo ARIMA\n",
        "def evaluate_models(dataset, p_values, d_values, q_values):\n",
        "  dataset = dataset.astype('float32')\n",
        "  best_score, best_cfg = float(\"inf\"), None\n",
        "  # intera sobre todos os valores de p\n",
        "  for p in p_values:\n",
        "    # intera sobre todos os valores de d\n",
        "    for d in d_values:\n",
        "      # intera sobre todos os valoes de q\n",
        "      for q in q_values:\n",
        "        order = (p,d,q)\n",
        "        try:\n",
        "          # chama a funcão que executa o ARIMA\n",
        "          rmse = evaluate_arima_model(dataset, order)\n",
        "          if rmse < best_score:\n",
        "            best_score, best_cfg = rmse, order\n",
        "          print('ARIMA%s RMSE=%.3f' % (order,rmse))\n",
        "        except:\n",
        "          continue \n",
        "    print('Best ARIMA%s RMSE=%.3f' % (best_cfg, best_score))"
      ]
    },
    {
      "cell_type": "code",
      "execution_count": null,
      "metadata": {
        "colab": {},
        "colab_type": "code",
        "id": "Vdn5ZPHzS92d"
      },
      "outputs": [],
      "source": [
        "# Define a lista de valores para cada parâmetro\n",
        "p_values = range(0, 7)\n",
        "d_values = range(0, 3)\n",
        "q_values = range(0, 7)"
      ]
    },
    {
      "cell_type": "code",
      "execution_count": null,
      "metadata": {
        "colab": {},
        "colab_type": "code",
        "id": "XBXZxdQUTA7L"
      },
      "outputs": [],
      "source": [
        "# elimina os warnings da biblioteca\n",
        "import warnings\n",
        "warnings.filterwarnings(\"ignore\")"
      ]
    },
    {
      "cell_type": "code",
      "execution_count": null,
      "metadata": {
        "colab": {},
        "colab_type": "code",
        "id": "XNL3MnVWAp1e"
      },
      "outputs": [],
      "source": [
        "# chama a funcão passando os parâmetros\n",
        "evaluate_models(series.values, p_values, d_values, q_values)"
      ]
    },
    {
      "cell_type": "markdown",
      "metadata": {
        "colab_type": "text",
        "id": "U136Z6YLVno-"
      },
      "source": [
        "Executando o modelo com a melhor configuração de ARIMA"
      ]
    },
    {
      "cell_type": "code",
      "execution_count": null,
      "metadata": {
        "colab": {},
        "colab_type": "code",
        "id": "kEVCLJpnFnaE"
      },
      "outputs": [],
      "source": [
        "# cria a variável history\n",
        "history = [x for x in train]\n",
        "\n",
        "# cria lista de previsões\n",
        "predictions = list()\n",
        "\n",
        "# inicia Walk-Forward\n",
        "for t in range(len(test)):\n",
        "  \n",
        "  # difference data\n",
        "  meses_no_ano = 12\n",
        "  diff = difference(history, meses_no_ano)\n",
        "  \n",
        "  # cria um modelo ARIMA com os dados de history\n",
        "  model = ARIMA(diff, order=(0,0,1))\n",
        "  \n",
        "  # treina o modelo ARIMA\n",
        "  model_fit = model.fit(trend='nc', disp=0)\n",
        "  \n",
        "  # a variável valor_predito recebe o valor previsto pelo modelo\n",
        "  valor_predito = model_fit.forecast()[0]\n",
        "\n",
        "  # valor_predito recebe o valor revertido (escala original)\n",
        "  valor_predito = inverse_difference(history, valor_predito, meses_no_ano)\n",
        "   \n",
        "  # adiciona o valor predito na lista de predicões\n",
        "  predictions.append(valor_predito)\n",
        "  \n",
        "  # a variável valor_real recebe o valor real do teste\n",
        "  valor_real = test[t]\n",
        "  \n",
        "  # adiciona o valor real a variável history\n",
        "  history.append(valor_real)\n",
        "\n",
        "  # imprime valor predito e valor real\n",
        "  print('Valor predito=%.3f, Valor esperado=%3.f' % (valor_predito, valor_real))"
      ]
    },
    {
      "cell_type": "code",
      "execution_count": null,
      "metadata": {
        "colab": {},
        "colab_type": "code",
        "id": "gltdqHBRFnMm"
      },
      "outputs": [],
      "source": [
        "# Avaliando os resultados\n",
        "rmse = sqrt(mean_squared_error(test, predictions))\n",
        "print('Test RMSE: %.3f' % rmse)"
      ]
    },
    {
      "cell_type": "markdown",
      "metadata": {
        "colab_type": "text",
        "id": "ye1tsZSWFqKs"
      },
      "source": [
        "#### `Analisando Resíduos`\n",
        "\n",
        "      Erro Residual = Valor esperado − Valor Predito\n",
        "\n",
        "- Erros residuais são erros em previsões de séries temporais.\n",
        "- Uma análise dos erros pode sugerir melhoras no modelo.\n",
        "  - Tendências.\n",
        "  - Sazonalidades."
      ]
    },
    {
      "cell_type": "code",
      "execution_count": null,
      "metadata": {
        "colab": {},
        "colab_type": "code",
        "id": "294sMQtrVvTJ"
      },
      "outputs": [],
      "source": [
        "# erros residuais \n",
        "residuals = [test[i] - predictions[i] for i in range(len(test))]"
      ]
    },
    {
      "cell_type": "code",
      "execution_count": null,
      "metadata": {
        "colab": {},
        "colab_type": "code",
        "id": "zURnVyWZbRLq"
      },
      "outputs": [],
      "source": [
        "# converte a lista em um dataframe\n",
        "residuals = pd.DataFrame(residuals)"
      ]
    },
    {
      "cell_type": "code",
      "execution_count": null,
      "metadata": {
        "colab": {},
        "colab_type": "code",
        "id": "aesh-v8hbWMQ"
      },
      "outputs": [],
      "source": [
        "# imprime as 5 primeiras linhas\n",
        "residuals.head()"
      ]
    },
    {
      "cell_type": "code",
      "execution_count": null,
      "metadata": {
        "colab": {},
        "colab_type": "code",
        "id": "t8pyizw4WHm7"
      },
      "outputs": [],
      "source": [
        "# estatística descritiva\n",
        "residuals.describe()"
      ]
    },
    {
      "cell_type": "code",
      "execution_count": null,
      "metadata": {
        "colab": {},
        "colab_type": "code",
        "id": "-sMMNjLBf9zQ"
      },
      "outputs": [],
      "source": [
        "# plot residuals\n",
        "residuals.plot()\n",
        "pyplot.show()"
      ]
    },
    {
      "cell_type": "code",
      "execution_count": null,
      "metadata": {
        "colab": {},
        "colab_type": "code",
        "id": "ITCDPbI_VvMc"
      },
      "outputs": [],
      "source": [
        "# plots histograma\n",
        "pyplot.figure()\n",
        "pyplot.subplot(211)\n",
        "residuals.hist(ax=pyplot.gca())\n",
        "\n",
        "pyplot.subplot(212)\n",
        "residuals.plot(kind='kde', ax=pyplot.gca())\n",
        "pyplot.show()"
      ]
    },
    {
      "cell_type": "code",
      "execution_count": null,
      "metadata": {
        "colab": {},
        "colab_type": "code",
        "id": "hxvZ8u0sVvI0"
      },
      "outputs": [],
      "source": [
        "# importa os pacotes de autocorrelação\n",
        "from statsmodels.graphics.tsaplots import plot_acf\n",
        "from statsmodels.graphics.tsaplots import plot_pacf"
      ]
    },
    {
      "cell_type": "code",
      "execution_count": null,
      "metadata": {
        "colab": {},
        "colab_type": "code",
        "id": "LrFgscZ0VvDX"
      },
      "outputs": [],
      "source": [
        "# plots de autocorrelação\n",
        "pyplot.figure() \n",
        "pyplot.subplot(211)\n",
        "plot_acf(residuals, ax=pyplot.gca())\n",
        "pyplot.subplot(212)\n",
        "plot_pacf(residuals, ax=pyplot.gca())\n",
        "pyplot.show()"
      ]
    },
    {
      "cell_type": "markdown",
      "metadata": {
        "colab_type": "text",
        "id": "xUmm8UNWjcmS"
      },
      "source": [
        "Decompondo a série de erro residual"
      ]
    },
    {
      "cell_type": "code",
      "execution_count": null,
      "metadata": {
        "colab": {},
        "colab_type": "code",
        "id": "sdCZmPpqb6oR"
      },
      "outputs": [],
      "source": [
        "from statsmodels.tsa.seasonal import seasonal_decompose\n",
        "result = seasonal_decompose(residuals, model='additive', freq=1)\n",
        "result.plot()\n",
        "pyplot.show()"
      ]
    },
    {
      "cell_type": "markdown",
      "metadata": {
        "colab_type": "text",
        "id": "ww9cpjikMhqg"
      },
      "source": [
        "**SARIMA**\n",
        "\n",
        "```\n",
        "# ARIMA(p,d,q)\n",
        "```\n",
        "*   **p:** O número de lags que foram devem ser incluídos no modelo.\n",
        "*   **d:** O número de vezes que as observações serão diferenciadas.\n",
        "*   **q:** O tamanho de uma janela de média móvel. Também chamada de ordem de média móvel.\n",
        "\n",
        "SARIMA(p, d, q).(P,D,Q)m\n",
        "\n",
        "\n",
        "> - SARIMA é usado para séries não estacionárias, que é os dados não flutuam em volta da média. Esse modelo pode identificar tendência e sazonalizadade.\n",
        "\n",
        "> - Porque considerar a sazonalidade é importante?\n",
        "\n",
        "A sazonalidade é importante principalmente quando sabemos que as vendas aumentam ou diminuiem em determinados eventos (feriados, inverno, verão, etc). Podemos querer modelar esses fenômenos.\n",
        "\n",
        "`Exemplo: Não gostaríamos de comparar as vendas do primeiro trimestre de 2020 com as do quarto trimestre de 2019 sem ajustar esse pico sistemático - sem levar em consideração a sazonalidade, assumiríamos por engano que as vendas diminuiram muito (e nossa empresa estava com grandes problemas) quando realmente é apenas a ressaca pós-feriado prevista.`\n",
        "\n"
      ]
    },
    {
      "cell_type": "code",
      "execution_count": null,
      "metadata": {
        "colab": {},
        "colab_type": "code",
        "id": "4rPE0-DxMg-V"
      },
      "outputs": [],
      "source": [
        "import statsmodels.api as sm"
      ]
    },
    {
      "cell_type": "code",
      "execution_count": null,
      "metadata": {
        "colab": {},
        "colab_type": "code",
        "id": "IqWjZJtLMg7I"
      },
      "outputs": [],
      "source": [
        "# cria a variável history\n",
        "history = [x for x in train]\n",
        "\n",
        "# cria lista de previsões\n",
        "predictions = list()\n",
        "\n",
        "# inicia Walk-Forward\n",
        "for t in range(len(test)):\n",
        "  \n",
        "  # difference data\n",
        "  meses_no_ano = 12\n",
        "\n",
        "  # cria um modelo SARIMA com os dados de history\n",
        "  # desliga a diferenciação do modelo ARIMA\n",
        "  model = sm.tsa.statespace.SARIMAX(history, order=(1,0,1), seasonal_order=(1,1,1, meses_no_ano))\n",
        "  \n",
        "  # treina o modelo SARIMAX\n",
        "  model_fit = model.fit(trend='nc', disp=0)\n",
        "  \n",
        "  # a variável valor_predito recebe o valor previsto pelo modelo\n",
        "  valor_predito = model_fit.forecast()[0]\n",
        " \n",
        "  # adiciona o valor predito na lista de predicões\n",
        "  predictions.append(valor_predito)\n",
        "  \n",
        "  # a variável valor_real recebe o valor real do teste\n",
        "  valor_real = test[t]\n",
        "  \n",
        "  # adiciona o valor real a variável history\n",
        "  history.append(valor_real)\n",
        "\n",
        "  # imprime valor predito e valor real\n",
        "  print('Valor predito=%.3f, Valor esperado=%3.f' % (valor_predito, valor_real))"
      ]
    },
    {
      "cell_type": "code",
      "execution_count": null,
      "metadata": {
        "colab": {},
        "colab_type": "code",
        "id": "r3ClxfouMg47"
      },
      "outputs": [],
      "source": [
        "# Avaliando os resultados\n",
        "rmse = sqrt(mean_squared_error(test, predictions))\n",
        "print('Test RMSE: %.3f' % rmse)"
      ]
    },
    {
      "cell_type": "markdown",
      "metadata": {
        "colab_type": "text",
        "id": "dpi9nQr1kwEo"
      },
      "source": [
        "**Facebook Prophet**"
      ]
    },
    {
      "cell_type": "markdown",
      "metadata": {
        "colab_type": "text",
        "id": "Pfw_sXwqgy1Y"
      },
      "source": [
        "- Biblioteca criada pelo Facebook com o objetivo de ser usada na rede social.\n",
        "- Motivação: Facilitar a criação de modelos sem necessariamente ter experts para isso.\n",
        "- Focada em modelar sazonalidades, efeitos de feriados e tratar missing values."
      ]
    },
    {
      "cell_type": "code",
      "execution_count": null,
      "metadata": {
        "colab": {},
        "colab_type": "code",
        "id": "6FDJUGc4k1LY"
      },
      "outputs": [],
      "source": [
        "# importa o Prophet\n",
        "from fbprophet import Prophet"
      ]
    },
    {
      "cell_type": "code",
      "execution_count": null,
      "metadata": {
        "colab": {},
        "colab_type": "code",
        "id": "Z5AdKVz-nCyL"
      },
      "outputs": [],
      "source": [
        "# ds: features temporais\n",
        "# y: valores a serem preditos\n",
        "\n",
        "dataframe = pd.DataFrame({'ds': dataset.index, 'y': dataset.values})"
      ]
    },
    {
      "cell_type": "code",
      "execution_count": null,
      "metadata": {
        "colab": {},
        "colab_type": "code",
        "id": "UyoSXecGFFie"
      },
      "outputs": [],
      "source": [
        "# dataframe do prophet\n",
        "dataframe.head()"
      ]
    },
    {
      "cell_type": "code",
      "execution_count": null,
      "metadata": {
        "colab": {},
        "colab_type": "code",
        "id": "hAFA0gfinVTS"
      },
      "outputs": [],
      "source": [
        "# instancia o objeto prophet\n",
        "model = Prophet()"
      ]
    },
    {
      "cell_type": "code",
      "execution_count": null,
      "metadata": {
        "colab": {},
        "colab_type": "code",
        "id": "B8oHetSrpyhN"
      },
      "outputs": [],
      "source": [
        "# gerando o modelo\n",
        "model.fit(dataframe)"
      ]
    },
    {
      "cell_type": "code",
      "execution_count": null,
      "metadata": {
        "colab": {},
        "colab_type": "code",
        "id": "jU312g7NnjrI"
      },
      "outputs": [],
      "source": [
        "# gerando dados futuros\n",
        "futuro = model.make_future_dataframe(periods = 12, freq='M')"
      ]
    },
    {
      "cell_type": "code",
      "execution_count": null,
      "metadata": {
        "colab": {},
        "colab_type": "code",
        "id": "SSS8hMaqqF08"
      },
      "outputs": [],
      "source": [
        "futuro"
      ]
    },
    {
      "cell_type": "code",
      "execution_count": null,
      "metadata": {
        "colab": {},
        "colab_type": "code",
        "id": "vE4u8inlqiJr"
      },
      "outputs": [],
      "source": [
        "# prevendo valores para dados futuros\n",
        "saida = model.predict(futuro)"
      ]
    },
    {
      "cell_type": "code",
      "execution_count": null,
      "metadata": {
        "colab": {},
        "colab_type": "code",
        "id": "bAdbOcqAzZLt"
      },
      "outputs": [],
      "source": [
        "# imprime saidas\n",
        "saida.head()"
      ]
    },
    {
      "cell_type": "code",
      "execution_count": null,
      "metadata": {
        "colab": {},
        "colab_type": "code",
        "id": "pu092J8cq5D1"
      },
      "outputs": [],
      "source": [
        "saida[['ds', 'yhat', 'yhat_lower', 'yhat_upper']].tail(7)"
      ]
    },
    {
      "cell_type": "markdown",
      "metadata": {
        "colab_type": "text",
        "id": "CJLmPOCMIXKS"
      },
      "source": [
        "**Validando o modelo com Prophet**"
      ]
    },
    {
      "cell_type": "code",
      "execution_count": null,
      "metadata": {
        "colab": {},
        "colab_type": "code",
        "id": "aIJyC-NvIhnh"
      },
      "outputs": [],
      "source": [
        "# dataset de validação\n",
        "validation_df = pd.DataFrame({'ds': validation.index})"
      ]
    },
    {
      "cell_type": "code",
      "execution_count": null,
      "metadata": {
        "colab": {},
        "colab_type": "code",
        "id": "kXCZqvDuKq0f"
      },
      "outputs": [],
      "source": [
        "# dados temporais\n",
        "validation_df['ds']"
      ]
    },
    {
      "cell_type": "code",
      "execution_count": null,
      "metadata": {
        "colab": {},
        "colab_type": "code",
        "id": "hvFwzqltIWLF"
      },
      "outputs": [],
      "source": [
        "# aplicando o modelo do prophet\n",
        "saida = model.predict(validation_df)"
      ]
    },
    {
      "cell_type": "code",
      "execution_count": null,
      "metadata": {
        "colab": {},
        "colab_type": "code",
        "id": "rFxW3NMqLpXi"
      },
      "outputs": [],
      "source": [
        "# imprime as saidas\n",
        "saida[['ds', 'yhat', 'yhat_lower', 'yhat_upper']]"
      ]
    },
    {
      "cell_type": "code",
      "execution_count": null,
      "metadata": {
        "colab": {},
        "colab_type": "code",
        "id": "S_Mf3txXMMfe"
      },
      "outputs": [],
      "source": [
        "validation"
      ]
    },
    {
      "cell_type": "code",
      "execution_count": null,
      "metadata": {
        "colab": {},
        "colab_type": "code",
        "id": "f1oSN-oWRcq_"
      },
      "outputs": [],
      "source": [
        "# Avaliando os resultados\n",
        "from sklearn.metrics import mean_squared_error\n",
        "from math import sqrt\n",
        "rmse = sqrt(mean_squared_error(validation.values, saida.yhat))\n",
        "print('Test RMSE: %.3f' % rmse)"
      ]
    },
    {
      "cell_type": "markdown",
      "metadata": {
        "colab_type": "text",
        "id": "uBLZr-_MREE8"
      },
      "source": [
        "**Prevendo o futuro**"
      ]
    },
    {
      "cell_type": "code",
      "execution_count": null,
      "metadata": {
        "colab": {},
        "colab_type": "code",
        "id": "TRRvvpBVfJhM"
      },
      "outputs": [],
      "source": [
        "# Python\n",
        "figura = model.plot(saida)"
      ]
    },
    {
      "cell_type": "code",
      "execution_count": null,
      "metadata": {
        "colab": {},
        "colab_type": "code",
        "id": "joQvtCwyfumA"
      },
      "outputs": [],
      "source": [
        "model.plot_components(saida)"
      ]
    },
    {
      "cell_type": "markdown",
      "metadata": {
        "colab_type": "text",
        "id": "6uAURNFlNmLx"
      },
      "source": [
        "### Tunning do Prophet\n",
        "\n",
        "- `seasonality_mode`: Este parâmetro indica como seus componentes de sazonalidade devem ser integrados às previsões. O valor padrão é `additive`, com o parâmetro `multiplicative` sendo a outra opção. Você deve usar o  aditivo quando sua tendência de sazonalidade for \"constante\" durante todo o período. Por exemplo, quando você deseja que seu impacto no crescimento da tendência anual seja o mesmo que em 2010 e 2018. Isso é aplicável nos dados em que a mudança de tendência parece permanecer constante, por exemplo, o número de pessoas que vivem em uma cidade pequena. Isso ocorre porque não esperamos que o crescimento aumente repentinamente em milhões, porque não há infraestrutura para isso. Por outro lado, quando queremos prever a quantidade de pessoas que vivem em uma cidade em crescimento, o número anual de tendências pode ser muito mais importante nos últimos anos, pois a infraestrutura existe. A taxa de crescimento populacional pode ser muito mais rápida do que teria sido nos primeiros anos. Em um caso como esse, você usará multiplicativo para aumentar a importância das sazonalidades ao longo do tempo. \n",
        "\n",
        "- `seasonality_prior_scale`. Este parâmetro novamente permitirá que suas sazonalidades sejam mais flexíveis. É possível definir os parâmetros `anual_seasonality`, `Weekly_seasonality` e `daily_seasonality` separadamente ou ainda adiciona sua própria configuração de sazonalidade."
      ]
    },
    {
      "cell_type": "code",
      "execution_count": null,
      "metadata": {
        "colab": {},
        "colab_type": "code",
        "id": "3Atu0X7bhuhc"
      },
      "outputs": [],
      "source": [
        "from fbprophet import Prophet"
      ]
    },
    {
      "cell_type": "code",
      "execution_count": null,
      "metadata": {
        "colab": {},
        "colab_type": "code",
        "id": "uS4vzpr4hubg"
      },
      "outputs": [],
      "source": [
        "import pandas as pd\n",
        "dataframe = pd.DataFrame({'ds': dataset.index, 'y': dataset.values})"
      ]
    },
    {
      "cell_type": "code",
      "execution_count": null,
      "metadata": {
        "colab": {},
        "colab_type": "code",
        "id": "QW3qlfftia1V"
      },
      "outputs": [],
      "source": [
        "dataframe"
      ]
    },
    {
      "cell_type": "markdown",
      "metadata": {
        "colab_type": "text",
        "id": "Lv5vl8YNmHvH"
      },
      "source": [
        "Alterando o modo de sazonalidade"
      ]
    },
    {
      "cell_type": "code",
      "execution_count": null,
      "metadata": {
        "colab": {},
        "colab_type": "code",
        "id": "WBKiNzmphue0"
      },
      "outputs": [],
      "source": [
        "model = Prophet(seasonality_mode='multiplicative')"
      ]
    },
    {
      "cell_type": "code",
      "execution_count": null,
      "metadata": {
        "colab": {},
        "colab_type": "code",
        "id": "hrWgONIAhuX-"
      },
      "outputs": [],
      "source": [
        "model.fit(dataframe)"
      ]
    },
    {
      "cell_type": "code",
      "execution_count": null,
      "metadata": {
        "colab": {},
        "colab_type": "code",
        "id": "9Qs3Cd8Qku4V"
      },
      "outputs": [],
      "source": [
        "validation_df = pd.DataFrame({'ds': validation.index})"
      ]
    },
    {
      "cell_type": "code",
      "execution_count": null,
      "metadata": {
        "colab": {},
        "colab_type": "code",
        "id": "nBPrB8j1huU-"
      },
      "outputs": [],
      "source": [
        "saida = model.predict(validation_df)"
      ]
    },
    {
      "cell_type": "code",
      "execution_count": null,
      "metadata": {
        "colab": {},
        "colab_type": "code",
        "id": "2HqceBQ-huRZ"
      },
      "outputs": [],
      "source": [
        "# Avaliando os resultados\n",
        "from sklearn.metrics import mean_squared_error\n",
        "from math import sqrt\n",
        "rmse = sqrt(mean_squared_error(validation.values, saida.yhat))\n",
        "print('Test RMSE: %.3f' % rmse)"
      ]
    },
    {
      "cell_type": "markdown",
      "metadata": {
        "colab_type": "text",
        "id": "vbHAUOG91wSX"
      },
      "source": [
        "Alterando tipos de sazonalidade"
      ]
    },
    {
      "cell_type": "code",
      "execution_count": null,
      "metadata": {
        "colab": {},
        "colab_type": "code",
        "id": "KyVnnCNM1-dt"
      },
      "outputs": [],
      "source": [
        "# cria um modelo com sazonalidade  multiplicativa e desligando a sazonalidade diária\n",
        "model = Prophet(seasonality_mode='multiplicative', daily_seasonality=False, )"
      ]
    },
    {
      "cell_type": "code",
      "execution_count": null,
      "metadata": {
        "colab": {},
        "colab_type": "code",
        "id": "WbEpI72HN7f-"
      },
      "outputs": [],
      "source": [
        "model.fit(dataframe)"
      ]
    },
    {
      "cell_type": "code",
      "execution_count": null,
      "metadata": {
        "colab": {},
        "colab_type": "code",
        "id": "hATanI-AghfK"
      },
      "outputs": [],
      "source": [
        "# imprime a sazonalidade habilitada\n",
        "model.seasonalities"
      ]
    },
    {
      "cell_type": "code",
      "execution_count": null,
      "metadata": {
        "colab": {},
        "colab_type": "code",
        "id": "EvJAAJ-hOBFD"
      },
      "outputs": [],
      "source": [
        "# cria o dataframe de validação\n",
        "validation_df = pd.DataFrame({'ds': validation.index})"
      ]
    },
    {
      "cell_type": "code",
      "execution_count": null,
      "metadata": {
        "colab": {},
        "colab_type": "code",
        "id": "mtoFIDo0ODRG"
      },
      "outputs": [],
      "source": [
        "# prevendo dados\n",
        "saida = model.predict(validation_df)"
      ]
    },
    {
      "cell_type": "code",
      "execution_count": null,
      "metadata": {
        "colab": {},
        "colab_type": "code",
        "id": "y1f8BHw7OK7T"
      },
      "outputs": [],
      "source": [
        "# Avaliando os resultados\n",
        "from sklearn.metrics import mean_squared_error\n",
        "from math import sqrt\n",
        "rmse = sqrt(mean_squared_error(validation.values, saida.yhat))\n",
        "print('Test RMSE: %.3f' % rmse)"
      ]
    },
    {
      "cell_type": "code",
      "execution_count": null,
      "metadata": {
        "colab": {},
        "colab_type": "code",
        "id": "JzxPdbvY-ZZ5"
      },
      "outputs": [],
      "source": []
    }
  ],
  "metadata": {
    "colab": {
      "collapsed_sections": [
        "VYb28Y2gvsJK",
        "2qz0LqUzvajg",
        "_uPyQMtu626q",
        "fI2XLDpgY4ED",
        "tH7nJ9OLuDsW",
        "hgVIRtad9_U4",
        "7UfK5TM1Au6Y",
        "GlvvJzZvb7K5",
        "j31KrHb0yYoB",
        "MXKMUZQi__Zw",
        "8B4HNql2aPmA",
        "mCPix2MdORDh",
        "Bu1rEmecif4o",
        "TYwxlxI1uVX-"
      ],
      "name": "Séries Temporais - Notebook 01.ipynb",
      "provenance": []
    },
    "kernelspec": {
      "display_name": "Python 3.8.13 ('venv_ds')",
      "language": "python",
      "name": "python3"
    },
    "language_info": {
      "codemirror_mode": {
        "name": "ipython",
        "version": 3
      },
      "file_extension": ".py",
      "mimetype": "text/x-python",
      "name": "python",
      "nbconvert_exporter": "python",
      "pygments_lexer": "ipython3",
      "version": "3.8.13"
    },
    "vscode": {
      "interpreter": {
        "hash": "ee0ec65fb96fc212d22c5f58b6d82e0d1da38bdd469ed608fb575b340daa0486"
      }
    }
  },
  "nbformat": 4,
  "nbformat_minor": 0
}
