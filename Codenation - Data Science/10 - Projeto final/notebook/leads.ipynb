{
  "nbformat": 4,
  "nbformat_minor": 0,
  "metadata": {
    "colab": {
      "name": "leads.ipynb",
      "provenance": [],
      "collapsed_sections": [],
      "machine_shape": "hm"
    },
    "kernelspec": {
      "display_name": "Python 3",
      "language": "python",
      "name": "python3"
    },
    "language_info": {
      "codemirror_mode": {
        "name": "ipython",
        "version": 3
      },
      "file_extension": ".py",
      "mimetype": "text/x-python",
      "name": "python",
      "nbconvert_exporter": "python",
      "pygments_lexer": "ipython3",
      "version": "3.8.2"
    },
    "toc": {
      "base_numbering": 1,
      "nav_menu": {},
      "number_sections": true,
      "sideBar": true,
      "skip_h1_title": false,
      "title_cell": "Table of Contents",
      "title_sidebar": "Contents",
      "toc_cell": false,
      "toc_position": {},
      "toc_section_display": true,
      "toc_window_display": false
    },
    "varInspector": {
      "cols": {
        "lenName": 16,
        "lenType": 16,
        "lenVar": 40
      },
      "kernels_config": {
        "python": {
          "delete_cmd_postfix": "",
          "delete_cmd_prefix": "del ",
          "library": "var_list.py",
          "varRefreshCmd": "print(var_dic_list())"
        },
        "r": {
          "delete_cmd_postfix": ") ",
          "delete_cmd_prefix": "rm(",
          "library": "var_list.r",
          "varRefreshCmd": "cat(var_dic_list()) "
        }
      },
      "oldHeight": 557,
      "position": {
        "height": "579px",
        "left": "512px",
        "right": "20px",
        "top": "37px",
        "width": "711px"
      },
      "types_to_exclude": [
        "module",
        "function",
        "builtin_function_or_method",
        "instance",
        "_Feature"
      ],
      "varInspector_section_display": "block",
      "window_display": false
    }
  },
  "cells": [
    {
      "cell_type": "markdown",
      "metadata": {
        "id": "TFxkgAoR4zeN",
        "colab_type": "text"
      },
      "source": [
        "# Prévia do notebook"
      ]
    },
    {
      "cell_type": "markdown",
      "metadata": {
        "id": "FMAvf0cD4zeP",
        "colab_type": "text"
      },
      "source": [
        "- Obtendo os leads mais aderentes em relação a um portfólio de clientes por meio da similaridade\n",
        "\n"
      ]
    },
    {
      "cell_type": "markdown",
      "metadata": {
        "colab_type": "text",
        "id": "LvJlCsqinJyw"
      },
      "source": [
        "# Considerações do projeto"
      ]
    },
    {
      "cell_type": "markdown",
      "metadata": {
        "colab_type": "text",
        "id": "-4NPeaXknOqr"
      },
      "source": [
        "- Todos os ids estão contidos na tabela de market.\n",
        "- Qual a probabilidade de uma empresa se tornar cliente.\n",
        "- Abordagem a ser tomada é de similaridade entre os clientes\n",
        "- O algoritmo utilizado Nearest Neighbors."
      ]
    },
    {
      "cell_type": "markdown",
      "metadata": {
        "id": "BHd98KKv4zeS",
        "colab_type": "text"
      },
      "source": [
        "# Inicialização"
      ]
    },
    {
      "cell_type": "markdown",
      "metadata": {
        "id": "ZHzYu6ze5TlG",
        "colab_type": "text"
      },
      "source": [
        "Google Colab"
      ]
    },
    {
      "cell_type": "code",
      "metadata": {
        "id": "vA_mnmeR5bTm",
        "colab_type": "code",
        "outputId": "e4c1774f-3dc0-4dda-bd78-10538d4f8fe5",
        "colab": {
          "base_uri": "https://localhost:8080/",
          "height": 34
        }
      },
      "source": [
        "from google.colab import drive\n",
        "drive.mount('/content/drive')"
      ],
      "execution_count": 0,
      "outputs": [
        {
          "output_type": "stream",
          "text": [
            "Drive already mounted at /content/drive; to attempt to forcibly remount, call drive.mount(\"/content/drive\", force_remount=True).\n"
          ],
          "name": "stdout"
        }
      ]
    },
    {
      "cell_type": "code",
      "metadata": {
        "id": "Dyujy41s5Mev",
        "colab_type": "code",
        "colab": {}
      },
      "source": [
        "path = '/content/drive/My Drive/LINGUAGENS/PYTHON/10 - Codenation - Data Science/desafio_final/'"
      ],
      "execution_count": 0,
      "outputs": []
    },
    {
      "cell_type": "markdown",
      "metadata": {
        "id": "10kBsdw75OoA",
        "colab_type": "text"
      },
      "source": [
        "### Jupyter notebook local"
      ]
    },
    {
      "cell_type": "code",
      "metadata": {
        "ExecuteTime": {
          "end_time": "2020-06-13T19:49:10.768666Z",
          "start_time": "2020-06-13T19:49:10.764282Z"
        },
        "id": "siTl1k-D4zeT",
        "colab_type": "code",
        "colab": {}
      },
      "source": [
        "# import os\n",
        "# DIR_NAME = os.path.abspath('.')\n",
        "# path = DIR_NAME + '/'"
      ],
      "execution_count": 0,
      "outputs": []
    },
    {
      "cell_type": "code",
      "metadata": {
        "ExecuteTime": {
          "end_time": "2020-06-13T19:49:10.790912Z",
          "start_time": "2020-06-13T19:49:10.776885Z"
        },
        "id": "Q2rJvIym4zeb",
        "colab_type": "code",
        "colab": {}
      },
      "source": [
        "# path"
      ],
      "execution_count": 0,
      "outputs": []
    },
    {
      "cell_type": "markdown",
      "metadata": {
        "colab_type": "text",
        "id": "5bCzz5srUMDK"
      },
      "source": [
        "## Perguntas referentes aos Leads"
      ]
    },
    {
      "cell_type": "markdown",
      "metadata": {
        "colab_type": "text",
        "id": "aQcFtnU0UO_q"
      },
      "source": [
        "- Este cliente deixou algum contato?\n",
        "- Ele tem algo em comum com os nossos clientes?\n",
        "- Ele tem alguma característica que vai de encontro com nossa visão de empresa?\n",
        "- Ele é cliente de alguma empresa similar a nossa?"
      ]
    },
    {
      "cell_type": "code",
      "metadata": {
        "ExecuteTime": {
          "end_time": "2020-06-13T21:31:16.822133Z",
          "start_time": "2020-06-13T21:31:16.800948Z"
        },
        "colab_type": "code",
        "id": "na6ja9mxJNuV",
        "colab": {}
      },
      "source": [
        "import numpy as np\n",
        "import pandas as pd\n",
        "import matplotlib.pyplot as plt\n",
        "import seaborn as sns\n",
        "from sklearn.preprocessing import (\n",
        "    OneHotEncoder, StandardScaler, LabelEncoder,\n",
        ")\n",
        "from sklearn.neighbors import NearestNeighbors\n",
        "from sklearn.model_selection import train_test_split\n",
        "\n",
        "%matplotlib inline"
      ],
      "execution_count": 0,
      "outputs": []
    },
    {
      "cell_type": "markdown",
      "metadata": {
        "id": "aUrHMxqA4zes",
        "colab_type": "text"
      },
      "source": [
        "Após pré-análise devido alta quantidade de dados faltantes, foram escolhidas as colunas que mais se adequavam ao problema."
      ]
    },
    {
      "cell_type": "code",
      "metadata": {
        "ExecuteTime": {
          "end_time": "2020-06-13T19:49:12.787210Z",
          "start_time": "2020-06-13T19:49:12.779633Z"
        },
        "code_folding": [],
        "colab_type": "code",
        "id": "5qHOiPTNT8KR",
        "colab": {}
      },
      "source": [
        "cols_cat = ['id',\n",
        "            'sg_uf',\n",
        "            'sg_uf_matriz',\n",
        "            'de_ramo',\n",
        "            'setor',\n",
        "            'nm_segmento',\n",
        "            'nm_divisao',\n",
        "            'de_saude_rescencia',\n",
        "            'fl_email',\n",
        "            'fl_telefone',\n",
        "            'de_natureza_juridica',\n",
        "            'de_nivel_atividade',\n",
        "            'de_saude_tributaria',\n",
        "            'de_faixa_faturamento_estimado'\n",
        "           ] \n",
        "\n",
        "cols_num = ['nu_meses_rescencia',\n",
        "            'idade_empresa_anos'\n",
        "           ]"
      ],
      "execution_count": 0,
      "outputs": []
    },
    {
      "cell_type": "code",
      "metadata": {
        "ExecuteTime": {
          "end_time": "2020-06-13T19:49:17.683127Z",
          "start_time": "2020-06-13T19:49:12.790119Z"
        },
        "colab_type": "code",
        "id": "iSxHRbdRJUkS",
        "colab": {}
      },
      "source": [
        "df_market = pd.read_csv(path + 'estaticos_market.csv', usecols= (cols_cat + cols_num))\n",
        "df_port1 = pd.read_csv(path + 'estaticos_portfolio1.csv', usecols=['id'])\n",
        "df_port2 = pd.read_csv(path + 'estaticos_portfolio2.csv', usecols=['id'])\n",
        "df_port3 = pd.read_csv(path + 'estaticos_portfolio3.csv', usecols=['id'])"
      ],
      "execution_count": 0,
      "outputs": []
    },
    {
      "cell_type": "markdown",
      "metadata": {
        "colab_type": "text",
        "id": "Yd0s1kVTSJOe"
      },
      "source": [
        "# Análise e exploração dos dados"
      ]
    },
    {
      "cell_type": "code",
      "metadata": {
        "ExecuteTime": {
          "end_time": "2020-06-13T19:49:17.737011Z",
          "start_time": "2020-06-13T19:49:17.686644Z"
        },
        "id": "TN2nmCld4zfE",
        "colab_type": "code",
        "outputId": "10f0088e-9869-4625-9110-9d5e635ab68c",
        "colab": {
          "base_uri": "https://localhost:8080/",
          "height": 411
        }
      },
      "source": [
        "df_market.head()"
      ],
      "execution_count": 0,
      "outputs": [
        {
          "output_type": "execute_result",
          "data": {
            "text/html": [
              "<div>\n",
              "<style scoped>\n",
              "    .dataframe tbody tr th:only-of-type {\n",
              "        vertical-align: middle;\n",
              "    }\n",
              "\n",
              "    .dataframe tbody tr th {\n",
              "        vertical-align: top;\n",
              "    }\n",
              "\n",
              "    .dataframe thead th {\n",
              "        text-align: right;\n",
              "    }\n",
              "</style>\n",
              "<table border=\"1\" class=\"dataframe\">\n",
              "  <thead>\n",
              "    <tr style=\"text-align: right;\">\n",
              "      <th></th>\n",
              "      <th>id</th>\n",
              "      <th>de_natureza_juridica</th>\n",
              "      <th>sg_uf</th>\n",
              "      <th>de_ramo</th>\n",
              "      <th>setor</th>\n",
              "      <th>idade_empresa_anos</th>\n",
              "      <th>fl_email</th>\n",
              "      <th>fl_telefone</th>\n",
              "      <th>nm_divisao</th>\n",
              "      <th>nm_segmento</th>\n",
              "      <th>sg_uf_matriz</th>\n",
              "      <th>de_saude_tributaria</th>\n",
              "      <th>de_saude_rescencia</th>\n",
              "      <th>nu_meses_rescencia</th>\n",
              "      <th>de_nivel_atividade</th>\n",
              "      <th>de_faixa_faturamento_estimado</th>\n",
              "    </tr>\n",
              "  </thead>\n",
              "  <tbody>\n",
              "    <tr>\n",
              "      <th>0</th>\n",
              "      <td>a6984c3ae395090e3bee8ad63c3758b110de096d5d8195...</td>\n",
              "      <td>SOCIEDADE EMPRESARIA LIMITADA</td>\n",
              "      <td>RN</td>\n",
              "      <td>INDUSTRIA DA CONSTRUCAO</td>\n",
              "      <td>CONSTRUÇÃO CIVIL</td>\n",
              "      <td>14.457534</td>\n",
              "      <td>True</td>\n",
              "      <td>True</td>\n",
              "      <td>CONSTRUCAO DE EDIFICIOS</td>\n",
              "      <td>CONSTRUCAO</td>\n",
              "      <td>RN</td>\n",
              "      <td>VERDE</td>\n",
              "      <td>ACIMA DE 1 ANO</td>\n",
              "      <td>23.0</td>\n",
              "      <td>ALTA</td>\n",
              "      <td>DE R$ 1.500.000,01 A R$ 4.800.000,00</td>\n",
              "    </tr>\n",
              "    <tr>\n",
              "      <th>1</th>\n",
              "      <td>6178f41ade1365e44bc2c46654c2c8c0eaae27dcb476c4...</td>\n",
              "      <td>EMPRESARIO INDIVIDUAL</td>\n",
              "      <td>PI</td>\n",
              "      <td>SERVICOS DE ALOJAMENTO/ALIMENTACAO</td>\n",
              "      <td>SERVIÇO</td>\n",
              "      <td>1.463014</td>\n",
              "      <td>True</td>\n",
              "      <td>True</td>\n",
              "      <td>ALIMENTACAO</td>\n",
              "      <td>ALOJAMENTO E ALIMENTACAO</td>\n",
              "      <td>PI</td>\n",
              "      <td>CINZA</td>\n",
              "      <td>ATE 1 ANO</td>\n",
              "      <td>9.0</td>\n",
              "      <td>BAIXA</td>\n",
              "      <td>DE R$ 81.000,01 A R$ 360.000,00</td>\n",
              "    </tr>\n",
              "    <tr>\n",
              "      <th>2</th>\n",
              "      <td>4a7e5069a397f12fdd7fd57111d6dc5d3ba558958efc02...</td>\n",
              "      <td>EMPRESARIO INDIVIDUAL</td>\n",
              "      <td>AM</td>\n",
              "      <td>TRANSPORTE, ARMAZENAGEM E CORREIO</td>\n",
              "      <td>SERVIÇO</td>\n",
              "      <td>7.093151</td>\n",
              "      <td>False</td>\n",
              "      <td>True</td>\n",
              "      <td>TRANSPORTE TERRESTRE</td>\n",
              "      <td>TRANSPORTE ARMAZENAGEM E CORREIO</td>\n",
              "      <td>AM</td>\n",
              "      <td>AMARELO</td>\n",
              "      <td>ACIMA DE 1 ANO</td>\n",
              "      <td>26.0</td>\n",
              "      <td>MEDIA</td>\n",
              "      <td>ATE R$ 81.000,00</td>\n",
              "    </tr>\n",
              "    <tr>\n",
              "      <th>3</th>\n",
              "      <td>3348900fe63216a439d2e5238c79ddd46ede454df7b9d8...</td>\n",
              "      <td>EMPRESARIO INDIVIDUAL</td>\n",
              "      <td>AM</td>\n",
              "      <td>SERVICOS DIVERSOS</td>\n",
              "      <td>SERVIÇO</td>\n",
              "      <td>6.512329</td>\n",
              "      <td>True</td>\n",
              "      <td>True</td>\n",
              "      <td>REPARACAO E MANUTENCAO DE EQUIPAMENTOS DE INFO...</td>\n",
              "      <td>OUTRAS ATIVIDADES DE SERVICOS</td>\n",
              "      <td>AM</td>\n",
              "      <td>AMARELO</td>\n",
              "      <td>ACIMA DE 1 ANO</td>\n",
              "      <td>26.0</td>\n",
              "      <td>MEDIA</td>\n",
              "      <td>DE R$ 81.000,01 A R$ 360.000,00</td>\n",
              "    </tr>\n",
              "    <tr>\n",
              "      <th>4</th>\n",
              "      <td>1f9bcabc9d3173c1fe769899e4fac14b053037b953a1e4...</td>\n",
              "      <td>EMPRESARIO INDIVIDUAL</td>\n",
              "      <td>RN</td>\n",
              "      <td>SERVICOS PROFISSIONAIS, TECNICOS E CIENTIFICOS</td>\n",
              "      <td>SERVIÇO</td>\n",
              "      <td>3.200000</td>\n",
              "      <td>True</td>\n",
              "      <td>True</td>\n",
              "      <td>SERVICOS DE ARQUITETURA E ENGENHARIA TESTES E ...</td>\n",
              "      <td>ATIVIDADES PROFISSIONAIS CIENTIFICAS E TECNICAS</td>\n",
              "      <td>RN</td>\n",
              "      <td>VERDE</td>\n",
              "      <td>ACIMA DE 1 ANO</td>\n",
              "      <td>27.0</td>\n",
              "      <td>ALTA</td>\n",
              "      <td>DE R$ 81.000,01 A R$ 360.000,00</td>\n",
              "    </tr>\n",
              "  </tbody>\n",
              "</table>\n",
              "</div>"
            ],
            "text/plain": [
              "                                                  id  ...         de_faixa_faturamento_estimado\n",
              "0  a6984c3ae395090e3bee8ad63c3758b110de096d5d8195...  ...  DE R$ 1.500.000,01 A R$ 4.800.000,00\n",
              "1  6178f41ade1365e44bc2c46654c2c8c0eaae27dcb476c4...  ...       DE R$ 81.000,01 A R$ 360.000,00\n",
              "2  4a7e5069a397f12fdd7fd57111d6dc5d3ba558958efc02...  ...                      ATE R$ 81.000,00\n",
              "3  3348900fe63216a439d2e5238c79ddd46ede454df7b9d8...  ...       DE R$ 81.000,01 A R$ 360.000,00\n",
              "4  1f9bcabc9d3173c1fe769899e4fac14b053037b953a1e4...  ...       DE R$ 81.000,01 A R$ 360.000,00\n",
              "\n",
              "[5 rows x 16 columns]"
            ]
          },
          "metadata": {
            "tags": []
          },
          "execution_count": 69
        }
      ]
    },
    {
      "cell_type": "code",
      "metadata": {
        "ExecuteTime": {
          "end_time": "2020-06-13T19:49:17.751642Z",
          "start_time": "2020-06-13T19:49:17.741992Z"
        },
        "colab_type": "code",
        "id": "Q_Xkw6KqXXn1",
        "outputId": "481470cc-2adc-498e-bc1d-1955f02a01bc",
        "colab": {
          "base_uri": "https://localhost:8080/",
          "height": 85
        }
      },
      "source": [
        "print('shape mercado: ', df_market.shape)\n",
        "print('shape mercado: ', df_port1.shape)\n",
        "print('shape mercado: ', df_port2.shape)\n",
        "print('shape mercado: ', df_port3.shape)"
      ],
      "execution_count": 0,
      "outputs": [
        {
          "output_type": "stream",
          "text": [
            "shape mercado:  (462298, 16)\n",
            "shape mercado:  (555, 1)\n",
            "shape mercado:  (566, 1)\n",
            "shape mercado:  (265, 1)\n"
          ],
          "name": "stdout"
        }
      ]
    },
    {
      "cell_type": "code",
      "metadata": {
        "ExecuteTime": {
          "end_time": "2020-06-13T19:49:18.343816Z",
          "start_time": "2020-06-13T19:49:17.758126Z"
        },
        "id": "Tp55oobY4zfW",
        "colab_type": "code",
        "outputId": "ee3c7e0d-8220-4f6d-fa0a-0e2782e6682c",
        "colab": {
          "base_uri": "https://localhost:8080/",
          "height": 408
        }
      },
      "source": [
        "df_market.info()"
      ],
      "execution_count": 0,
      "outputs": [
        {
          "output_type": "stream",
          "text": [
            "<class 'pandas.core.frame.DataFrame'>\n",
            "RangeIndex: 462298 entries, 0 to 462297\n",
            "Data columns (total 16 columns):\n",
            " #   Column                         Non-Null Count   Dtype  \n",
            "---  ------                         --------------   -----  \n",
            " 0   id                             462298 non-null  object \n",
            " 1   de_natureza_juridica           462298 non-null  object \n",
            " 2   sg_uf                          462298 non-null  object \n",
            " 3   de_ramo                        462298 non-null  object \n",
            " 4   setor                          460371 non-null  object \n",
            " 5   idade_empresa_anos             462298 non-null  float64\n",
            " 6   fl_email                       462298 non-null  bool   \n",
            " 7   fl_telefone                    462298 non-null  bool   \n",
            " 8   nm_divisao                     460371 non-null  object \n",
            " 9   nm_segmento                    460371 non-null  object \n",
            " 10  sg_uf_matriz                   460359 non-null  object \n",
            " 11  de_saude_tributaria            447447 non-null  object \n",
            " 12  de_saude_rescencia             447447 non-null  object \n",
            " 13  nu_meses_rescencia             417022 non-null  float64\n",
            " 14  de_nivel_atividade             451130 non-null  object \n",
            " 15  de_faixa_faturamento_estimado  434785 non-null  object \n",
            "dtypes: bool(2), float64(2), object(12)\n",
            "memory usage: 50.3+ MB\n"
          ],
          "name": "stdout"
        }
      ]
    },
    {
      "cell_type": "code",
      "metadata": {
        "ExecuteTime": {
          "end_time": "2020-06-13T19:49:18.510750Z",
          "start_time": "2020-06-13T19:49:18.347702Z"
        },
        "id": "VuqaT7Np4zfe",
        "colab_type": "code",
        "outputId": "b301b654-1ae4-416f-b014-5dd37608fb6b",
        "colab": {
          "base_uri": "https://localhost:8080/",
          "height": 297
        }
      },
      "source": [
        "df_market.describe()"
      ],
      "execution_count": 0,
      "outputs": [
        {
          "output_type": "execute_result",
          "data": {
            "text/html": [
              "<div>\n",
              "<style scoped>\n",
              "    .dataframe tbody tr th:only-of-type {\n",
              "        vertical-align: middle;\n",
              "    }\n",
              "\n",
              "    .dataframe tbody tr th {\n",
              "        vertical-align: top;\n",
              "    }\n",
              "\n",
              "    .dataframe thead th {\n",
              "        text-align: right;\n",
              "    }\n",
              "</style>\n",
              "<table border=\"1\" class=\"dataframe\">\n",
              "  <thead>\n",
              "    <tr style=\"text-align: right;\">\n",
              "      <th></th>\n",
              "      <th>idade_empresa_anos</th>\n",
              "      <th>nu_meses_rescencia</th>\n",
              "    </tr>\n",
              "  </thead>\n",
              "  <tbody>\n",
              "    <tr>\n",
              "      <th>count</th>\n",
              "      <td>462298.000000</td>\n",
              "      <td>417022.000000</td>\n",
              "    </tr>\n",
              "    <tr>\n",
              "      <th>mean</th>\n",
              "      <td>9.948677</td>\n",
              "      <td>25.007247</td>\n",
              "    </tr>\n",
              "    <tr>\n",
              "      <th>std</th>\n",
              "      <td>9.615664</td>\n",
              "      <td>9.679799</td>\n",
              "    </tr>\n",
              "    <tr>\n",
              "      <th>min</th>\n",
              "      <td>0.016438</td>\n",
              "      <td>0.000000</td>\n",
              "    </tr>\n",
              "    <tr>\n",
              "      <th>25%</th>\n",
              "      <td>2.756164</td>\n",
              "      <td>22.000000</td>\n",
              "    </tr>\n",
              "    <tr>\n",
              "      <th>50%</th>\n",
              "      <td>6.704110</td>\n",
              "      <td>23.000000</td>\n",
              "    </tr>\n",
              "    <tr>\n",
              "      <th>75%</th>\n",
              "      <td>14.465753</td>\n",
              "      <td>25.000000</td>\n",
              "    </tr>\n",
              "    <tr>\n",
              "      <th>max</th>\n",
              "      <td>106.432877</td>\n",
              "      <td>66.000000</td>\n",
              "    </tr>\n",
              "  </tbody>\n",
              "</table>\n",
              "</div>"
            ],
            "text/plain": [
              "       idade_empresa_anos  nu_meses_rescencia\n",
              "count       462298.000000       417022.000000\n",
              "mean             9.948677           25.007247\n",
              "std              9.615664            9.679799\n",
              "min              0.016438            0.000000\n",
              "25%              2.756164           22.000000\n",
              "50%              6.704110           23.000000\n",
              "75%             14.465753           25.000000\n",
              "max            106.432877           66.000000"
            ]
          },
          "metadata": {
            "tags": []
          },
          "execution_count": 72
        }
      ]
    },
    {
      "cell_type": "markdown",
      "metadata": {
        "id": "Kxsrq_qx4zfl",
        "colab_type": "text"
      },
      "source": [
        "# Pré-processamento"
      ]
    },
    {
      "cell_type": "markdown",
      "metadata": {
        "id": "Y8eTmkYc4zfm",
        "colab_type": "text"
      },
      "source": [
        "## Missing values"
      ]
    },
    {
      "cell_type": "code",
      "metadata": {
        "ExecuteTime": {
          "end_time": "2020-06-13T19:49:19.164431Z",
          "start_time": "2020-06-13T19:49:18.515845Z"
        },
        "colab_type": "code",
        "id": "FbZtjTCXtdSD",
        "outputId": "1398f572-ec75-467d-cbab-6df8761fb32e",
        "colab": {
          "base_uri": "https://localhost:8080/",
          "height": 306
        }
      },
      "source": [
        "df_market.isna().sum()"
      ],
      "execution_count": 0,
      "outputs": [
        {
          "output_type": "execute_result",
          "data": {
            "text/plain": [
              "id                                   0\n",
              "de_natureza_juridica                 0\n",
              "sg_uf                                0\n",
              "de_ramo                              0\n",
              "setor                             1927\n",
              "idade_empresa_anos                   0\n",
              "fl_email                             0\n",
              "fl_telefone                          0\n",
              "nm_divisao                        1927\n",
              "nm_segmento                       1927\n",
              "sg_uf_matriz                      1939\n",
              "de_saude_tributaria              14851\n",
              "de_saude_rescencia               14851\n",
              "nu_meses_rescencia               45276\n",
              "de_nivel_atividade               11168\n",
              "de_faixa_faturamento_estimado    27513\n",
              "dtype: int64"
            ]
          },
          "metadata": {
            "tags": []
          },
          "execution_count": 73
        }
      ]
    },
    {
      "cell_type": "code",
      "metadata": {
        "ExecuteTime": {
          "end_time": "2020-06-13T19:49:19.750368Z",
          "start_time": "2020-06-13T19:49:19.167072Z"
        },
        "id": "6_DrORAU4zft",
        "colab_type": "code",
        "outputId": "43f6e198-9c4d-4737-d587-18e151b199d4",
        "colab": {
          "base_uri": "https://localhost:8080/",
          "height": 306
        }
      },
      "source": [
        "df_market.isna().mean() * 100"
      ],
      "execution_count": 0,
      "outputs": [
        {
          "output_type": "execute_result",
          "data": {
            "text/plain": [
              "id                               0.000000\n",
              "de_natureza_juridica             0.000000\n",
              "sg_uf                            0.000000\n",
              "de_ramo                          0.000000\n",
              "setor                            0.416831\n",
              "idade_empresa_anos               0.000000\n",
              "fl_email                         0.000000\n",
              "fl_telefone                      0.000000\n",
              "nm_divisao                       0.416831\n",
              "nm_segmento                      0.416831\n",
              "sg_uf_matriz                     0.419426\n",
              "de_saude_tributaria              3.212430\n",
              "de_saude_rescencia               3.212430\n",
              "nu_meses_rescencia               9.793683\n",
              "de_nivel_atividade               2.415758\n",
              "de_faixa_faturamento_estimado    5.951356\n",
              "dtype: float64"
            ]
          },
          "metadata": {
            "tags": []
          },
          "execution_count": 74
        }
      ]
    },
    {
      "cell_type": "markdown",
      "metadata": {
        "id": "oVxTCuOf4zfy",
        "colab_type": "text"
      },
      "source": [
        "### Tratamento de missing values"
      ]
    },
    {
      "cell_type": "code",
      "metadata": {
        "ExecuteTime": {
          "end_time": "2020-06-13T19:49:20.070752Z",
          "start_time": "2020-06-13T19:49:19.753295Z"
        },
        "id": "sE0GUQ8m4zf0",
        "colab_type": "code",
        "colab": {}
      },
      "source": [
        "df_market.dropna(subset=['setor', 'nm_divisao', 'nm_segmento', 'sg_uf_matriz'], inplace= True)"
      ],
      "execution_count": 0,
      "outputs": []
    },
    {
      "cell_type": "markdown",
      "metadata": {
        "hide_input": true,
        "id": "IwmO3e1v4zf-",
        "colab_type": "text"
      },
      "source": [
        "**Momento em que deu certo atribuir um preenchimento um pouco mais robusto**"
      ]
    },
    {
      "cell_type": "code",
      "metadata": {
        "ExecuteTime": {
          "end_time": "2020-06-13T19:49:20.083396Z",
          "start_time": "2020-06-13T19:49:20.072837Z"
        },
        "hide_input": true,
        "id": "y63FzSFB4zf_",
        "colab_type": "code",
        "outputId": "bc61e90a-b641-4575-a2e4-52c2fa70c970",
        "colab": {
          "base_uri": "https://localhost:8080/",
          "height": 283
        }
      },
      "source": [
        "from IPython.display import Image\n",
        "from IPython.core.display import HTML \n",
        "Image(url= \"https://media.giphy.com/media/cgRTVEIKVX8AM/giphy.gif\")"
      ],
      "execution_count": 0,
      "outputs": [
        {
          "output_type": "execute_result",
          "data": {
            "text/html": [
              "<img src=\"https://media.giphy.com/media/cgRTVEIKVX8AM/giphy.gif\"/>"
            ],
            "text/plain": [
              "<IPython.core.display.Image object>"
            ]
          },
          "metadata": {
            "tags": []
          },
          "execution_count": 76
        }
      ]
    },
    {
      "cell_type": "markdown",
      "metadata": {
        "id": "LQLfj0F_4zgF",
        "colab_type": "text"
      },
      "source": [
        "**Missing values de_nivel_atividade**"
      ]
    },
    {
      "cell_type": "code",
      "metadata": {
        "ExecuteTime": {
          "end_time": "2020-06-13T19:49:23.953986Z",
          "start_time": "2020-06-13T19:49:20.087258Z"
        },
        "hide_input": false,
        "id": "74uYg2iZ4zgG",
        "colab_type": "code",
        "colab": {}
      },
      "source": [
        "segmentos = df_market.loc[df_market['de_nivel_atividade'].isnull()]['nm_divisao'].unique()\n",
        "dic_atividade = {}\n",
        "for segmento in segmentos:\n",
        "    temp = df_market.loc[df_market['nm_divisao'] == segmento, 'de_nivel_atividade'].mode()[0]\n",
        "    dic_atividade.update({segmento: temp})"
      ],
      "execution_count": 0,
      "outputs": []
    },
    {
      "cell_type": "code",
      "metadata": {
        "ExecuteTime": {
          "end_time": "2020-06-13T19:49:31.146068Z",
          "start_time": "2020-06-13T19:49:23.956188Z"
        },
        "id": "cIvsdXio4zgL",
        "colab_type": "code",
        "colab": {}
      },
      "source": [
        "for segmento in segmentos:\n",
        "    temp = dic_atividade[segmento]\n",
        "    df_market.loc[(df_market['de_nivel_atividade'].isnull()) & (df_market['nm_divisao'] == segmento), 'de_nivel_atividade'] = temp"
      ],
      "execution_count": 0,
      "outputs": []
    },
    {
      "cell_type": "markdown",
      "metadata": {
        "id": "Z8_SmUrl4zgQ",
        "colab_type": "text"
      },
      "source": [
        "**Missing values de_saude_tributaria**"
      ]
    },
    {
      "cell_type": "code",
      "metadata": {
        "ExecuteTime": {
          "end_time": "2020-06-13T19:49:35.052826Z",
          "start_time": "2020-06-13T19:49:31.148017Z"
        },
        "id": "VUMaSDIR4zgR",
        "colab_type": "code",
        "colab": {}
      },
      "source": [
        "segmentos = df_market.loc[df_market['de_saude_tributaria'].isnull()]['nm_divisao'].unique()\n",
        "dic_trib = {}\n",
        "for segmento in segmentos:\n",
        "    temp = df_market.loc[df_market['nm_divisao'] == segmento, 'de_saude_tributaria'].mode()[0]\n",
        "    dic_trib.update({segmento: temp})"
      ],
      "execution_count": 0,
      "outputs": []
    },
    {
      "cell_type": "code",
      "metadata": {
        "ExecuteTime": {
          "end_time": "2020-06-13T19:49:42.385322Z",
          "start_time": "2020-06-13T19:49:35.055559Z"
        },
        "id": "Z6HPO_tT4zgW",
        "colab_type": "code",
        "colab": {}
      },
      "source": [
        "for segmento in segmentos:\n",
        "    temp = dic_trib[segmento]\n",
        "    df_market.loc[(df_market['de_saude_tributaria'].isnull()) & (df_market['nm_divisao'] == segmento), 'de_saude_tributaria'] = temp"
      ],
      "execution_count": 0,
      "outputs": []
    },
    {
      "cell_type": "markdown",
      "metadata": {
        "id": "DE9cx33h4zga",
        "colab_type": "text"
      },
      "source": [
        "**Missing values de_faixa_faturamento_estimado**"
      ]
    },
    {
      "cell_type": "code",
      "metadata": {
        "ExecuteTime": {
          "end_time": "2020-06-13T19:49:46.402900Z",
          "start_time": "2020-06-13T19:49:42.387470Z"
        },
        "id": "T6ptxz0B4zgb",
        "colab_type": "code",
        "colab": {}
      },
      "source": [
        "segmentos = df_market.loc[df_market['de_faixa_faturamento_estimado'].isnull()]['nm_divisao'].unique()\n",
        "dic_fat = {}\n",
        "for segmento in segmentos:\n",
        "    temp = df_market.loc[df_market['nm_divisao'] == segmento, 'de_faixa_faturamento_estimado'].mode()[0]\n",
        "    dic_fat.update({segmento: temp})"
      ],
      "execution_count": 0,
      "outputs": []
    },
    {
      "cell_type": "code",
      "metadata": {
        "ExecuteTime": {
          "end_time": "2020-06-13T19:49:54.685551Z",
          "start_time": "2020-06-13T19:49:46.405669Z"
        },
        "id": "E7R4mHnZ4zgg",
        "colab_type": "code",
        "colab": {}
      },
      "source": [
        "for segmento in segmentos:\n",
        "    temp = dic_fat[segmento]\n",
        "    df_market.loc[(df_market['de_faixa_faturamento_estimado'].isnull()) & (df_market['nm_divisao'] == segmento), 'de_faixa_faturamento_estimado'] = temp"
      ],
      "execution_count": 0,
      "outputs": []
    },
    {
      "cell_type": "markdown",
      "metadata": {
        "id": "G8NBqwd54zgk",
        "colab_type": "text"
      },
      "source": [
        "**Missing values de_saude_rescencia**"
      ]
    },
    {
      "cell_type": "code",
      "metadata": {
        "ExecuteTime": {
          "end_time": "2020-06-13T19:49:58.714644Z",
          "start_time": "2020-06-13T19:49:54.688045Z"
        },
        "id": "3Z_aGtYX4zgl",
        "colab_type": "code",
        "colab": {}
      },
      "source": [
        "segmentos = df_market.loc[df_market['de_saude_rescencia'].isnull()]['nm_divisao'].unique()\n",
        "dic_resc = {}\n",
        "for segmento in segmentos:\n",
        "    temp = df_market.loc[df_market['nm_divisao'] == segmento, 'de_saude_rescencia'].mode()[0]\n",
        "    dic_resc.update({segmento: temp})"
      ],
      "execution_count": 0,
      "outputs": []
    },
    {
      "cell_type": "code",
      "metadata": {
        "ExecuteTime": {
          "end_time": "2020-06-13T19:50:06.789213Z",
          "start_time": "2020-06-13T19:49:58.716829Z"
        },
        "id": "HTof68QN4zgp",
        "colab_type": "code",
        "colab": {}
      },
      "source": [
        "for segmento in segmentos:\n",
        "    temp = dic_resc[segmento]\n",
        "    df_market.loc[(df_market['de_saude_rescencia'].isnull()) & (df_market['nm_divisao'] == segmento), 'de_saude_rescencia'] = temp"
      ],
      "execution_count": 0,
      "outputs": []
    },
    {
      "cell_type": "markdown",
      "metadata": {
        "id": "mL3OMpSu4zgu",
        "colab_type": "text"
      },
      "source": [
        "**Missing values nu_meses_rescencia**"
      ]
    },
    {
      "cell_type": "code",
      "metadata": {
        "ExecuteTime": {
          "end_time": "2020-06-13T19:50:06.804186Z",
          "start_time": "2020-06-13T19:50:06.791453Z"
        },
        "id": "0kZ9KF-J4zgv",
        "colab_type": "code",
        "colab": {}
      },
      "source": [
        "df_market['nu_meses_rescencia'].fillna(int(df_market['nu_meses_rescencia'].mean()), inplace= True)"
      ],
      "execution_count": 0,
      "outputs": []
    },
    {
      "cell_type": "markdown",
      "metadata": {
        "id": "mE7CR8gE4zg0",
        "colab_type": "text"
      },
      "source": [
        "Após os dados tratados"
      ]
    },
    {
      "cell_type": "code",
      "metadata": {
        "ExecuteTime": {
          "end_time": "2020-06-13T19:50:07.354690Z",
          "start_time": "2020-06-13T19:50:06.815907Z"
        },
        "id": "KLF2ipkj4zg1",
        "colab_type": "code",
        "outputId": "1936d60f-3577-4f64-9fbc-e40c61373a25",
        "colab": {
          "base_uri": "https://localhost:8080/",
          "height": 306
        }
      },
      "source": [
        "df_market.isnull().sum()"
      ],
      "execution_count": 0,
      "outputs": [
        {
          "output_type": "execute_result",
          "data": {
            "text/plain": [
              "id                               0\n",
              "de_natureza_juridica             0\n",
              "sg_uf                            0\n",
              "de_ramo                          0\n",
              "setor                            0\n",
              "idade_empresa_anos               0\n",
              "fl_email                         0\n",
              "fl_telefone                      0\n",
              "nm_divisao                       0\n",
              "nm_segmento                      0\n",
              "sg_uf_matriz                     0\n",
              "de_saude_tributaria              0\n",
              "de_saude_rescencia               0\n",
              "nu_meses_rescencia               0\n",
              "de_nivel_atividade               0\n",
              "de_faixa_faturamento_estimado    0\n",
              "dtype: int64"
            ]
          },
          "metadata": {
            "tags": []
          },
          "execution_count": 86
        }
      ]
    },
    {
      "cell_type": "markdown",
      "metadata": {
        "id": "GWJihuHM4zg8",
        "colab_type": "text"
      },
      "source": [
        "## Encoder"
      ]
    },
    {
      "cell_type": "markdown",
      "metadata": {
        "id": "Uj5JekYb4zg9",
        "colab_type": "text"
      },
      "source": [
        "Após análise foram decididos por usar essas features para clustering dos dados"
      ]
    },
    {
      "cell_type": "code",
      "metadata": {
        "ExecuteTime": {
          "end_time": "2020-06-13T19:50:07.368920Z",
          "start_time": "2020-06-13T19:50:07.361380Z"
        },
        "id": "DLp8jPsB4zg-",
        "colab_type": "code",
        "colab": {}
      },
      "source": [
        "cols_nominal = ['id',\n",
        "                'sg_uf',\n",
        "                'de_ramo',\n",
        "                'de_natureza_juridica',\n",
        "               ] \n",
        "\n",
        "cols_ordinal = ['de_nivel_atividade',\n",
        "                'de_saude_tributaria', \n",
        "                'de_faixa_faturamento_estimado']\n",
        "                \n",
        "cols_nominal_bin = ['fl_email',\n",
        "                    'fl_telefone']\n",
        "                \n",
        "cols_numeric = ['idade_empresa_anos']"
      ],
      "execution_count": 0,
      "outputs": []
    },
    {
      "cell_type": "markdown",
      "metadata": {
        "id": "CpCbgnF34zhC",
        "colab_type": "text"
      },
      "source": [
        "- **id**: Código de identificação da empresa\n",
        "- **sg_uf**: Sigla do estado em que a empresa pertence\n",
        "- **de_ramo**: Descrição de uma categoria / ramificação de atividade de macro com base no código CNAE\n",
        "- **de_natureza_juridica**: Natureza jurídica da empresa\n",
        "- **de_nivel_atividade**: probabilidade de estar em operação \n",
        "- **de_saude_tributaria**: status do imposto sobre saúde, Verde se todos os impostos estiverem OK, Vermelho se nenhum estiver OK\n",
        "- **de_faixa_faturamento_estimado**: Classe da receita estimada da empresa\n",
        "- **fl_email**: True se o cnpj tiver um email registrado no banco de dados do IRF\n",
        "- **fl_telefone**: True se o cnpj tiver um telefone registrado no banco de dados do IRF\n",
        "- **idade_empresa_anos**: Idade da empresa em anos"
      ]
    },
    {
      "cell_type": "markdown",
      "metadata": {
        "id": "MeJ5SMvi4zhD",
        "colab_type": "text"
      },
      "source": [
        "**Label Encoder**"
      ]
    },
    {
      "cell_type": "code",
      "metadata": {
        "ExecuteTime": {
          "end_time": "2020-06-13T19:50:07.839987Z",
          "start_time": "2020-06-13T19:50:07.372058Z"
        },
        "id": "F2IeUeac4zhD",
        "colab_type": "code",
        "colab": {}
      },
      "source": [
        "label = LabelEncoder()\n",
        "df_train = pd.DataFrame(data=df_market['id'])\n",
        "df_train[cols_numeric] = df_market[cols_numeric].copy()\n",
        "\n",
        "cols = cols_ordinal + cols_nominal_bin\n",
        "for col in cols:\n",
        "    df_train[col] = label.fit_transform(df_market[col])"
      ],
      "execution_count": 0,
      "outputs": []
    },
    {
      "cell_type": "code",
      "metadata": {
        "ExecuteTime": {
          "end_time": "2020-06-13T19:50:07.860949Z",
          "start_time": "2020-06-13T19:50:07.842638Z"
        },
        "id": "gflaDzFi4zhH",
        "colab_type": "code",
        "outputId": "80ac3dc0-d542-4cf6-ccf0-f4ad031b598c",
        "colab": {
          "base_uri": "https://localhost:8080/",
          "height": 224
        }
      },
      "source": [
        "df_train.head()"
      ],
      "execution_count": 0,
      "outputs": [
        {
          "output_type": "execute_result",
          "data": {
            "text/html": [
              "<div>\n",
              "<style scoped>\n",
              "    .dataframe tbody tr th:only-of-type {\n",
              "        vertical-align: middle;\n",
              "    }\n",
              "\n",
              "    .dataframe tbody tr th {\n",
              "        vertical-align: top;\n",
              "    }\n",
              "\n",
              "    .dataframe thead th {\n",
              "        text-align: right;\n",
              "    }\n",
              "</style>\n",
              "<table border=\"1\" class=\"dataframe\">\n",
              "  <thead>\n",
              "    <tr style=\"text-align: right;\">\n",
              "      <th></th>\n",
              "      <th>id</th>\n",
              "      <th>idade_empresa_anos</th>\n",
              "      <th>de_nivel_atividade</th>\n",
              "      <th>de_saude_tributaria</th>\n",
              "      <th>de_faixa_faturamento_estimado</th>\n",
              "      <th>fl_email</th>\n",
              "      <th>fl_telefone</th>\n",
              "    </tr>\n",
              "  </thead>\n",
              "  <tbody>\n",
              "    <tr>\n",
              "      <th>0</th>\n",
              "      <td>a6984c3ae395090e3bee8ad63c3758b110de096d5d8195...</td>\n",
              "      <td>14.457534</td>\n",
              "      <td>0</td>\n",
              "      <td>4</td>\n",
              "      <td>2</td>\n",
              "      <td>1</td>\n",
              "      <td>1</td>\n",
              "    </tr>\n",
              "    <tr>\n",
              "      <th>1</th>\n",
              "      <td>6178f41ade1365e44bc2c46654c2c8c0eaae27dcb476c4...</td>\n",
              "      <td>1.463014</td>\n",
              "      <td>1</td>\n",
              "      <td>2</td>\n",
              "      <td>10</td>\n",
              "      <td>1</td>\n",
              "      <td>1</td>\n",
              "    </tr>\n",
              "    <tr>\n",
              "      <th>2</th>\n",
              "      <td>4a7e5069a397f12fdd7fd57111d6dc5d3ba558958efc02...</td>\n",
              "      <td>7.093151</td>\n",
              "      <td>2</td>\n",
              "      <td>0</td>\n",
              "      <td>1</td>\n",
              "      <td>0</td>\n",
              "      <td>1</td>\n",
              "    </tr>\n",
              "    <tr>\n",
              "      <th>3</th>\n",
              "      <td>3348900fe63216a439d2e5238c79ddd46ede454df7b9d8...</td>\n",
              "      <td>6.512329</td>\n",
              "      <td>2</td>\n",
              "      <td>0</td>\n",
              "      <td>10</td>\n",
              "      <td>1</td>\n",
              "      <td>1</td>\n",
              "    </tr>\n",
              "    <tr>\n",
              "      <th>4</th>\n",
              "      <td>1f9bcabc9d3173c1fe769899e4fac14b053037b953a1e4...</td>\n",
              "      <td>3.200000</td>\n",
              "      <td>0</td>\n",
              "      <td>4</td>\n",
              "      <td>10</td>\n",
              "      <td>1</td>\n",
              "      <td>1</td>\n",
              "    </tr>\n",
              "  </tbody>\n",
              "</table>\n",
              "</div>"
            ],
            "text/plain": [
              "                                                  id  ...  fl_telefone\n",
              "0  a6984c3ae395090e3bee8ad63c3758b110de096d5d8195...  ...            1\n",
              "1  6178f41ade1365e44bc2c46654c2c8c0eaae27dcb476c4...  ...            1\n",
              "2  4a7e5069a397f12fdd7fd57111d6dc5d3ba558958efc02...  ...            1\n",
              "3  3348900fe63216a439d2e5238c79ddd46ede454df7b9d8...  ...            1\n",
              "4  1f9bcabc9d3173c1fe769899e4fac14b053037b953a1e4...  ...            1\n",
              "\n",
              "[5 rows x 7 columns]"
            ]
          },
          "metadata": {
            "tags": []
          },
          "execution_count": 89
        }
      ]
    },
    {
      "cell_type": "markdown",
      "metadata": {
        "id": "5sxt3VYk4zhM",
        "colab_type": "text"
      },
      "source": [
        "**Normalização dos dados**"
      ]
    },
    {
      "cell_type": "code",
      "metadata": {
        "ExecuteTime": {
          "end_time": "2020-06-13T19:50:07.867168Z",
          "start_time": "2020-06-13T19:50:07.863286Z"
        },
        "id": "xq5et1A44zhN",
        "colab_type": "code",
        "colab": {}
      },
      "source": [
        "scaler = StandardScaler()"
      ],
      "execution_count": 0,
      "outputs": []
    },
    {
      "cell_type": "code",
      "metadata": {
        "ExecuteTime": {
          "end_time": "2020-06-13T19:50:07.874380Z",
          "start_time": "2020-06-13T19:50:07.870479Z"
        },
        "id": "PcodXH4X4zhR",
        "colab_type": "code",
        "colab": {}
      },
      "source": [
        "features_scaler = cols_ordinal + cols_numeric"
      ],
      "execution_count": 0,
      "outputs": []
    },
    {
      "cell_type": "code",
      "metadata": {
        "ExecuteTime": {
          "end_time": "2020-06-13T19:50:07.966129Z",
          "start_time": "2020-06-13T19:50:07.877005Z"
        },
        "id": "dJI4MTUb4zhW",
        "colab_type": "code",
        "outputId": "8a67b6de-a489-4871-d57f-5dba735e6206",
        "colab": {
          "base_uri": "https://localhost:8080/",
          "height": 34
        }
      },
      "source": [
        "scaler.fit(df_train[features_scaler])"
      ],
      "execution_count": 0,
      "outputs": [
        {
          "output_type": "execute_result",
          "data": {
            "text/plain": [
              "StandardScaler(copy=True, with_mean=True, with_std=True)"
            ]
          },
          "metadata": {
            "tags": []
          },
          "execution_count": 92
        }
      ]
    },
    {
      "cell_type": "code",
      "metadata": {
        "ExecuteTime": {
          "end_time": "2020-06-13T19:50:07.972147Z",
          "start_time": "2020-06-13T19:50:07.968489Z"
        },
        "id": "5D8N8cen4zha",
        "colab_type": "code",
        "colab": {}
      },
      "source": [
        "df_train.reset_index(drop= True, inplace= True)"
      ],
      "execution_count": 0,
      "outputs": []
    },
    {
      "cell_type": "code",
      "metadata": {
        "ExecuteTime": {
          "end_time": "2020-06-13T19:50:08.013893Z",
          "start_time": "2020-06-13T19:50:07.974693Z"
        },
        "id": "Zh7GgiCR4zhe",
        "colab_type": "code",
        "colab": {}
      },
      "source": [
        "df_train[features_scaler] = pd.DataFrame(data= scaler.transform(df_train[features_scaler]), columns= features_scaler)"
      ],
      "execution_count": 0,
      "outputs": []
    },
    {
      "cell_type": "code",
      "metadata": {
        "ExecuteTime": {
          "end_time": "2020-06-13T19:50:08.037030Z",
          "start_time": "2020-06-13T19:50:08.016492Z"
        },
        "id": "yV4HnG4n4zhm",
        "colab_type": "code",
        "outputId": "7d6d7b0b-925d-47c9-be61-20110028d24e",
        "colab": {
          "base_uri": "https://localhost:8080/",
          "height": 224
        }
      },
      "source": [
        "df_train.head()"
      ],
      "execution_count": 0,
      "outputs": [
        {
          "output_type": "execute_result",
          "data": {
            "text/html": [
              "<div>\n",
              "<style scoped>\n",
              "    .dataframe tbody tr th:only-of-type {\n",
              "        vertical-align: middle;\n",
              "    }\n",
              "\n",
              "    .dataframe tbody tr th {\n",
              "        vertical-align: top;\n",
              "    }\n",
              "\n",
              "    .dataframe thead th {\n",
              "        text-align: right;\n",
              "    }\n",
              "</style>\n",
              "<table border=\"1\" class=\"dataframe\">\n",
              "  <thead>\n",
              "    <tr style=\"text-align: right;\">\n",
              "      <th></th>\n",
              "      <th>id</th>\n",
              "      <th>idade_empresa_anos</th>\n",
              "      <th>de_nivel_atividade</th>\n",
              "      <th>de_saude_tributaria</th>\n",
              "      <th>de_faixa_faturamento_estimado</th>\n",
              "      <th>fl_email</th>\n",
              "      <th>fl_telefone</th>\n",
              "    </tr>\n",
              "  </thead>\n",
              "  <tbody>\n",
              "    <tr>\n",
              "      <th>0</th>\n",
              "      <td>a6984c3ae395090e3bee8ad63c3758b110de096d5d8195...</td>\n",
              "      <td>0.485099</td>\n",
              "      <td>-1.291172</td>\n",
              "      <td>1.151656</td>\n",
              "      <td>-1.467388</td>\n",
              "      <td>1</td>\n",
              "      <td>1</td>\n",
              "    </tr>\n",
              "    <tr>\n",
              "      <th>1</th>\n",
              "      <td>6178f41ade1365e44bc2c46654c2c8c0eaae27dcb476c4...</td>\n",
              "      <td>-0.882338</td>\n",
              "      <td>-0.196314</td>\n",
              "      <td>-0.100016</td>\n",
              "      <td>0.663398</td>\n",
              "      <td>1</td>\n",
              "      <td>1</td>\n",
              "    </tr>\n",
              "    <tr>\n",
              "      <th>2</th>\n",
              "      <td>4a7e5069a397f12fdd7fd57111d6dc5d3ba558958efc02...</td>\n",
              "      <td>-0.289868</td>\n",
              "      <td>0.898544</td>\n",
              "      <td>-1.351689</td>\n",
              "      <td>-1.733737</td>\n",
              "      <td>0</td>\n",
              "      <td>1</td>\n",
              "    </tr>\n",
              "    <tr>\n",
              "      <th>3</th>\n",
              "      <td>3348900fe63216a439d2e5238c79ddd46ede454df7b9d8...</td>\n",
              "      <td>-0.350989</td>\n",
              "      <td>0.898544</td>\n",
              "      <td>-1.351689</td>\n",
              "      <td>0.663398</td>\n",
              "      <td>1</td>\n",
              "      <td>1</td>\n",
              "    </tr>\n",
              "    <tr>\n",
              "      <th>4</th>\n",
              "      <td>1f9bcabc9d3173c1fe769899e4fac14b053037b953a1e4...</td>\n",
              "      <td>-0.699552</td>\n",
              "      <td>-1.291172</td>\n",
              "      <td>1.151656</td>\n",
              "      <td>0.663398</td>\n",
              "      <td>1</td>\n",
              "      <td>1</td>\n",
              "    </tr>\n",
              "  </tbody>\n",
              "</table>\n",
              "</div>"
            ],
            "text/plain": [
              "                                                  id  ...  fl_telefone\n",
              "0  a6984c3ae395090e3bee8ad63c3758b110de096d5d8195...  ...            1\n",
              "1  6178f41ade1365e44bc2c46654c2c8c0eaae27dcb476c4...  ...            1\n",
              "2  4a7e5069a397f12fdd7fd57111d6dc5d3ba558958efc02...  ...            1\n",
              "3  3348900fe63216a439d2e5238c79ddd46ede454df7b9d8...  ...            1\n",
              "4  1f9bcabc9d3173c1fe769899e4fac14b053037b953a1e4...  ...            1\n",
              "\n",
              "[5 rows x 7 columns]"
            ]
          },
          "metadata": {
            "tags": []
          },
          "execution_count": 95
        }
      ]
    },
    {
      "cell_type": "markdown",
      "metadata": {
        "id": "l4BXLRm94zhs",
        "colab_type": "text"
      },
      "source": [
        "**One Hot Encoder**"
      ]
    },
    {
      "cell_type": "code",
      "metadata": {
        "ExecuteTime": {
          "end_time": "2020-06-13T21:32:14.842864Z",
          "start_time": "2020-06-13T21:32:14.501517Z"
        },
        "colab_type": "code",
        "id": "PSjUd95SFreJ",
        "outputId": "81aaa0ce-fc8e-4447-b373-470446381bd9",
        "colab": {
          "base_uri": "https://localhost:8080/",
          "height": 375
        }
      },
      "source": [
        "# features = df_market.drop('id', axis=1).columns\n",
        "df_market[cols_nominal[1:]].nunique().plot(kind='bar')\n",
        "plt.title('Contagem de valores únicos');"
      ],
      "execution_count": 0,
      "outputs": [
        {
          "output_type": "display_data",
          "data": {
            "image/png": "[encoded data removed]",
            "text/plain": [
              "<Figure size 432x288 with 1 Axes>"
            ]
          },
          "metadata": {
            "tags": [],
            "needs_background": "light"
          }
        }
      ]
    },
    {
      "cell_type": "code",
      "metadata": {
        "ExecuteTime": {
          "end_time": "2020-06-13T19:50:08.602850Z",
          "start_time": "2020-06-13T19:50:08.491855Z"
        },
        "id": "qq70ygaJ4zhw",
        "colab_type": "code",
        "outputId": "c2b19995-7c17-4254-d989-3b226bf8a831",
        "colab": {
          "base_uri": "https://localhost:8080/",
          "height": 51
        }
      },
      "source": [
        "onehot = OneHotEncoder(sparse= False, handle_unknown= 'ignore')\n",
        "onehot.fit(df_market[cols_nominal[1:]])"
      ],
      "execution_count": 0,
      "outputs": [
        {
          "output_type": "execute_result",
          "data": {
            "text/plain": [
              "OneHotEncoder(categories='auto', drop=None, dtype=<class 'numpy.float64'>,\n",
              "              handle_unknown='ignore', sparse=False)"
            ]
          },
          "metadata": {
            "tags": []
          },
          "execution_count": 97
        }
      ]
    },
    {
      "cell_type": "code",
      "metadata": {
        "ExecuteTime": {
          "end_time": "2020-06-13T19:50:08.610898Z",
          "start_time": "2020-06-13T19:50:08.605718Z"
        },
        "id": "QseBh38T4zh0",
        "colab_type": "code",
        "colab": {}
      },
      "source": [
        "features_one = onehot.get_feature_names(cols_nominal[1:])"
      ],
      "execution_count": 0,
      "outputs": []
    },
    {
      "cell_type": "code",
      "metadata": {
        "ExecuteTime": {
          "end_time": "2020-06-13T19:50:09.460287Z",
          "start_time": "2020-06-13T19:50:08.613758Z"
        },
        "id": "15dtl0WV4zh5",
        "colab_type": "code",
        "colab": {}
      },
      "source": [
        "onehot_df = pd.DataFrame( onehot.transform(df_market[cols_nominal[1:]]), columns= features_one)"
      ],
      "execution_count": 0,
      "outputs": []
    },
    {
      "cell_type": "code",
      "metadata": {
        "ExecuteTime": {
          "end_time": "2020-06-13T19:50:09.469551Z",
          "start_time": "2020-06-13T19:50:09.464010Z"
        },
        "id": "h-Uk1YY64ziB",
        "colab_type": "code",
        "colab": {}
      },
      "source": [
        "df_train.reset_index(drop= True, inplace= True)"
      ],
      "execution_count": 0,
      "outputs": []
    },
    {
      "cell_type": "code",
      "metadata": {
        "ExecuteTime": {
          "end_time": "2020-06-13T19:50:10.323238Z",
          "start_time": "2020-06-13T19:50:09.473107Z"
        },
        "id": "utly2thO4ziF",
        "colab_type": "code",
        "colab": {}
      },
      "source": [
        "df_train = pd.concat([df_train, onehot_df.copy()], axis=1)"
      ],
      "execution_count": 0,
      "outputs": []
    },
    {
      "cell_type": "code",
      "metadata": {
        "ExecuteTime": {
          "end_time": "2020-06-13T19:50:10.359412Z",
          "start_time": "2020-06-13T19:50:10.326024Z"
        },
        "id": "7pP63Vcn4ziO",
        "colab_type": "code",
        "colab": {}
      },
      "source": [
        "del(onehot_df)"
      ],
      "execution_count": 0,
      "outputs": []
    },
    {
      "cell_type": "code",
      "metadata": {
        "ExecuteTime": {
          "end_time": "2020-06-13T19:50:10.599713Z",
          "start_time": "2020-06-13T19:50:10.362241Z"
        },
        "id": "GF9QLhj-4ziR",
        "colab_type": "code",
        "outputId": "967d4988-eb70-4f8d-c7d5-9e13cf9f3269",
        "colab": {
          "base_uri": "https://localhost:8080/",
          "height": 490
        }
      },
      "source": [
        "df_train"
      ],
      "execution_count": 0,
      "outputs": [
        {
          "output_type": "execute_result",
          "data": {
            "text/html": [
              "<div>\n",
              "<style scoped>\n",
              "    .dataframe tbody tr th:only-of-type {\n",
              "        vertical-align: middle;\n",
              "    }\n",
              "\n",
              "    .dataframe tbody tr th {\n",
              "        vertical-align: top;\n",
              "    }\n",
              "\n",
              "    .dataframe thead th {\n",
              "        text-align: right;\n",
              "    }\n",
              "</style>\n",
              "<table border=\"1\" class=\"dataframe\">\n",
              "  <thead>\n",
              "    <tr style=\"text-align: right;\">\n",
              "      <th></th>\n",
              "      <th>id</th>\n",
              "      <th>idade_empresa_anos</th>\n",
              "      <th>de_nivel_atividade</th>\n",
              "      <th>de_saude_tributaria</th>\n",
              "      <th>de_faixa_faturamento_estimado</th>\n",
              "      <th>fl_email</th>\n",
              "      <th>fl_telefone</th>\n",
              "      <th>sg_uf_AC</th>\n",
              "      <th>sg_uf_AM</th>\n",
              "      <th>sg_uf_MA</th>\n",
              "      <th>sg_uf_PI</th>\n",
              "      <th>sg_uf_RN</th>\n",
              "      <th>sg_uf_RO</th>\n",
              "      <th>de_ramo_ADMINISTRACAO PUBLICA, DEFESA E SEGURIDADE SOCIAL</th>\n",
              "      <th>de_ramo_ATIVIDADES IMOBILIARIAS</th>\n",
              "      <th>de_ramo_BENS DE CONSUMO</th>\n",
              "      <th>de_ramo_COMERCIO E REPARACAO DE VEICULOS</th>\n",
              "      <th>de_ramo_COMERCIO POR ATACADO</th>\n",
              "      <th>de_ramo_COMERCIO VAREJISTA</th>\n",
              "      <th>de_ramo_CULTURA, ESPORTE E RECREACAO</th>\n",
              "      <th>de_ramo_ELETRICIDADE E GAS</th>\n",
              "      <th>de_ramo_ELETROELETRONICOS</th>\n",
              "      <th>de_ramo_FARMACEUTICA</th>\n",
              "      <th>de_ramo_INDUSTRIA AUTOMOTIVA</th>\n",
              "      <th>de_ramo_INDUSTRIA DA CONSTRUCAO</th>\n",
              "      <th>de_ramo_INDUSTRIA DIGITAL</th>\n",
              "      <th>de_ramo_INDUSTRIAS EXTRATIVAS</th>\n",
              "      <th>de_ramo_ORGANISMOS INTERNACIONAIS</th>\n",
              "      <th>de_ramo_PAPEL E CELULOSE</th>\n",
              "      <th>de_ramo_PRODUTOS DE AGROPECUARIA</th>\n",
              "      <th>de_ramo_QUIMICA-PETROQUIMICA</th>\n",
              "      <th>de_ramo_SEGUROS, PLANOS DE PREVIDENCIA E PLANOS DE SAUDE</th>\n",
              "      <th>de_ramo_SERVICOS ADMINISTRATIVOS</th>\n",
              "      <th>de_ramo_SERVICOS DE ALOJAMENTO/ALIMENTACAO</th>\n",
              "      <th>de_ramo_SERVICOS DE EDUCACAO</th>\n",
              "      <th>de_ramo_SERVICOS DE SANEAMENTO BASICO</th>\n",
              "      <th>de_ramo_SERVICOS DE SAUDE</th>\n",
              "      <th>de_ramo_SERVICOS DIVERSOS</th>\n",
              "      <th>de_ramo_SERVICOS FINANCEIROS</th>\n",
              "      <th>de_ramo_SERVICOS PROFISSIONAIS, TECNICOS E CIENTIFICOS</th>\n",
              "      <th>...</th>\n",
              "      <th>de_natureza_juridica_FUNDACAO PUBLICA DE DIREITO PRIVADO FEFERAL</th>\n",
              "      <th>de_natureza_juridica_FUNDACAO PUBLICA DE DIREITO PRIVADO MUNICIPAL</th>\n",
              "      <th>de_natureza_juridica_FUNDACAO PUBLICA DE DIREITO PUB MUNICIPAL</th>\n",
              "      <th>de_natureza_juridica_FUNDACAO PUBLICA DE DIREITO PUBFEDERAL</th>\n",
              "      <th>de_natureza_juridica_FUNDO PRIVADO</th>\n",
              "      <th>de_natureza_juridica_FUNDO PUBLICO</th>\n",
              "      <th>de_natureza_juridica_GRUPO DE SOCIEDADES</th>\n",
              "      <th>de_natureza_juridica_MUNICIPIO</th>\n",
              "      <th>de_natureza_juridica_ORGANIZACAO RELIGIOSA</th>\n",
              "      <th>de_natureza_juridica_ORGANIZACAO SOCIAL OS</th>\n",
              "      <th>de_natureza_juridica_ORGAO DE DIRECAO LOCAL DE PARTIDO POLITICO</th>\n",
              "      <th>de_natureza_juridica_ORGAO DE DIRECAO NACIONAL DE PARTIDO POLITICO</th>\n",
              "      <th>de_natureza_juridica_ORGAO DE DIRECAO REGIONAL DE PARTIDO POLITICO</th>\n",
              "      <th>de_natureza_juridica_ORGAO PUBLICO AUTONOMO ESTADUAL OU DO DISTRITO FEDERAL</th>\n",
              "      <th>de_natureza_juridica_ORGAO PUBLICO AUTONOMO MUNICIPAL</th>\n",
              "      <th>de_natureza_juridica_ORGAO PUBLICO DO PODER EXECUTIVO ESTADUAL OU DO DISTRITO FEDERAL</th>\n",
              "      <th>de_natureza_juridica_ORGAO PUBLICO DO PODER EXECUTIVO FEDERAL</th>\n",
              "      <th>de_natureza_juridica_ORGAO PUBLICO DO PODER EXECUTIVO MUNICIPAL</th>\n",
              "      <th>de_natureza_juridica_ORGAO PUBLICO DO PODER JUDICIARIO ESTADUAL</th>\n",
              "      <th>de_natureza_juridica_ORGAO PUBLICO DO PODER JUDICIARIO FEDERAL</th>\n",
              "      <th>de_natureza_juridica_ORGAO PUBLICO DO PODER LEGISLATIVO ESTADUAL OU DO DISTRITO FEDERAL</th>\n",
              "      <th>de_natureza_juridica_ORGAO PUBLICO DO PODER LEGISLATIVO FEDERAL</th>\n",
              "      <th>de_natureza_juridica_ORGAO PUBLICO DO PODER LEGISLATIVO MUNICIPAL</th>\n",
              "      <th>de_natureza_juridica_REPRESENTACAO DIPLOMATICA ESTRANGEIRA</th>\n",
              "      <th>de_natureza_juridica_SERVICO NOTARIAL E REGISTRAL CARTORIO</th>\n",
              "      <th>de_natureza_juridica_SERVICO SOCIAL AUTONOMO</th>\n",
              "      <th>de_natureza_juridica_SOCIEDADE ANONIMA ABERTA</th>\n",
              "      <th>de_natureza_juridica_SOCIEDADE ANONIMA FECHADA</th>\n",
              "      <th>de_natureza_juridica_SOCIEDADE DE ECONOMIA MISTA</th>\n",
              "      <th>de_natureza_juridica_SOCIEDADE EM CONTA DE PARTICIPACAO</th>\n",
              "      <th>de_natureza_juridica_SOCIEDADE EMPRESARIA EM COMANDITA POR ACOES</th>\n",
              "      <th>de_natureza_juridica_SOCIEDADE EMPRESARIA EM COMANDITA SIMPLES</th>\n",
              "      <th>de_natureza_juridica_SOCIEDADE EMPRESARIA EM NOME COLETIVO</th>\n",
              "      <th>de_natureza_juridica_SOCIEDADE EMPRESARIA LIMITADA</th>\n",
              "      <th>de_natureza_juridica_SOCIEDADE MERCANTIL DE CAPITAL E INDUSTRIA</th>\n",
              "      <th>de_natureza_juridica_SOCIEDADE SIMPLES EM COMANDITA SIMPLES</th>\n",
              "      <th>de_natureza_juridica_SOCIEDADE SIMPLES EM NOME COLETIVO</th>\n",
              "      <th>de_natureza_juridica_SOCIEDADE SIMPLES LIMITADA</th>\n",
              "      <th>de_natureza_juridica_SOCIEDADE SIMPLES PURA</th>\n",
              "      <th>de_natureza_juridica_SOCIEDADE UNIPESSOAL DE ADVOCACIA</th>\n",
              "    </tr>\n",
              "  </thead>\n",
              "  <tbody>\n",
              "    <tr>\n",
              "      <th>0</th>\n",
              "      <td>a6984c3ae395090e3bee8ad63c3758b110de096d5d8195...</td>\n",
              "      <td>0.485099</td>\n",
              "      <td>-1.291172</td>\n",
              "      <td>1.151656</td>\n",
              "      <td>-1.467388</td>\n",
              "      <td>1</td>\n",
              "      <td>1</td>\n",
              "      <td>0.0</td>\n",
              "      <td>0.0</td>\n",
              "      <td>0.0</td>\n",
              "      <td>0.0</td>\n",
              "      <td>1.0</td>\n",
              "      <td>0.0</td>\n",
              "      <td>0.0</td>\n",
              "      <td>0.0</td>\n",
              "      <td>0.0</td>\n",
              "      <td>0.0</td>\n",
              "      <td>0.0</td>\n",
              "      <td>0.0</td>\n",
              "      <td>0.0</td>\n",
              "      <td>0.0</td>\n",
              "      <td>0.0</td>\n",
              "      <td>0.0</td>\n",
              "      <td>0.0</td>\n",
              "      <td>1.0</td>\n",
              "      <td>0.0</td>\n",
              "      <td>0.0</td>\n",
              "      <td>0.0</td>\n",
              "      <td>0.0</td>\n",
              "      <td>0.0</td>\n",
              "      <td>0.0</td>\n",
              "      <td>0.0</td>\n",
              "      <td>0.0</td>\n",
              "      <td>0.0</td>\n",
              "      <td>0.0</td>\n",
              "      <td>0.0</td>\n",
              "      <td>0.0</td>\n",
              "      <td>0.0</td>\n",
              "      <td>0.0</td>\n",
              "      <td>0.0</td>\n",
              "      <td>...</td>\n",
              "      <td>0.0</td>\n",
              "      <td>0.0</td>\n",
              "      <td>0.0</td>\n",
              "      <td>0.0</td>\n",
              "      <td>0.0</td>\n",
              "      <td>0.0</td>\n",
              "      <td>0.0</td>\n",
              "      <td>0.0</td>\n",
              "      <td>0.0</td>\n",
              "      <td>0.0</td>\n",
              "      <td>0.0</td>\n",
              "      <td>0.0</td>\n",
              "      <td>0.0</td>\n",
              "      <td>0.0</td>\n",
              "      <td>0.0</td>\n",
              "      <td>0.0</td>\n",
              "      <td>0.0</td>\n",
              "      <td>0.0</td>\n",
              "      <td>0.0</td>\n",
              "      <td>0.0</td>\n",
              "      <td>0.0</td>\n",
              "      <td>0.0</td>\n",
              "      <td>0.0</td>\n",
              "      <td>0.0</td>\n",
              "      <td>0.0</td>\n",
              "      <td>0.0</td>\n",
              "      <td>0.0</td>\n",
              "      <td>0.0</td>\n",
              "      <td>0.0</td>\n",
              "      <td>0.0</td>\n",
              "      <td>0.0</td>\n",
              "      <td>0.0</td>\n",
              "      <td>0.0</td>\n",
              "      <td>1.0</td>\n",
              "      <td>0.0</td>\n",
              "      <td>0.0</td>\n",
              "      <td>0.0</td>\n",
              "      <td>0.0</td>\n",
              "      <td>0.0</td>\n",
              "      <td>0.0</td>\n",
              "    </tr>\n",
              "    <tr>\n",
              "      <th>1</th>\n",
              "      <td>6178f41ade1365e44bc2c46654c2c8c0eaae27dcb476c4...</td>\n",
              "      <td>-0.882338</td>\n",
              "      <td>-0.196314</td>\n",
              "      <td>-0.100016</td>\n",
              "      <td>0.663398</td>\n",
              "      <td>1</td>\n",
              "      <td>1</td>\n",
              "      <td>0.0</td>\n",
              "      <td>0.0</td>\n",
              "      <td>0.0</td>\n",
              "      <td>1.0</td>\n",
              "      <td>0.0</td>\n",
              "      <td>0.0</td>\n",
              "      <td>0.0</td>\n",
              "      <td>0.0</td>\n",
              "      <td>0.0</td>\n",
              "      <td>0.0</td>\n",
              "      <td>0.0</td>\n",
              "      <td>0.0</td>\n",
              "      <td>0.0</td>\n",
              "      <td>0.0</td>\n",
              "      <td>0.0</td>\n",
              "      <td>0.0</td>\n",
              "      <td>0.0</td>\n",
              "      <td>0.0</td>\n",
              "      <td>0.0</td>\n",
              "      <td>0.0</td>\n",
              "      <td>0.0</td>\n",
              "      <td>0.0</td>\n",
              "      <td>0.0</td>\n",
              "      <td>0.0</td>\n",
              "      <td>0.0</td>\n",
              "      <td>0.0</td>\n",
              "      <td>1.0</td>\n",
              "      <td>0.0</td>\n",
              "      <td>0.0</td>\n",
              "      <td>0.0</td>\n",
              "      <td>0.0</td>\n",
              "      <td>0.0</td>\n",
              "      <td>0.0</td>\n",
              "      <td>...</td>\n",
              "      <td>0.0</td>\n",
              "      <td>0.0</td>\n",
              "      <td>0.0</td>\n",
              "      <td>0.0</td>\n",
              "      <td>0.0</td>\n",
              "      <td>0.0</td>\n",
              "      <td>0.0</td>\n",
              "      <td>0.0</td>\n",
              "      <td>0.0</td>\n",
              "      <td>0.0</td>\n",
              "      <td>0.0</td>\n",
              "      <td>0.0</td>\n",
              "      <td>0.0</td>\n",
              "      <td>0.0</td>\n",
              "      <td>0.0</td>\n",
              "      <td>0.0</td>\n",
              "      <td>0.0</td>\n",
              "      <td>0.0</td>\n",
              "      <td>0.0</td>\n",
              "      <td>0.0</td>\n",
              "      <td>0.0</td>\n",
              "      <td>0.0</td>\n",
              "      <td>0.0</td>\n",
              "      <td>0.0</td>\n",
              "      <td>0.0</td>\n",
              "      <td>0.0</td>\n",
              "      <td>0.0</td>\n",
              "      <td>0.0</td>\n",
              "      <td>0.0</td>\n",
              "      <td>0.0</td>\n",
              "      <td>0.0</td>\n",
              "      <td>0.0</td>\n",
              "      <td>0.0</td>\n",
              "      <td>0.0</td>\n",
              "      <td>0.0</td>\n",
              "      <td>0.0</td>\n",
              "      <td>0.0</td>\n",
              "      <td>0.0</td>\n",
              "      <td>0.0</td>\n",
              "      <td>0.0</td>\n",
              "    </tr>\n",
              "    <tr>\n",
              "      <th>2</th>\n",
              "      <td>4a7e5069a397f12fdd7fd57111d6dc5d3ba558958efc02...</td>\n",
              "      <td>-0.289868</td>\n",
              "      <td>0.898544</td>\n",
              "      <td>-1.351689</td>\n",
              "      <td>-1.733737</td>\n",
              "      <td>0</td>\n",
              "      <td>1</td>\n",
              "      <td>0.0</td>\n",
              "      <td>1.0</td>\n",
              "      <td>0.0</td>\n",
              "      <td>0.0</td>\n",
              "      <td>0.0</td>\n",
              "      <td>0.0</td>\n",
              "      <td>0.0</td>\n",
              "      <td>0.0</td>\n",
              "      <td>0.0</td>\n",
              "      <td>0.0</td>\n",
              "      <td>0.0</td>\n",
              "      <td>0.0</td>\n",
              "      <td>0.0</td>\n",
              "      <td>0.0</td>\n",
              "      <td>0.0</td>\n",
              "      <td>0.0</td>\n",
              "      <td>0.0</td>\n",
              "      <td>0.0</td>\n",
              "      <td>0.0</td>\n",
              "      <td>0.0</td>\n",
              "      <td>0.0</td>\n",
              "      <td>0.0</td>\n",
              "      <td>0.0</td>\n",
              "      <td>0.0</td>\n",
              "      <td>0.0</td>\n",
              "      <td>0.0</td>\n",
              "      <td>0.0</td>\n",
              "      <td>0.0</td>\n",
              "      <td>0.0</td>\n",
              "      <td>0.0</td>\n",
              "      <td>0.0</td>\n",
              "      <td>0.0</td>\n",
              "      <td>0.0</td>\n",
              "      <td>...</td>\n",
              "      <td>0.0</td>\n",
              "      <td>0.0</td>\n",
              "      <td>0.0</td>\n",
              "      <td>0.0</td>\n",
              "      <td>0.0</td>\n",
              "      <td>0.0</td>\n",
              "      <td>0.0</td>\n",
              "      <td>0.0</td>\n",
              "      <td>0.0</td>\n",
              "      <td>0.0</td>\n",
              "      <td>0.0</td>\n",
              "      <td>0.0</td>\n",
              "      <td>0.0</td>\n",
              "      <td>0.0</td>\n",
              "      <td>0.0</td>\n",
              "      <td>0.0</td>\n",
              "      <td>0.0</td>\n",
              "      <td>0.0</td>\n",
              "      <td>0.0</td>\n",
              "      <td>0.0</td>\n",
              "      <td>0.0</td>\n",
              "      <td>0.0</td>\n",
              "      <td>0.0</td>\n",
              "      <td>0.0</td>\n",
              "      <td>0.0</td>\n",
              "      <td>0.0</td>\n",
              "      <td>0.0</td>\n",
              "      <td>0.0</td>\n",
              "      <td>0.0</td>\n",
              "      <td>0.0</td>\n",
              "      <td>0.0</td>\n",
              "      <td>0.0</td>\n",
              "      <td>0.0</td>\n",
              "      <td>0.0</td>\n",
              "      <td>0.0</td>\n",
              "      <td>0.0</td>\n",
              "      <td>0.0</td>\n",
              "      <td>0.0</td>\n",
              "      <td>0.0</td>\n",
              "      <td>0.0</td>\n",
              "    </tr>\n",
              "    <tr>\n",
              "      <th>3</th>\n",
              "      <td>3348900fe63216a439d2e5238c79ddd46ede454df7b9d8...</td>\n",
              "      <td>-0.350989</td>\n",
              "      <td>0.898544</td>\n",
              "      <td>-1.351689</td>\n",
              "      <td>0.663398</td>\n",
              "      <td>1</td>\n",
              "      <td>1</td>\n",
              "      <td>0.0</td>\n",
              "      <td>1.0</td>\n",
              "      <td>0.0</td>\n",
              "      <td>0.0</td>\n",
              "      <td>0.0</td>\n",
              "      <td>0.0</td>\n",
              "      <td>0.0</td>\n",
              "      <td>0.0</td>\n",
              "      <td>0.0</td>\n",
              "      <td>0.0</td>\n",
              "      <td>0.0</td>\n",
              "      <td>0.0</td>\n",
              "      <td>0.0</td>\n",
              "      <td>0.0</td>\n",
              "      <td>0.0</td>\n",
              "      <td>0.0</td>\n",
              "      <td>0.0</td>\n",
              "      <td>0.0</td>\n",
              "      <td>0.0</td>\n",
              "      <td>0.0</td>\n",
              "      <td>0.0</td>\n",
              "      <td>0.0</td>\n",
              "      <td>0.0</td>\n",
              "      <td>0.0</td>\n",
              "      <td>0.0</td>\n",
              "      <td>0.0</td>\n",
              "      <td>0.0</td>\n",
              "      <td>0.0</td>\n",
              "      <td>0.0</td>\n",
              "      <td>0.0</td>\n",
              "      <td>1.0</td>\n",
              "      <td>0.0</td>\n",
              "      <td>0.0</td>\n",
              "      <td>...</td>\n",
              "      <td>0.0</td>\n",
              "      <td>0.0</td>\n",
              "      <td>0.0</td>\n",
              "      <td>0.0</td>\n",
              "      <td>0.0</td>\n",
              "      <td>0.0</td>\n",
              "      <td>0.0</td>\n",
              "      <td>0.0</td>\n",
              "      <td>0.0</td>\n",
              "      <td>0.0</td>\n",
              "      <td>0.0</td>\n",
              "      <td>0.0</td>\n",
              "      <td>0.0</td>\n",
              "      <td>0.0</td>\n",
              "      <td>0.0</td>\n",
              "      <td>0.0</td>\n",
              "      <td>0.0</td>\n",
              "      <td>0.0</td>\n",
              "      <td>0.0</td>\n",
              "      <td>0.0</td>\n",
              "      <td>0.0</td>\n",
              "      <td>0.0</td>\n",
              "      <td>0.0</td>\n",
              "      <td>0.0</td>\n",
              "      <td>0.0</td>\n",
              "      <td>0.0</td>\n",
              "      <td>0.0</td>\n",
              "      <td>0.0</td>\n",
              "      <td>0.0</td>\n",
              "      <td>0.0</td>\n",
              "      <td>0.0</td>\n",
              "      <td>0.0</td>\n",
              "      <td>0.0</td>\n",
              "      <td>0.0</td>\n",
              "      <td>0.0</td>\n",
              "      <td>0.0</td>\n",
              "      <td>0.0</td>\n",
              "      <td>0.0</td>\n",
              "      <td>0.0</td>\n",
              "      <td>0.0</td>\n",
              "    </tr>\n",
              "    <tr>\n",
              "      <th>4</th>\n",
              "      <td>1f9bcabc9d3173c1fe769899e4fac14b053037b953a1e4...</td>\n",
              "      <td>-0.699552</td>\n",
              "      <td>-1.291172</td>\n",
              "      <td>1.151656</td>\n",
              "      <td>0.663398</td>\n",
              "      <td>1</td>\n",
              "      <td>1</td>\n",
              "      <td>0.0</td>\n",
              "      <td>0.0</td>\n",
              "      <td>0.0</td>\n",
              "      <td>0.0</td>\n",
              "      <td>1.0</td>\n",
              "      <td>0.0</td>\n",
              "      <td>0.0</td>\n",
              "      <td>0.0</td>\n",
              "      <td>0.0</td>\n",
              "      <td>0.0</td>\n",
              "      <td>0.0</td>\n",
              "      <td>0.0</td>\n",
              "      <td>0.0</td>\n",
              "      <td>0.0</td>\n",
              "      <td>0.0</td>\n",
              "      <td>0.0</td>\n",
              "      <td>0.0</td>\n",
              "      <td>0.0</td>\n",
              "      <td>0.0</td>\n",
              "      <td>0.0</td>\n",
              "      <td>0.0</td>\n",
              "      <td>0.0</td>\n",
              "      <td>0.0</td>\n",
              "      <td>0.0</td>\n",
              "      <td>0.0</td>\n",
              "      <td>0.0</td>\n",
              "      <td>0.0</td>\n",
              "      <td>0.0</td>\n",
              "      <td>0.0</td>\n",
              "      <td>0.0</td>\n",
              "      <td>0.0</td>\n",
              "      <td>0.0</td>\n",
              "      <td>1.0</td>\n",
              "      <td>...</td>\n",
              "      <td>0.0</td>\n",
              "      <td>0.0</td>\n",
              "      <td>0.0</td>\n",
              "      <td>0.0</td>\n",
              "      <td>0.0</td>\n",
              "      <td>0.0</td>\n",
              "      <td>0.0</td>\n",
              "      <td>0.0</td>\n",
              "      <td>0.0</td>\n",
              "      <td>0.0</td>\n",
              "      <td>0.0</td>\n",
              "      <td>0.0</td>\n",
              "      <td>0.0</td>\n",
              "      <td>0.0</td>\n",
              "      <td>0.0</td>\n",
              "      <td>0.0</td>\n",
              "      <td>0.0</td>\n",
              "      <td>0.0</td>\n",
              "      <td>0.0</td>\n",
              "      <td>0.0</td>\n",
              "      <td>0.0</td>\n",
              "      <td>0.0</td>\n",
              "      <td>0.0</td>\n",
              "      <td>0.0</td>\n",
              "      <td>0.0</td>\n",
              "      <td>0.0</td>\n",
              "      <td>0.0</td>\n",
              "      <td>0.0</td>\n",
              "      <td>0.0</td>\n",
              "      <td>0.0</td>\n",
              "      <td>0.0</td>\n",
              "      <td>0.0</td>\n",
              "      <td>0.0</td>\n",
              "      <td>0.0</td>\n",
              "      <td>0.0</td>\n",
              "      <td>0.0</td>\n",
              "      <td>0.0</td>\n",
              "      <td>0.0</td>\n",
              "      <td>0.0</td>\n",
              "      <td>0.0</td>\n",
              "    </tr>\n",
              "    <tr>\n",
              "      <th>...</th>\n",
              "      <td>...</td>\n",
              "      <td>...</td>\n",
              "      <td>...</td>\n",
              "      <td>...</td>\n",
              "      <td>...</td>\n",
              "      <td>...</td>\n",
              "      <td>...</td>\n",
              "      <td>...</td>\n",
              "      <td>...</td>\n",
              "      <td>...</td>\n",
              "      <td>...</td>\n",
              "      <td>...</td>\n",
              "      <td>...</td>\n",
              "      <td>...</td>\n",
              "      <td>...</td>\n",
              "      <td>...</td>\n",
              "      <td>...</td>\n",
              "      <td>...</td>\n",
              "      <td>...</td>\n",
              "      <td>...</td>\n",
              "      <td>...</td>\n",
              "      <td>...</td>\n",
              "      <td>...</td>\n",
              "      <td>...</td>\n",
              "      <td>...</td>\n",
              "      <td>...</td>\n",
              "      <td>...</td>\n",
              "      <td>...</td>\n",
              "      <td>...</td>\n",
              "      <td>...</td>\n",
              "      <td>...</td>\n",
              "      <td>...</td>\n",
              "      <td>...</td>\n",
              "      <td>...</td>\n",
              "      <td>...</td>\n",
              "      <td>...</td>\n",
              "      <td>...</td>\n",
              "      <td>...</td>\n",
              "      <td>...</td>\n",
              "      <td>...</td>\n",
              "      <td>...</td>\n",
              "      <td>...</td>\n",
              "      <td>...</td>\n",
              "      <td>...</td>\n",
              "      <td>...</td>\n",
              "      <td>...</td>\n",
              "      <td>...</td>\n",
              "      <td>...</td>\n",
              "      <td>...</td>\n",
              "      <td>...</td>\n",
              "      <td>...</td>\n",
              "      <td>...</td>\n",
              "      <td>...</td>\n",
              "      <td>...</td>\n",
              "      <td>...</td>\n",
              "      <td>...</td>\n",
              "      <td>...</td>\n",
              "      <td>...</td>\n",
              "      <td>...</td>\n",
              "      <td>...</td>\n",
              "      <td>...</td>\n",
              "      <td>...</td>\n",
              "      <td>...</td>\n",
              "      <td>...</td>\n",
              "      <td>...</td>\n",
              "      <td>...</td>\n",
              "      <td>...</td>\n",
              "      <td>...</td>\n",
              "      <td>...</td>\n",
              "      <td>...</td>\n",
              "      <td>...</td>\n",
              "      <td>...</td>\n",
              "      <td>...</td>\n",
              "      <td>...</td>\n",
              "      <td>...</td>\n",
              "      <td>...</td>\n",
              "      <td>...</td>\n",
              "      <td>...</td>\n",
              "      <td>...</td>\n",
              "      <td>...</td>\n",
              "      <td>...</td>\n",
              "    </tr>\n",
              "    <tr>\n",
              "      <th>460354</th>\n",
              "      <td>469ee5fc984d0bb60aa2f40cda4d003d7c9b963d149ed3...</td>\n",
              "      <td>-0.693786</td>\n",
              "      <td>-1.291172</td>\n",
              "      <td>1.151656</td>\n",
              "      <td>-1.733737</td>\n",
              "      <td>1</td>\n",
              "      <td>1</td>\n",
              "      <td>0.0</td>\n",
              "      <td>0.0</td>\n",
              "      <td>0.0</td>\n",
              "      <td>0.0</td>\n",
              "      <td>1.0</td>\n",
              "      <td>0.0</td>\n",
              "      <td>0.0</td>\n",
              "      <td>0.0</td>\n",
              "      <td>0.0</td>\n",
              "      <td>1.0</td>\n",
              "      <td>0.0</td>\n",
              "      <td>0.0</td>\n",
              "      <td>0.0</td>\n",
              "      <td>0.0</td>\n",
              "      <td>0.0</td>\n",
              "      <td>0.0</td>\n",
              "      <td>0.0</td>\n",
              "      <td>0.0</td>\n",
              "      <td>0.0</td>\n",
              "      <td>0.0</td>\n",
              "      <td>0.0</td>\n",
              "      <td>0.0</td>\n",
              "      <td>0.0</td>\n",
              "      <td>0.0</td>\n",
              "      <td>0.0</td>\n",
              "      <td>0.0</td>\n",
              "      <td>0.0</td>\n",
              "      <td>0.0</td>\n",
              "      <td>0.0</td>\n",
              "      <td>0.0</td>\n",
              "      <td>0.0</td>\n",
              "      <td>0.0</td>\n",
              "      <td>0.0</td>\n",
              "      <td>...</td>\n",
              "      <td>0.0</td>\n",
              "      <td>0.0</td>\n",
              "      <td>0.0</td>\n",
              "      <td>0.0</td>\n",
              "      <td>0.0</td>\n",
              "      <td>0.0</td>\n",
              "      <td>0.0</td>\n",
              "      <td>0.0</td>\n",
              "      <td>0.0</td>\n",
              "      <td>0.0</td>\n",
              "      <td>0.0</td>\n",
              "      <td>0.0</td>\n",
              "      <td>0.0</td>\n",
              "      <td>0.0</td>\n",
              "      <td>0.0</td>\n",
              "      <td>0.0</td>\n",
              "      <td>0.0</td>\n",
              "      <td>0.0</td>\n",
              "      <td>0.0</td>\n",
              "      <td>0.0</td>\n",
              "      <td>0.0</td>\n",
              "      <td>0.0</td>\n",
              "      <td>0.0</td>\n",
              "      <td>0.0</td>\n",
              "      <td>0.0</td>\n",
              "      <td>0.0</td>\n",
              "      <td>0.0</td>\n",
              "      <td>0.0</td>\n",
              "      <td>0.0</td>\n",
              "      <td>0.0</td>\n",
              "      <td>0.0</td>\n",
              "      <td>0.0</td>\n",
              "      <td>0.0</td>\n",
              "      <td>0.0</td>\n",
              "      <td>0.0</td>\n",
              "      <td>0.0</td>\n",
              "      <td>0.0</td>\n",
              "      <td>0.0</td>\n",
              "      <td>0.0</td>\n",
              "      <td>0.0</td>\n",
              "    </tr>\n",
              "    <tr>\n",
              "      <th>460355</th>\n",
              "      <td>656f496e7e2fad708f0022d8ad97d2cb9344e839a5f3cb...</td>\n",
              "      <td>-0.094108</td>\n",
              "      <td>1.993401</td>\n",
              "      <td>0.525820</td>\n",
              "      <td>0.663398</td>\n",
              "      <td>0</td>\n",
              "      <td>0</td>\n",
              "      <td>0.0</td>\n",
              "      <td>0.0</td>\n",
              "      <td>0.0</td>\n",
              "      <td>1.0</td>\n",
              "      <td>0.0</td>\n",
              "      <td>0.0</td>\n",
              "      <td>0.0</td>\n",
              "      <td>0.0</td>\n",
              "      <td>0.0</td>\n",
              "      <td>0.0</td>\n",
              "      <td>0.0</td>\n",
              "      <td>0.0</td>\n",
              "      <td>0.0</td>\n",
              "      <td>0.0</td>\n",
              "      <td>0.0</td>\n",
              "      <td>0.0</td>\n",
              "      <td>0.0</td>\n",
              "      <td>0.0</td>\n",
              "      <td>0.0</td>\n",
              "      <td>0.0</td>\n",
              "      <td>0.0</td>\n",
              "      <td>0.0</td>\n",
              "      <td>0.0</td>\n",
              "      <td>0.0</td>\n",
              "      <td>0.0</td>\n",
              "      <td>1.0</td>\n",
              "      <td>0.0</td>\n",
              "      <td>0.0</td>\n",
              "      <td>0.0</td>\n",
              "      <td>0.0</td>\n",
              "      <td>0.0</td>\n",
              "      <td>0.0</td>\n",
              "      <td>0.0</td>\n",
              "      <td>...</td>\n",
              "      <td>0.0</td>\n",
              "      <td>0.0</td>\n",
              "      <td>0.0</td>\n",
              "      <td>0.0</td>\n",
              "      <td>0.0</td>\n",
              "      <td>0.0</td>\n",
              "      <td>0.0</td>\n",
              "      <td>0.0</td>\n",
              "      <td>0.0</td>\n",
              "      <td>0.0</td>\n",
              "      <td>0.0</td>\n",
              "      <td>0.0</td>\n",
              "      <td>0.0</td>\n",
              "      <td>0.0</td>\n",
              "      <td>0.0</td>\n",
              "      <td>0.0</td>\n",
              "      <td>0.0</td>\n",
              "      <td>0.0</td>\n",
              "      <td>0.0</td>\n",
              "      <td>0.0</td>\n",
              "      <td>0.0</td>\n",
              "      <td>0.0</td>\n",
              "      <td>0.0</td>\n",
              "      <td>0.0</td>\n",
              "      <td>0.0</td>\n",
              "      <td>0.0</td>\n",
              "      <td>0.0</td>\n",
              "      <td>0.0</td>\n",
              "      <td>0.0</td>\n",
              "      <td>0.0</td>\n",
              "      <td>0.0</td>\n",
              "      <td>0.0</td>\n",
              "      <td>0.0</td>\n",
              "      <td>0.0</td>\n",
              "      <td>0.0</td>\n",
              "      <td>0.0</td>\n",
              "      <td>0.0</td>\n",
              "      <td>0.0</td>\n",
              "      <td>0.0</td>\n",
              "      <td>0.0</td>\n",
              "    </tr>\n",
              "    <tr>\n",
              "      <th>460356</th>\n",
              "      <td>9b933a5cf2149d1338f00fb459d34a16b9b0f2e8d3e8e1...</td>\n",
              "      <td>1.146762</td>\n",
              "      <td>0.898544</td>\n",
              "      <td>-1.351689</td>\n",
              "      <td>0.663398</td>\n",
              "      <td>0</td>\n",
              "      <td>0</td>\n",
              "      <td>0.0</td>\n",
              "      <td>0.0</td>\n",
              "      <td>1.0</td>\n",
              "      <td>0.0</td>\n",
              "      <td>0.0</td>\n",
              "      <td>0.0</td>\n",
              "      <td>0.0</td>\n",
              "      <td>0.0</td>\n",
              "      <td>0.0</td>\n",
              "      <td>0.0</td>\n",
              "      <td>0.0</td>\n",
              "      <td>0.0</td>\n",
              "      <td>0.0</td>\n",
              "      <td>0.0</td>\n",
              "      <td>0.0</td>\n",
              "      <td>0.0</td>\n",
              "      <td>0.0</td>\n",
              "      <td>0.0</td>\n",
              "      <td>0.0</td>\n",
              "      <td>0.0</td>\n",
              "      <td>0.0</td>\n",
              "      <td>0.0</td>\n",
              "      <td>0.0</td>\n",
              "      <td>0.0</td>\n",
              "      <td>0.0</td>\n",
              "      <td>0.0</td>\n",
              "      <td>0.0</td>\n",
              "      <td>0.0</td>\n",
              "      <td>0.0</td>\n",
              "      <td>1.0</td>\n",
              "      <td>0.0</td>\n",
              "      <td>0.0</td>\n",
              "      <td>0.0</td>\n",
              "      <td>...</td>\n",
              "      <td>0.0</td>\n",
              "      <td>0.0</td>\n",
              "      <td>0.0</td>\n",
              "      <td>0.0</td>\n",
              "      <td>0.0</td>\n",
              "      <td>0.0</td>\n",
              "      <td>0.0</td>\n",
              "      <td>0.0</td>\n",
              "      <td>0.0</td>\n",
              "      <td>0.0</td>\n",
              "      <td>0.0</td>\n",
              "      <td>0.0</td>\n",
              "      <td>0.0</td>\n",
              "      <td>0.0</td>\n",
              "      <td>0.0</td>\n",
              "      <td>0.0</td>\n",
              "      <td>0.0</td>\n",
              "      <td>0.0</td>\n",
              "      <td>0.0</td>\n",
              "      <td>0.0</td>\n",
              "      <td>0.0</td>\n",
              "      <td>0.0</td>\n",
              "      <td>0.0</td>\n",
              "      <td>0.0</td>\n",
              "      <td>0.0</td>\n",
              "      <td>0.0</td>\n",
              "      <td>0.0</td>\n",
              "      <td>0.0</td>\n",
              "      <td>0.0</td>\n",
              "      <td>0.0</td>\n",
              "      <td>0.0</td>\n",
              "      <td>0.0</td>\n",
              "      <td>0.0</td>\n",
              "      <td>0.0</td>\n",
              "      <td>0.0</td>\n",
              "      <td>0.0</td>\n",
              "      <td>0.0</td>\n",
              "      <td>0.0</td>\n",
              "      <td>0.0</td>\n",
              "      <td>0.0</td>\n",
              "    </tr>\n",
              "    <tr>\n",
              "      <th>460357</th>\n",
              "      <td>84db0f17467cf4f02439e01ade57150b6ac59d9dae53ed...</td>\n",
              "      <td>-0.835344</td>\n",
              "      <td>-1.291172</td>\n",
              "      <td>1.151656</td>\n",
              "      <td>-0.135647</td>\n",
              "      <td>1</td>\n",
              "      <td>0</td>\n",
              "      <td>0.0</td>\n",
              "      <td>0.0</td>\n",
              "      <td>0.0</td>\n",
              "      <td>0.0</td>\n",
              "      <td>0.0</td>\n",
              "      <td>1.0</td>\n",
              "      <td>0.0</td>\n",
              "      <td>0.0</td>\n",
              "      <td>0.0</td>\n",
              "      <td>0.0</td>\n",
              "      <td>0.0</td>\n",
              "      <td>1.0</td>\n",
              "      <td>0.0</td>\n",
              "      <td>0.0</td>\n",
              "      <td>0.0</td>\n",
              "      <td>0.0</td>\n",
              "      <td>0.0</td>\n",
              "      <td>0.0</td>\n",
              "      <td>0.0</td>\n",
              "      <td>0.0</td>\n",
              "      <td>0.0</td>\n",
              "      <td>0.0</td>\n",
              "      <td>0.0</td>\n",
              "      <td>0.0</td>\n",
              "      <td>0.0</td>\n",
              "      <td>0.0</td>\n",
              "      <td>0.0</td>\n",
              "      <td>0.0</td>\n",
              "      <td>0.0</td>\n",
              "      <td>0.0</td>\n",
              "      <td>0.0</td>\n",
              "      <td>0.0</td>\n",
              "      <td>0.0</td>\n",
              "      <td>...</td>\n",
              "      <td>0.0</td>\n",
              "      <td>0.0</td>\n",
              "      <td>0.0</td>\n",
              "      <td>0.0</td>\n",
              "      <td>0.0</td>\n",
              "      <td>0.0</td>\n",
              "      <td>0.0</td>\n",
              "      <td>0.0</td>\n",
              "      <td>0.0</td>\n",
              "      <td>0.0</td>\n",
              "      <td>0.0</td>\n",
              "      <td>0.0</td>\n",
              "      <td>0.0</td>\n",
              "      <td>0.0</td>\n",
              "      <td>0.0</td>\n",
              "      <td>0.0</td>\n",
              "      <td>0.0</td>\n",
              "      <td>0.0</td>\n",
              "      <td>0.0</td>\n",
              "      <td>0.0</td>\n",
              "      <td>0.0</td>\n",
              "      <td>0.0</td>\n",
              "      <td>0.0</td>\n",
              "      <td>0.0</td>\n",
              "      <td>0.0</td>\n",
              "      <td>0.0</td>\n",
              "      <td>0.0</td>\n",
              "      <td>0.0</td>\n",
              "      <td>0.0</td>\n",
              "      <td>0.0</td>\n",
              "      <td>0.0</td>\n",
              "      <td>0.0</td>\n",
              "      <td>0.0</td>\n",
              "      <td>1.0</td>\n",
              "      <td>0.0</td>\n",
              "      <td>0.0</td>\n",
              "      <td>0.0</td>\n",
              "      <td>0.0</td>\n",
              "      <td>0.0</td>\n",
              "      <td>0.0</td>\n",
              "    </tr>\n",
              "    <tr>\n",
              "      <th>460358</th>\n",
              "      <td>3d43e934e150b86be1e67524f5ba1018b27da9ef25566d...</td>\n",
              "      <td>-0.952396</td>\n",
              "      <td>-0.196314</td>\n",
              "      <td>-0.100016</td>\n",
              "      <td>0.663398</td>\n",
              "      <td>1</td>\n",
              "      <td>1</td>\n",
              "      <td>0.0</td>\n",
              "      <td>0.0</td>\n",
              "      <td>0.0</td>\n",
              "      <td>0.0</td>\n",
              "      <td>0.0</td>\n",
              "      <td>1.0</td>\n",
              "      <td>0.0</td>\n",
              "      <td>0.0</td>\n",
              "      <td>0.0</td>\n",
              "      <td>0.0</td>\n",
              "      <td>0.0</td>\n",
              "      <td>0.0</td>\n",
              "      <td>0.0</td>\n",
              "      <td>0.0</td>\n",
              "      <td>0.0</td>\n",
              "      <td>0.0</td>\n",
              "      <td>0.0</td>\n",
              "      <td>0.0</td>\n",
              "      <td>0.0</td>\n",
              "      <td>0.0</td>\n",
              "      <td>0.0</td>\n",
              "      <td>0.0</td>\n",
              "      <td>0.0</td>\n",
              "      <td>0.0</td>\n",
              "      <td>0.0</td>\n",
              "      <td>0.0</td>\n",
              "      <td>0.0</td>\n",
              "      <td>0.0</td>\n",
              "      <td>0.0</td>\n",
              "      <td>0.0</td>\n",
              "      <td>0.0</td>\n",
              "      <td>0.0</td>\n",
              "      <td>0.0</td>\n",
              "      <td>...</td>\n",
              "      <td>0.0</td>\n",
              "      <td>0.0</td>\n",
              "      <td>0.0</td>\n",
              "      <td>0.0</td>\n",
              "      <td>0.0</td>\n",
              "      <td>0.0</td>\n",
              "      <td>0.0</td>\n",
              "      <td>0.0</td>\n",
              "      <td>0.0</td>\n",
              "      <td>0.0</td>\n",
              "      <td>0.0</td>\n",
              "      <td>0.0</td>\n",
              "      <td>0.0</td>\n",
              "      <td>0.0</td>\n",
              "      <td>0.0</td>\n",
              "      <td>0.0</td>\n",
              "      <td>0.0</td>\n",
              "      <td>0.0</td>\n",
              "      <td>0.0</td>\n",
              "      <td>0.0</td>\n",
              "      <td>0.0</td>\n",
              "      <td>0.0</td>\n",
              "      <td>0.0</td>\n",
              "      <td>0.0</td>\n",
              "      <td>0.0</td>\n",
              "      <td>0.0</td>\n",
              "      <td>0.0</td>\n",
              "      <td>0.0</td>\n",
              "      <td>0.0</td>\n",
              "      <td>0.0</td>\n",
              "      <td>0.0</td>\n",
              "      <td>0.0</td>\n",
              "      <td>0.0</td>\n",
              "      <td>0.0</td>\n",
              "      <td>0.0</td>\n",
              "      <td>0.0</td>\n",
              "      <td>0.0</td>\n",
              "      <td>0.0</td>\n",
              "      <td>0.0</td>\n",
              "      <td>0.0</td>\n",
              "    </tr>\n",
              "  </tbody>\n",
              "</table>\n",
              "<p>460359 rows × 111 columns</p>\n",
              "</div>"
            ],
            "text/plain": [
              "                                                       id  ...  de_natureza_juridica_SOCIEDADE UNIPESSOAL DE ADVOCACIA\n",
              "0       a6984c3ae395090e3bee8ad63c3758b110de096d5d8195...  ...                                                0.0     \n",
              "1       6178f41ade1365e44bc2c46654c2c8c0eaae27dcb476c4...  ...                                                0.0     \n",
              "2       4a7e5069a397f12fdd7fd57111d6dc5d3ba558958efc02...  ...                                                0.0     \n",
              "3       3348900fe63216a439d2e5238c79ddd46ede454df7b9d8...  ...                                                0.0     \n",
              "4       1f9bcabc9d3173c1fe769899e4fac14b053037b953a1e4...  ...                                                0.0     \n",
              "...                                                   ...  ...                                                ...     \n",
              "460354  469ee5fc984d0bb60aa2f40cda4d003d7c9b963d149ed3...  ...                                                0.0     \n",
              "460355  656f496e7e2fad708f0022d8ad97d2cb9344e839a5f3cb...  ...                                                0.0     \n",
              "460356  9b933a5cf2149d1338f00fb459d34a16b9b0f2e8d3e8e1...  ...                                                0.0     \n",
              "460357  84db0f17467cf4f02439e01ade57150b6ac59d9dae53ed...  ...                                                0.0     \n",
              "460358  3d43e934e150b86be1e67524f5ba1018b27da9ef25566d...  ...                                                0.0     \n",
              "\n",
              "[460359 rows x 111 columns]"
            ]
          },
          "metadata": {
            "tags": []
          },
          "execution_count": 103
        }
      ]
    },
    {
      "cell_type": "markdown",
      "metadata": {
        "id": "3Ye2J9914ziY",
        "colab_type": "text"
      },
      "source": [
        "# Machine Learning"
      ]
    },
    {
      "cell_type": "markdown",
      "metadata": {
        "id": "pvPd38u84ziZ",
        "colab_type": "text"
      },
      "source": [
        "## Nearest Neighbors"
      ]
    },
    {
      "cell_type": "code",
      "metadata": {
        "ExecuteTime": {
          "end_time": "2020-06-13T22:05:06.157946Z",
          "start_time": "2020-06-13T22:05:06.145891Z"
        },
        "id": "_XaDtTTw4ziZ",
        "colab_type": "code",
        "colab": {}
      },
      "source": [
        "def lead_list(port, df_train, df_market, k):\n",
        "    \"\"\"\n",
        "        Parametros\n",
        "        ----------\n",
        "\n",
        "        port = porfólio onde será obtido as ids mais próximas\n",
        "        df_train = DataFrame onde será mapeado os elementos a serem localizados\n",
        "        df_market = DataFrame do mercado para fazer o merge com as características dos leads\n",
        "        k = número de vizinhos a serem localizados\n",
        "\n",
        "        Return\n",
        "        ------\n",
        "        Dataframe dos Leads\n",
        "    \"\"\"\n",
        "    \n",
        "    df_correct = df_train[df_train['id'].apply(lambda x: x not in port['id'].values)]\n",
        "    \n",
        "    nbrs = NearestNeighbors(n_neighbors= k, metric='cosine')\n",
        "    \n",
        "    nbrs.fit(df_correct.drop('id', axis= 1))\n",
        "    \n",
        "    port_aux = df_train.merge(port, how='inner', on='id', left_index= True)\n",
        "    distances, indices = nbrs.kneighbors(port_aux.drop('id', axis= 1))\n",
        "    \n",
        "    distances = distances.flatten()\n",
        "    indices = indices.flatten()\n",
        "    \n",
        "    leads = pd.DataFrame({'id': df_correct.iloc[indices]['id'].copy()})\n",
        "    \n",
        "    del(df_correct, distances, indices)\n",
        "    leads = df_market.merge(leads, how='inner', on= 'id')\n",
        "    leads.drop_duplicates(subset='id', keep='first', inplace=True)\n",
        "    \n",
        "    return leads"
      ],
      "execution_count": 0,
      "outputs": []
    },
    {
      "cell_type": "markdown",
      "metadata": {
        "id": "_XvCIWxN4zic",
        "colab_type": "text"
      },
      "source": [
        "# Validação e métricas"
      ]
    },
    {
      "cell_type": "markdown",
      "metadata": {
        "id": "KizFpQKW4zid",
        "colab_type": "text"
      },
      "source": [
        "**Portfólio 1**"
      ]
    },
    {
      "cell_type": "code",
      "metadata": {
        "ExecuteTime": {
          "end_time": "2020-06-13T21:39:50.949653Z",
          "start_time": "2020-06-13T21:39:50.935835Z"
        },
        "id": "S5YxW6yh4zie",
        "colab_type": "code",
        "colab": {}
      },
      "source": [
        "port1_train, port1_test = train_test_split(df_port1, test_size=0.2)"
      ],
      "execution_count": 0,
      "outputs": []
    },
    {
      "cell_type": "code",
      "metadata": {
        "ExecuteTime": {
          "end_time": "2020-06-13T21:45:17.218153Z",
          "start_time": "2020-06-13T21:39:53.257069Z"
        },
        "id": "tTOonQW44zii",
        "colab_type": "code",
        "colab": {}
      },
      "source": [
        "df_leads1 = lead_list(port= port1_train, df_train= df_train, df_market= df_market, k=10)"
      ],
      "execution_count": 0,
      "outputs": []
    },
    {
      "cell_type": "code",
      "metadata": {
        "ExecuteTime": {
          "end_time": "2020-06-13T21:45:19.723442Z",
          "start_time": "2020-06-13T21:45:19.704518Z"
        },
        "id": "JCtHRHLW4zil",
        "colab_type": "code",
        "colab": {}
      },
      "source": [
        "lead_1 = df_leads1.merge(port1_test, how='inner', on='id')"
      ],
      "execution_count": 0,
      "outputs": []
    },
    {
      "cell_type": "code",
      "metadata": {
        "ExecuteTime": {
          "end_time": "2020-06-13T21:45:22.200720Z",
          "start_time": "2020-06-13T21:45:22.192450Z"
        },
        "id": "3qNc4jjs4zio",
        "colab_type": "code",
        "outputId": "7af546af-61f4-4f6b-f2c0-58b82258dcf9",
        "colab": {
          "base_uri": "https://localhost:8080/",
          "height": 34
        }
      },
      "source": [
        "lead_1.shape[0]/port1_test.shape[0] * 100"
      ],
      "execution_count": 0,
      "outputs": [
        {
          "output_type": "execute_result",
          "data": {
            "text/plain": [
              "2.7027027027027026"
            ]
          },
          "metadata": {
            "tags": []
          },
          "execution_count": 108
        }
      ]
    },
    {
      "cell_type": "markdown",
      "metadata": {
        "id": "-eDR3gsk4zit",
        "colab_type": "text"
      },
      "source": [
        "**Portfólio 2**"
      ]
    },
    {
      "cell_type": "code",
      "metadata": {
        "ExecuteTime": {
          "end_time": "2020-06-13T20:52:49.575420Z",
          "start_time": "2020-06-13T20:52:49.562608Z"
        },
        "id": "IUboHxbb4zit",
        "colab_type": "code",
        "colab": {}
      },
      "source": [
        "port2_train, port2_test = train_test_split(df_port2, test_size=0.2)"
      ],
      "execution_count": 0,
      "outputs": []
    },
    {
      "cell_type": "code",
      "metadata": {
        "ExecuteTime": {
          "end_time": "2020-06-13T20:54:33.847198Z",
          "start_time": "2020-06-13T20:52:51.729740Z"
        },
        "id": "BoztSodQ4ziz",
        "colab_type": "code",
        "colab": {}
      },
      "source": [
        "df_leads2 = lead_list(port= port2_train, df_train= df_train, df_market= df_market, k= 10)"
      ],
      "execution_count": 0,
      "outputs": []
    },
    {
      "cell_type": "code",
      "metadata": {
        "ExecuteTime": {
          "end_time": "2020-06-13T20:54:36.445710Z",
          "start_time": "2020-06-13T20:54:36.418793Z"
        },
        "id": "85KB6Bk-4zi2",
        "colab_type": "code",
        "colab": {}
      },
      "source": [
        "lead_2 = df_leads2.merge(port2_test, on='id')"
      ],
      "execution_count": 0,
      "outputs": []
    },
    {
      "cell_type": "code",
      "metadata": {
        "ExecuteTime": {
          "end_time": "2020-06-13T20:54:39.208363Z",
          "start_time": "2020-06-13T20:54:39.199804Z"
        },
        "id": "wY9VAIfF4zi7",
        "colab_type": "code",
        "outputId": "1e139aea-6051-418b-db2f-3a8a533188f1",
        "colab": {
          "base_uri": "https://localhost:8080/",
          "height": 34
        }
      },
      "source": [
        "lead_2.shape[0]/port2_test.shape[0] * 100"
      ],
      "execution_count": 0,
      "outputs": [
        {
          "output_type": "execute_result",
          "data": {
            "text/plain": [
              "64.91228070175438"
            ]
          },
          "metadata": {
            "tags": []
          },
          "execution_count": 112
        }
      ]
    },
    {
      "cell_type": "markdown",
      "metadata": {
        "id": "P_HAyNNP4zjC",
        "colab_type": "text"
      },
      "source": [
        "**Portfólio 3**"
      ]
    },
    {
      "cell_type": "code",
      "metadata": {
        "ExecuteTime": {
          "end_time": "2020-06-13T20:54:45.362217Z",
          "start_time": "2020-06-13T20:54:45.352520Z"
        },
        "id": "3UhkDeJ74zjD",
        "colab_type": "code",
        "colab": {}
      },
      "source": [
        "port3_train, port3_test = train_test_split(df_port3, test_size=0.2)"
      ],
      "execution_count": 0,
      "outputs": []
    },
    {
      "cell_type": "code",
      "metadata": {
        "ExecuteTime": {
          "end_time": "2020-06-13T20:56:01.703993Z",
          "start_time": "2020-06-13T20:54:48.101446Z"
        },
        "id": "vrHkTVgZ4zjL",
        "colab_type": "code",
        "colab": {}
      },
      "source": [
        "df_leads3 = lead_list(port= port3_train, df_train= df_train, df_market= df_market, k= 10)"
      ],
      "execution_count": 0,
      "outputs": []
    },
    {
      "cell_type": "code",
      "metadata": {
        "ExecuteTime": {
          "end_time": "2020-06-13T20:56:03.580542Z",
          "start_time": "2020-06-13T20:56:03.569886Z"
        },
        "scrolled": false,
        "id": "6aTL6vuC4zjQ",
        "colab_type": "code",
        "colab": {}
      },
      "source": [
        "lead_3 = df_leads3.merge(port3_test, on='id')"
      ],
      "execution_count": 0,
      "outputs": []
    },
    {
      "cell_type": "code",
      "metadata": {
        "ExecuteTime": {
          "end_time": "2020-06-13T20:56:05.439973Z",
          "start_time": "2020-06-13T20:56:05.434863Z"
        },
        "id": "OKLcip8_4zjV",
        "colab_type": "code",
        "outputId": "9745f68f-0896-4943-9df3-5a6aa80087ce",
        "colab": {
          "base_uri": "https://localhost:8080/",
          "height": 34
        }
      },
      "source": [
        "lead_3.shape[0]/port3_test.shape[0] * 100"
      ],
      "execution_count": 0,
      "outputs": [
        {
          "output_type": "execute_result",
          "data": {
            "text/plain": [
              "62.264150943396224"
            ]
          },
          "metadata": {
            "tags": []
          },
          "execution_count": 116
        }
      ]
    },
    {
      "cell_type": "markdown",
      "metadata": {
        "id": "W9Tep1KWQltp",
        "colab_type": "text"
      },
      "source": [
        "O resultado é um pouco assustador, mas, através de uma análise detalhada dos dados, é perceptível uma alta variabilidade das características dos clientes, gerando assim, um impecílio para o algoritmo devido a alta dispersão. Para um melhor alcance, deve-se aumentar a quantidade de K vizinhos, melhorando assim, o alcance dos dados de testes. Porém, ressalta-se que essa escolha de um K vizinho afeta diretamento o tempo de processamento do algoritmo, inviabilizando assim, a localização dos leads mais aderentes."
      ]
    },
    {
      "cell_type": "markdown",
      "metadata": {
        "id": "eTEOszXl4zja",
        "colab_type": "text"
      },
      "source": [
        "# Visualização dos resultados"
      ]
    },
    {
      "cell_type": "markdown",
      "metadata": {
        "id": "vmjapr0E4zjb",
        "colab_type": "text"
      },
      "source": [
        "Etapa de verificação para identificar o quanto os leads mais aderentes podem impactar em um negócio."
      ]
    },
    {
      "cell_type": "markdown",
      "metadata": {
        "id": "spWnRA2d4zjc",
        "colab_type": "text"
      },
      "source": [
        "## Portfólio 1"
      ]
    },
    {
      "cell_type": "code",
      "metadata": {
        "ExecuteTime": {
          "start_time": "2020-06-13T22:44:32.195Z"
        },
        "id": "pMPjuYFs4zjd",
        "colab_type": "code",
        "colab": {}
      },
      "source": [
        "#leads\n",
        "df_lead_1 = lead_list(port=df_port1, df_train= df_train, df_market= df_market, k=2)\n",
        "\n",
        "# portfólio\n",
        "df_1 = df_market.merge(df_port1, on='id')"
      ],
      "execution_count": 0,
      "outputs": []
    },
    {
      "cell_type": "markdown",
      "metadata": {
        "id": "-iLpWWcc4zjh",
        "colab_type": "text"
      },
      "source": [
        "Quantidade de leads localizados"
      ]
    },
    {
      "cell_type": "code",
      "metadata": {
        "ExecuteTime": {
          "end_time": "2020-06-13T22:15:02.994672Z",
          "start_time": "2020-06-13T22:15:02.987810Z"
        },
        "id": "XKu4iBjY4zjn",
        "colab_type": "code",
        "outputId": "63a1066c-10cc-4f2a-ad63-2bfd3d8a6781",
        "colab": {
          "base_uri": "https://localhost:8080/",
          "height": 51
        }
      },
      "source": [
        "print(f'Quantidade de leads localizados: {df_lead_1.shape[0]}')\n",
        "print(f\"Idade média das empresas: {round(df_lead_1['idade_empresa_anos'].mean(), 2)}\")"
      ],
      "execution_count": 0,
      "outputs": [
        {
          "output_type": "stream",
          "text": [
            "Quantidade de leads localizados: 1105\n",
            "Idade média das empresas: 10.16\n"
          ],
          "name": "stdout"
        }
      ]
    },
    {
      "cell_type": "markdown",
      "metadata": {
        "id": "WfG8sYEM4zjq",
        "colab_type": "text"
      },
      "source": [
        "Distribuição pela faixa de faturamento"
      ]
    },
    {
      "cell_type": "code",
      "metadata": {
        "ExecuteTime": {
          "end_time": "2020-06-13T22:41:34.479081Z",
          "start_time": "2020-06-13T22:41:34.050977Z"
        },
        "id": "CZ2mz9c-4zju",
        "colab_type": "code",
        "outputId": "3414e8b6-579b-4d34-82f3-205f3bbeaec2",
        "colab": {
          "base_uri": "https://localhost:8080/",
          "height": 571
        }
      },
      "source": [
        "plt.figure(figsize=(8, 6))\n",
        "plt.hist([df_lead_1['de_faixa_faturamento_estimado'], df_1['de_faixa_faturamento_estimado']],bins=15, label=['Leads', 'portfólio'])\n",
        "plt.title('Gráfico da faixa faturamento estimado')\n",
        "plt.xticks(rotation=90)\n",
        "plt.legend();"
      ],
      "execution_count": 0,
      "outputs": [
        {
          "output_type": "display_data",
          "data": {
            "image/png": "[encoded data removed]",
            "text/plain": [
              "<Figure size 576x432 with 1 Axes>"
            ]
          },
          "metadata": {
            "tags": [],
            "needs_background": "light"
          }
        }
      ]
    },
    {
      "cell_type": "markdown",
      "metadata": {
        "id": "tced4hY9DDvK",
        "colab_type": "text"
      },
      "source": [
        "Ao verificar-se a faixa de faturamente, é possível identificar o impacto positivo que teriam caso todos os leads tornarem-se clientes, podendo praticamente triplicar a renda."
      ]
    },
    {
      "cell_type": "markdown",
      "metadata": {
        "id": "6_2eQOCQ4zj0",
        "colab_type": "text"
      },
      "source": [
        "Distruibuição da natureza jurídica"
      ]
    },
    {
      "cell_type": "code",
      "metadata": {
        "id": "8WHz_Xy_8LVj",
        "colab_type": "code",
        "outputId": "2b709298-56f5-4105-89a6-18be51fbf697",
        "colab": {
          "base_uri": "https://localhost:8080/",
          "height": 800
        }
      },
      "source": [
        "plt.figure(figsize=(8,6))\n",
        "plt.hist([df_lead_1['de_natureza_juridica'], df_1['de_natureza_juridica']], label=['Leads', 'portfólio'])\n",
        "plt.title('Gráfico de natureza júridica')\n",
        "plt.xticks(rotation=90)\n",
        "plt.legend();"
      ],
      "execution_count": 0,
      "outputs": [
        {
          "output_type": "display_data",
          "data": {
            "image/png": "[encoded data removed]",
            "text/plain": [
              "<Figure size 576x432 with 1 Axes>"
            ]
          },
          "metadata": {
            "tags": [],
            "needs_background": "light"
          }
        }
      ]
    },
    {
      "cell_type": "code",
      "metadata": {
        "id": "vkflC67l4zj5",
        "colab_type": "code",
        "outputId": "589b52e5-8a3b-4c5c-b22a-1b140c5c665a",
        "colab": {
          "base_uri": "https://localhost:8080/",
          "height": 390
        }
      },
      "source": [
        "plt.figure(figsize=(8,6))\n",
        "plt.hist([df_lead_1['sg_uf'], df_1['sg_uf']], label=['Leads', 'portfólio'])\n",
        "plt.title('Gráfico dos estados de localização')\n",
        "plt.legend();"
      ],
      "execution_count": 0,
      "outputs": [
        {
          "output_type": "display_data",
          "data": {
            "image/png": "[encoded data removed]",
            "text/plain": [
              "<Figure size 576x432 with 1 Axes>"
            ]
          },
          "metadata": {
            "tags": [],
            "needs_background": "light"
          }
        }
      ]
    },
    {
      "cell_type": "markdown",
      "metadata": {
        "id": "aK28-cvkFUzg",
        "colab_type": "text"
      },
      "source": [
        "Distribuição dos setores"
      ]
    },
    {
      "cell_type": "code",
      "metadata": {
        "id": "L1c51rlRBIGI",
        "colab_type": "code",
        "outputId": "8f669da2-29b8-4a92-d094-8bf09475a883",
        "colab": {
          "base_uri": "https://localhost:8080/",
          "height": 390
        }
      },
      "source": [
        "plt.figure(figsize=(8,6))\n",
        "plt.hist([df_lead_1['setor'], df_1['setor']], label=['Leads', 'portfólio'])\n",
        "plt.title('Gráfico dos setores')\n",
        "plt.legend();"
      ],
      "execution_count": 0,
      "outputs": [
        {
          "output_type": "display_data",
          "data": {
            "image/png": "[encoded data removed]",
            "text/plain": [
              "<Figure size 576x432 with 1 Axes>"
            ]
          },
          "metadata": {
            "tags": [],
            "needs_background": "light"
          }
        }
      ]
    },
    {
      "cell_type": "markdown",
      "metadata": {
        "id": "8wou9oJ-Tw_n",
        "colab_type": "text"
      },
      "source": [
        "**Conclui-se com a análise dos gráficos que é possível identificar o quanto de valor de negócio pode ser alcançado ao conseguir identificar os leads mais aderentes, pois assim, será possível direcionar campanhas de captação de clientes para cidades onde os leads mais aderentes estão localizados, exemplificado neste portfólio como o Estado do Maranhão. Observa-se também que o setor de maior predominância é o de comércio.\n",
        "Através da utilização deste tipo de análise, faz-se possível obter um melhor aproveitamento de tempo dedicado a captura de leads, pois, estes tendem a ter maior probabilidade de ser convertido em novos clientes.**"
      ]
    },
    {
      "cell_type": "markdown",
      "metadata": {
        "colab_type": "text",
        "id": "Qa6xCClSpKon"
      },
      "source": [
        "## Portfólio 2"
      ]
    },
    {
      "cell_type": "code",
      "metadata": {
        "ExecuteTime": {
          "start_time": "2020-06-13T22:44:32.195Z"
        },
        "colab_type": "code",
        "id": "yYBnE7RdpKop",
        "colab": {}
      },
      "source": [
        "#leads\n",
        "df_lead_2 = lead_list(port=df_port2, df_train= df_train, df_market= df_market, k=2)\n",
        "\n",
        "# portfólio\n",
        "df_2 = df_market.merge(df_port2, on='id')"
      ],
      "execution_count": 0,
      "outputs": []
    },
    {
      "cell_type": "markdown",
      "metadata": {
        "colab_type": "text",
        "id": "0NoZuy82pKos"
      },
      "source": [
        "Quantidade de leads localizados"
      ]
    },
    {
      "cell_type": "code",
      "metadata": {
        "ExecuteTime": {
          "end_time": "2020-06-13T22:15:02.994672Z",
          "start_time": "2020-06-13T22:15:02.987810Z"
        },
        "colab_type": "code",
        "outputId": "2f39de94-8914-4158-c07b-0a02234f030e",
        "id": "pj3oOJkWpKot",
        "colab": {
          "base_uri": "https://localhost:8080/",
          "height": 51
        }
      },
      "source": [
        "print(f'Quantidade de leads localizados: {df_lead_2.shape[0]}')\n",
        "print(f\"Idade média das empresas: {round(df_lead_2['idade_empresa_anos'].mean(), 2)}\")"
      ],
      "execution_count": 0,
      "outputs": [
        {
          "output_type": "stream",
          "text": [
            "Quantidade de leads localizados: 937\n",
            "Idade média das empresas: 25.6\n"
          ],
          "name": "stdout"
        }
      ]
    },
    {
      "cell_type": "markdown",
      "metadata": {
        "colab_type": "text",
        "id": "zEJO0p15pKoy"
      },
      "source": [
        "Distribuição pela faixa de faturamento"
      ]
    },
    {
      "cell_type": "code",
      "metadata": {
        "ExecuteTime": {
          "end_time": "2020-06-13T22:41:34.479081Z",
          "start_time": "2020-06-13T22:41:34.050977Z"
        },
        "colab_type": "code",
        "outputId": "47f712e6-490a-4806-f4e4-31cae86e135f",
        "id": "M2pIAH_RpKoz",
        "colab": {
          "base_uri": "https://localhost:8080/",
          "height": 602
        }
      },
      "source": [
        "plt.figure(figsize=(8, 6))\n",
        "plt.hist([df_lead_2['de_faixa_faturamento_estimado'], df_2['de_faixa_faturamento_estimado']], label=['Leads', 'portfólio'])\n",
        "plt.title('Gráfico da faixa faturamento estimado')\n",
        "plt.xticks(rotation=90)\n",
        "plt.legend();"
      ],
      "execution_count": 0,
      "outputs": [
        {
          "output_type": "display_data",
          "data": {
            "image/png": "[encoded data removed]",
            "text/plain": [
              "<Figure size 576x432 with 1 Axes>"
            ]
          },
          "metadata": {
            "tags": [],
            "needs_background": "light"
          }
        }
      ]
    },
    {
      "cell_type": "markdown",
      "metadata": {
        "colab_type": "text",
        "id": "vBGaBC8npKo6"
      },
      "source": [
        "Distruibuição da natureza jurídica"
      ]
    },
    {
      "cell_type": "code",
      "metadata": {
        "colab_type": "code",
        "outputId": "c415c2f8-47f2-4288-e41f-ea01e258674a",
        "id": "04EQio-HpKo6",
        "colab": {
          "base_uri": "https://localhost:8080/",
          "height": 800
        }
      },
      "source": [
        "plt.figure(figsize=(8,6))\n",
        "plt.hist([df_lead_2['de_natureza_juridica'], df_2['de_natureza_juridica']],bins=20, label=['Leads', 'portfólio'])\n",
        "plt.title('Gráfico de natureza júridica')\n",
        "plt.xticks(rotation=90)\n",
        "plt.legend();"
      ],
      "execution_count": 0,
      "outputs": [
        {
          "output_type": "display_data",
          "data": {
            "image/png": "[encoded data removed]",
            "text/plain": [
              "<Figure size 576x432 with 1 Axes>"
            ]
          },
          "metadata": {
            "tags": [],
            "needs_background": "light"
          }
        }
      ]
    },
    {
      "cell_type": "code",
      "metadata": {
        "colab_type": "code",
        "outputId": "c4fecb78-5376-4acb-df5e-f315d9c1820a",
        "id": "bAwxZb6YpKo9",
        "colab": {
          "base_uri": "https://localhost:8080/",
          "height": 390
        }
      },
      "source": [
        "plt.figure(figsize=(8,6))\n",
        "plt.hist([df_lead_2['sg_uf'], df_2['sg_uf']], label=['Leads', 'portfólio'])\n",
        "plt.title('Gráfico dos estados de localização')\n",
        "plt.legend();"
      ],
      "execution_count": 0,
      "outputs": [
        {
          "output_type": "display_data",
          "data": {
            "image/png": "[encoded data removed]",
            "text/plain": [
              "<Figure size 576x432 with 1 Axes>"
            ]
          },
          "metadata": {
            "tags": [],
            "needs_background": "light"
          }
        }
      ]
    },
    {
      "cell_type": "markdown",
      "metadata": {
        "colab_type": "text",
        "id": "6Gw4xq0vpKpB"
      },
      "source": [
        "Distribuição dos setores"
      ]
    },
    {
      "cell_type": "code",
      "metadata": {
        "colab_type": "code",
        "outputId": "89ac3b33-50de-470c-cbde-946b4404d6e2",
        "id": "0YGE88tzpKpB",
        "colab": {
          "base_uri": "https://localhost:8080/",
          "height": 392
        }
      },
      "source": [
        "plt.figure(figsize=(8,6))\n",
        "plt.hist([df_lead_2['setor'], df_2['setor']], label=['Leads', 'portfólio'])\n",
        "plt.title('Gráfico dos setores')\n",
        "plt.legend();"
      ],
      "execution_count": 0,
      "outputs": [
        {
          "output_type": "display_data",
          "data": {
            "image/png": "[encoded data removed]",
            "text/plain": [
              "<Figure size 576x432 with 1 Axes>"
            ]
          },
          "metadata": {
            "tags": [],
            "needs_background": "light"
          }
        }
      ]
    },
    {
      "cell_type": "markdown",
      "metadata": {
        "colab_type": "text",
        "id": "ZcSkFuIhqWzm"
      },
      "source": [
        "## Portfólio 3"
      ]
    },
    {
      "cell_type": "code",
      "metadata": {
        "ExecuteTime": {
          "start_time": "2020-06-13T22:44:32.195Z"
        },
        "colab_type": "code",
        "id": "jALK5RZ4qWzo",
        "colab": {}
      },
      "source": [
        "#leads\n",
        "df_lead_3 = lead_list(port=df_port3, df_train= df_train, df_market= df_market, k=2)\n",
        "\n",
        "# portfólio\n",
        "df_3 = df_market.merge(df_port3, on='id')"
      ],
      "execution_count": 0,
      "outputs": []
    },
    {
      "cell_type": "markdown",
      "metadata": {
        "colab_type": "text",
        "id": "_oRBA7v9qWzt"
      },
      "source": [
        "Quantidade de leads localizados"
      ]
    },
    {
      "cell_type": "code",
      "metadata": {
        "ExecuteTime": {
          "end_time": "2020-06-13T22:15:02.994672Z",
          "start_time": "2020-06-13T22:15:02.987810Z"
        },
        "colab_type": "code",
        "outputId": "a2c1398b-faa1-424c-8b99-6e575682ad48",
        "id": "Hcj7XwyYqWzt",
        "colab": {
          "base_uri": "https://localhost:8080/",
          "height": 51
        }
      },
      "source": [
        "print(f'Quantidade de leads localizados: {df_lead_3.shape[0]}')\n",
        "print(f\"Idade média das empresas: {round(df_lead_3['idade_empresa_anos'].mean(), 2)}\")"
      ],
      "execution_count": 0,
      "outputs": [
        {
          "output_type": "stream",
          "text": [
            "Quantidade de leads localizados: 392\n",
            "Idade média das empresas: 25.34\n"
          ],
          "name": "stdout"
        }
      ]
    },
    {
      "cell_type": "markdown",
      "metadata": {
        "colab_type": "text",
        "id": "jTAATVRNqWzy"
      },
      "source": [
        "Distribuição pela faixa de faturamento"
      ]
    },
    {
      "cell_type": "code",
      "metadata": {
        "ExecuteTime": {
          "end_time": "2020-06-13T22:41:34.479081Z",
          "start_time": "2020-06-13T22:41:34.050977Z"
        },
        "colab_type": "code",
        "outputId": "821d1f41-8967-42f3-b9d6-467f2e8c4e42",
        "id": "8fxi9BLpqWzz",
        "colab": {
          "base_uri": "https://localhost:8080/",
          "height": 602
        }
      },
      "source": [
        "plt.figure(figsize=(8, 6))\n",
        "plt.hist([df_lead_3['de_faixa_faturamento_estimado'], df_3['de_faixa_faturamento_estimado']], label=['Leads', 'portfólio'])\n",
        "plt.title('Gráfico da faixa faturamento estimado')\n",
        "plt.xticks(rotation=90)\n",
        "plt.legend();"
      ],
      "execution_count": 0,
      "outputs": [
        {
          "output_type": "display_data",
          "data": {
            "image/png": "[encoded data removed]",
            "text/plain": [
              "<Figure size 576x432 with 1 Axes>"
            ]
          },
          "metadata": {
            "tags": [],
            "needs_background": "light"
          }
        }
      ]
    },
    {
      "cell_type": "markdown",
      "metadata": {
        "colab_type": "text",
        "id": "NFKPi6Q8qWz3"
      },
      "source": [
        "Distruibuição da natureza jurídica"
      ]
    },
    {
      "cell_type": "code",
      "metadata": {
        "colab_type": "code",
        "outputId": "4a285e14-3aff-463b-c1f0-6fa8f6a329ef",
        "id": "Ubd1kkboqWz3",
        "colab": {
          "base_uri": "https://localhost:8080/",
          "height": 800
        }
      },
      "source": [
        "plt.figure(figsize=(8,6))\n",
        "plt.hist([df_lead_3['de_natureza_juridica'], df_3['de_natureza_juridica']],bins=20, label=['Leads', 'portfólio'])\n",
        "plt.title('Gráfico de natureza júridica')\n",
        "plt.xticks(rotation=90)\n",
        "plt.legend();"
      ],
      "execution_count": 0,
      "outputs": [
        {
          "output_type": "display_data",
          "data": {
            "image/png": "[encoded data removed]",
            "text/plain": [
              "<Figure size 576x432 with 1 Axes>"
            ]
          },
          "metadata": {
            "tags": [],
            "needs_background": "light"
          }
        }
      ]
    },
    {
      "cell_type": "code",
      "metadata": {
        "colab_type": "code",
        "outputId": "a6c7f227-78aa-449b-eebc-eaf833666153",
        "id": "CsZLptXpqWz8",
        "colab": {
          "base_uri": "https://localhost:8080/",
          "height": 390
        }
      },
      "source": [
        "plt.figure(figsize=(8,6))\n",
        "plt.hist([df_lead_3['sg_uf'], df_3['sg_uf']], label=['Leads', 'portfólio'])\n",
        "plt.title('Gráfico dos estados de localização')\n",
        "plt.legend();"
      ],
      "execution_count": 0,
      "outputs": [
        {
          "output_type": "display_data",
          "data": {
            "image/png": "[encoded data removed]",
            "text/plain": [
              "<Figure size 576x432 with 1 Axes>"
            ]
          },
          "metadata": {
            "tags": [],
            "needs_background": "light"
          }
        }
      ]
    },
    {
      "cell_type": "markdown",
      "metadata": {
        "colab_type": "text",
        "id": "F1a6d-cSqWz_"
      },
      "source": [
        "Distribuição dos setores"
      ]
    },
    {
      "cell_type": "code",
      "metadata": {
        "colab_type": "code",
        "outputId": "c56e37fa-a7c5-4258-cf93-4d9779ce96bd",
        "id": "M7d_rm3QqW0A",
        "colab": {
          "base_uri": "https://localhost:8080/",
          "height": 390
        }
      },
      "source": [
        "plt.figure(figsize=(8,6))\n",
        "plt.hist([df_lead_3['setor'], df_3['setor']], label=['Leads', 'portfólio'])\n",
        "plt.title('Gráfico dos setores')\n",
        "plt.legend();"
      ],
      "execution_count": 0,
      "outputs": [
        {
          "output_type": "display_data",
          "data": {
            "image/png": "[encoded data removed]",
            "text/plain": [
              "<Figure size 576x432 with 1 Axes>"
            ]
          },
          "metadata": {
            "tags": [],
            "needs_background": "light"
          }
        }
      ]
    }
  ]
}